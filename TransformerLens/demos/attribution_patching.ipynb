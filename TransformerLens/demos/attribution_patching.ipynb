{
 "cells": [
  {
   "cell_type": "code",
   "execution_count": 1,
   "id": "cd96f26b-e07d-4f32-a79a-fc6cf2e43de0",
   "metadata": {},
   "outputs": [],
   "source": [
    "import warnings\n",
    "warnings.filterwarnings('ignore')"
   ]
  },
  {
   "cell_type": "code",
   "execution_count": 2,
   "id": "1b5db10d-da8e-441a-9fc2-0d977f72a7c1",
   "metadata": {},
   "outputs": [
    {
     "name": "stdout",
     "output_type": "stream",
     "text": [
      "Running as a Jupyter notebook - intended for development only!\n"
     ]
    }
   ],
   "source": [
    "# Code to do different setup when run in a Colab notebook vs VSCode\n",
    "import os\n",
    "\n",
    "DEBUG_MODE = False\n",
    "IN_GITHUB = os.getenv(\"GITHUB_ACTIONS\") == \"true\"\n",
    "try:\n",
    "    import google.colab\n",
    "\n",
    "    IN_COLAB = True\n",
    "    print(\"Running as a Colab notebook\")\n",
    "except:\n",
    "    IN_COLAB = False\n",
    "    print(\"Running as a Jupyter notebook - intended for development only!\")\n",
    "    from IPython import get_ipython\n",
    "\n",
    "    ipython = get_ipython()\n",
    "    # Code to automatically update the HookedTransformer code as its edited without restarting the kernel\n",
    "    ipython.run_line_magic(\"load_ext\", \"autoreload\")\n",
    "    ipython.run_line_magic(\"autoreload\", \"2\")\n",
    "\n",
    "if IN_COLAB or IN_GITHUB:\n",
    "    %pip install -e .\n",
    "    %pip install torchtyping\n",
    "    %pip install git+https://github.com/neelnanda-io/neel-plotly.git\n",
    "    %pip install circuitsvis\n",
    "    %pip install typeguard==2.13.3"
   ]
  },
  {
   "cell_type": "code",
   "execution_count": 3,
   "id": "e9121b2b-d408-4919-a8ca-9c9d1709622f",
   "metadata": {},
   "outputs": [],
   "source": [
    "# Plotly needs a different renderer for VSCode/Notebooks vs Colab argh\n",
    "import plotly.io as pio\n",
    "\n",
    "if IN_COLAB or not DEBUG_MODE:\n",
    "    pio.renderers.default = \"colab\"\n",
    "else:\n",
    "    pio.renderers.default = \"notebook_connected\""
   ]
  },
  {
   "cell_type": "code",
   "execution_count": 4,
   "id": "39e0644b-81cb-4573-ac08-f5ae66109430",
   "metadata": {},
   "outputs": [],
   "source": [
    "import torch\n",
    "import torch.nn as nn\n",
    "import torch.nn.functional as F\n",
    "import torch.optim as optim\n",
    "import numpy as np\n",
    "import einops\n",
    "from fancy_einsum import einsum\n",
    "import tqdm.notebook as tqdm\n",
    "import random\n",
    "from pathlib import Path\n",
    "import plotly.express as px\n",
    "from torch.utils.data import DataLoader\n",
    "\n",
    "from torchtyping import TensorType as TT\n",
    "from typing import List, Union, Optional, Callable\n",
    "from functools import partial\n",
    "import copy\n",
    "import itertools\n",
    "import json\n",
    "\n",
    "from transformers import AutoModelForCausalLM, AutoConfig, AutoTokenizer\n",
    "import dataclasses\n",
    "import datasets\n",
    "from IPython.display import HTML, Markdown"
   ]
  },
  {
   "cell_type": "code",
   "execution_count": 5,
   "id": "2550012b-48c5-4a8d-b80d-0481c9eefc29",
   "metadata": {},
   "outputs": [],
   "source": [
    "import sys\n",
    "sys.path.insert(0, \"./\")\n",
    "\n",
    "import transformer_lens\n",
    "import transformer_lens.utils as utils\n",
    "from transformer_lens.hook_points import (\n",
    "    HookedRootModule,\n",
    "    HookPoint,\n",
    ")  # Hooking utilities\n",
    "from transformer_lens import (\n",
    "    HookedTransformer,\n",
    "    HookedTransformerConfig,\n",
    "    FactoredMatrix,\n",
    "    ActivationCache,\n",
    ")"
   ]
  },
  {
   "cell_type": "code",
   "execution_count": 6,
   "id": "1210c6cd-97b4-45fe-bc6a-c7e9d9aff4c8",
   "metadata": {},
   "outputs": [],
   "source": [
    "from neel_plotly import line, imshow, scatter\n",
    "import transformer_lens.patching as patching"
   ]
  },
  {
   "cell_type": "markdown",
   "id": "420e7999-d7a1-4d8b-acb2-a8c23caace31",
   "metadata": {},
   "source": [
    "## Model Setup (use_lrp = False)"
   ]
  },
  {
   "cell_type": "code",
   "execution_count": 7,
   "id": "3c2902bd-8381-4301-911c-473b7b6b64d1",
   "metadata": {},
   "outputs": [
    {
     "name": "stdout",
     "output_type": "stream",
     "text": [
      "Loaded pretrained model gpt2-small into HookedTransformer\n"
     ]
    }
   ],
   "source": [
    "lrp_model = HookedTransformer.from_pretrained(\"gpt2-small\")\n",
    "# Access and modify the config from the loaded model\n",
    "cfg = lrp_model.cfg\n",
    "cfg.use_lrp = False\n",
    "\n",
    "# Instantiate a new model using the modified configuration\n",
    "model = HookedTransformer(cfg)\n",
    "\n",
    "# Load the pre-trained weights into the new model\n",
    "model.load_state_dict(lrp_model.state_dict())\n",
    "model.set_use_attn_result(True)\n",
    "model.set_use_hook_mlp_in(True)\n",
    "model.set_use_attn_in(True)\n",
    "model.set_use_split_qkv_input(True)"
   ]
  },
  {
   "cell_type": "markdown",
   "id": "17b1c7b6-f4cd-4e58-844c-c7ce4b513d1d",
   "metadata": {},
   "source": [
    "## IOI Patching Setup"
   ]
  },
  {
   "cell_type": "code",
   "execution_count": 8,
   "id": "89edf43d-a959-45e0-b5d0-902c05598897",
   "metadata": {},
   "outputs": [
    {
     "name": "stdout",
     "output_type": "stream",
     "text": [
      "Clean string 0 <|endoftext|>When John and Mary went to the shops, John gave the bag to\n",
      "Corrupted string 0 <|endoftext|>When John and Mary went to the shops, Mary gave the bag to\n",
      "Answer token indices tensor([[ 5335,  1757],\n",
      "        [ 1757,  5335],\n",
      "        [ 4186,  3700],\n",
      "        [ 3700,  4186],\n",
      "        [ 6035, 15686],\n",
      "        [15686,  6035],\n",
      "        [ 5780, 14235],\n",
      "        [14235,  5780]], device='cuda:0')\n"
     ]
    }
   ],
   "source": [
    "prompts = [\n",
    "    \"When John and Mary went to the shops, John gave the bag to\",\n",
    "    \"When John and Mary went to the shops, Mary gave the bag to\",\n",
    "    \"When Tom and James went to the park, James gave the ball to\",\n",
    "    \"When Tom and James went to the park, Tom gave the ball to\",\n",
    "    \"When Dan and Sid went to the shops, Sid gave an apple to\",\n",
    "    \"When Dan and Sid went to the shops, Dan gave an apple to\",\n",
    "    \"After Martin and Amy went to the park, Amy gave a drink to\",\n",
    "    \"After Martin and Amy went to the park, Martin gave a drink to\",\n",
    "]\n",
    "answers = [\n",
    "    (\" Mary\", \" John\"),\n",
    "    (\" John\", \" Mary\"),\n",
    "    (\" Tom\", \" James\"),\n",
    "    (\" James\", \" Tom\"),\n",
    "    (\" Dan\", \" Sid\"),\n",
    "    (\" Sid\", \" Dan\"),\n",
    "    (\" Martin\", \" Amy\"),\n",
    "    (\" Amy\", \" Martin\"),\n",
    "]\n",
    "\n",
    "clean_tokens = model.to_tokens(prompts)\n",
    "# Swap each adjacent pair, with a hacky list comprehension\n",
    "corrupted_tokens = clean_tokens[\n",
    "    [(i + 1 if i % 2 == 0 else i - 1) for i in range(len(clean_tokens))]\n",
    "]\n",
    "print(\"Clean string 0\", model.to_string(clean_tokens[0]))\n",
    "print(\"Corrupted string 0\", model.to_string(corrupted_tokens[0]))\n",
    "\n",
    "answer_token_indices = torch.tensor(\n",
    "    [\n",
    "        [model.to_single_token(answers[i][j]) for j in range(2)]\n",
    "        for i in range(len(answers))\n",
    "    ],\n",
    "    device=model.cfg.device,\n",
    ")\n",
    "print(\"Answer token indices\", answer_token_indices)"
   ]
  },
  {
   "cell_type": "code",
   "execution_count": 9,
   "id": "eaa4436e-b6f5-4463-90c7-36fcc10e5ffb",
   "metadata": {},
   "outputs": [
    {
     "name": "stdout",
     "output_type": "stream",
     "text": [
      "Clean logit diff: 3.5519\n",
      "Corrupted logit diff: -3.5519\n"
     ]
    }
   ],
   "source": [
    "def get_logit_diff(logits, answer_token_indices=answer_token_indices):\n",
    "    if len(logits.shape) == 3:\n",
    "        # Get final logits only\n",
    "        logits = logits[:, -1, :]\n",
    "    correct_logits = logits.gather(1, answer_token_indices[:, 0].unsqueeze(1))\n",
    "    incorrect_logits = logits.gather(1, answer_token_indices[:, 1].unsqueeze(1))\n",
    "    return (correct_logits - incorrect_logits).mean()\n",
    "\n",
    "\n",
    "clean_logits, clean_cache = model.run_with_cache(clean_tokens)\n",
    "corrupted_logits, corrupted_cache = model.run_with_cache(corrupted_tokens)\n",
    "\n",
    "clean_logit_diff = get_logit_diff(clean_logits, answer_token_indices).item()\n",
    "print(f\"Clean logit diff: {clean_logit_diff:.4f}\")\n",
    "\n",
    "corrupted_logit_diff = get_logit_diff(corrupted_logits, answer_token_indices).item()\n",
    "print(f\"Corrupted logit diff: {corrupted_logit_diff:.4f}\")"
   ]
  },
  {
   "cell_type": "code",
   "execution_count": 10,
   "id": "e44bbc98-7a9d-420a-9dab-64060d065d62",
   "metadata": {},
   "outputs": [
    {
     "name": "stdout",
     "output_type": "stream",
     "text": [
      "Clean Baseline is 1: 1.0000\n",
      "Corrupted Baseline is 0: 0.0000\n"
     ]
    }
   ],
   "source": [
    "CLEAN_BASELINE = clean_logit_diff\n",
    "CORRUPTED_BASELINE = corrupted_logit_diff\n",
    "\n",
    "\n",
    "def ioi_metric(logits, answer_token_indices=answer_token_indices):\n",
    "    return (get_logit_diff(logits, answer_token_indices) - CORRUPTED_BASELINE) / (\n",
    "        CLEAN_BASELINE - CORRUPTED_BASELINE\n",
    "    )\n",
    "\n",
    "\n",
    "print(f\"Clean Baseline is 1: {ioi_metric(clean_logits).item():.4f}\")\n",
    "print(f\"Corrupted Baseline is 0: {ioi_metric(corrupted_logits).item():.4f}\")"
   ]
  },
  {
   "cell_type": "markdown",
   "id": "c333322b-6340-431c-968a-f9824c338df2",
   "metadata": {},
   "source": [
    "## Patching"
   ]
  },
  {
   "cell_type": "code",
   "execution_count": 11,
   "id": "efe11c0f-51a7-432f-89bf-40460e6933e8",
   "metadata": {},
   "outputs": [],
   "source": [
    "Metric = Callable[[TT[\"batch_and_pos_dims\", \"d_model\"]], float]"
   ]
  },
  {
   "cell_type": "code",
   "execution_count": 12,
   "id": "022b45dc-2b78-48d0-a83e-385cfe6a8a95",
   "metadata": {},
   "outputs": [
    {
     "name": "stdout",
     "output_type": "stream",
     "text": [
      "Clean Value: 1.0\n",
      "Clean Activations Cached: 244\n",
      "Clean Gradients Cached: 232\n",
      "Corrupted Value: 0.0\n",
      "Corrupted Activations Cached: 244\n",
      "Corrupted Gradients Cached: 232\n"
     ]
    }
   ],
   "source": [
    "filter_not_qkv_input = lambda name: \"_input\" not in name\n",
    "\n",
    "\n",
    "def get_cache_fwd_and_bwd(model, tokens, metric):\n",
    "    model.reset_hooks()\n",
    "    cache = {}\n",
    "\n",
    "    def forward_cache_hook(act, hook):\n",
    "        cache[hook.name] = act.detach()\n",
    "\n",
    "    model.add_hook(filter_not_qkv_input, forward_cache_hook, \"fwd\")\n",
    "\n",
    "    grad_cache = {}\n",
    "\n",
    "    def backward_cache_hook(act, hook):\n",
    "        grad_cache[hook.name] = act.detach()\n",
    "\n",
    "    model.add_hook(filter_not_qkv_input, backward_cache_hook, \"bwd\")\n",
    "\n",
    "    value = metric(model(tokens))\n",
    "    value.backward()\n",
    "    model.reset_hooks()\n",
    "    return (\n",
    "        value.item(),\n",
    "        ActivationCache(cache, model),\n",
    "        ActivationCache(grad_cache, model),\n",
    "    )\n",
    "\n",
    "\n",
    "clean_value, clean_cache, clean_grad_cache = get_cache_fwd_and_bwd(\n",
    "    model, clean_tokens, ioi_metric\n",
    ")\n",
    "print(\"Clean Value:\", clean_value)\n",
    "print(\"Clean Activations Cached:\", len(clean_cache))\n",
    "print(\"Clean Gradients Cached:\", len(clean_grad_cache))\n",
    "corrupted_value, corrupted_cache, corrupted_grad_cache = get_cache_fwd_and_bwd(\n",
    "    model, corrupted_tokens, ioi_metric\n",
    ")\n",
    "print(\"Corrupted Value:\", corrupted_value)\n",
    "print(\"Corrupted Activations Cached:\", len(corrupted_cache))\n",
    "print(\"Corrupted Gradients Cached:\", len(corrupted_grad_cache))"
   ]
  },
  {
   "cell_type": "markdown",
   "id": "befda613-4429-4db2-82cc-76e3368cb2f5",
   "metadata": {},
   "source": [
    "## Validating LRP vs. Activation Patching"
   ]
  },
  {
   "cell_type": "code",
   "execution_count": 13,
   "id": "091df484-e6c5-4186-af0d-45074affdbba",
   "metadata": {},
   "outputs": [],
   "source": [
    "attribution_cache_dict = {}\n",
    "for key in corrupted_grad_cache.cache_dict.keys():\n",
    "    attribution_cache_dict[key] = corrupted_grad_cache.cache_dict[key] * (\n",
    "        clean_cache.cache_dict[key] - corrupted_cache.cache_dict[key]\n",
    "    )\n",
    "attr_cache = ActivationCache(attribution_cache_dict, model)"
   ]
  },
  {
   "cell_type": "markdown",
   "id": "827f3098-c4f3-4f42-9b8a-afd3cf8e4465",
   "metadata": {},
   "source": [
    "By block: For each head we patch the starting residual stream, attention output + MLP output"
   ]
  },
  {
   "cell_type": "code",
   "execution_count": 14,
   "id": "0e02bfe3-a5be-4b25-bc93-baca04c358a7",
   "metadata": {},
   "outputs": [],
   "source": [
    "str_tokens = model.to_str_tokens(clean_tokens[0])\n",
    "context_length = len(str_tokens)"
   ]
  },
  {
   "cell_type": "code",
   "execution_count": 15,
   "id": "d8e909cb-5c34-432d-a6e9-2caa9f88babd",
   "metadata": {},
   "outputs": [
    {
     "name": "stderr",
     "output_type": "stream",
     "text": [
      "100%|█████████████████████████████████████████| 180/180 [00:16<00:00, 10.87it/s]\n",
      "100%|█████████████████████████████████████████| 180/180 [00:14<00:00, 12.35it/s]\n",
      "100%|█████████████████████████████████████████| 180/180 [00:14<00:00, 12.19it/s]\n"
     ]
    },
    {
     "data": {
      "text/html": [
       "<html>\n",
       "<head><meta charset=\"utf-8\" /></head>\n",
       "<body>\n",
       "    <div>            <script src=\"https://cdnjs.cloudflare.com/ajax/libs/mathjax/2.7.5/MathJax.js?config=TeX-AMS-MML_SVG\"></script><script type=\"text/javascript\">if (window.MathJax && window.MathJax.Hub && window.MathJax.Hub.Config) {window.MathJax.Hub.Config({SVG: {font: \"STIX-Web\"}});}</script>                <script type=\"text/javascript\">window.PlotlyConfig = {MathJaxConfig: 'local'};</script>\n",
       "        <script charset=\"utf-8\" src=\"https://cdn.plot.ly/plotly-3.0.0.min.js\"></script>                <div id=\"f964c361-010e-4d50-b5e4-cdb810225f19\" class=\"plotly-graph-div\" style=\"height:525px; width:100%;\"></div>            <script type=\"text/javascript\">                window.PLOTLYENV=window.PLOTLYENV || {};                                if (document.getElementById(\"f964c361-010e-4d50-b5e4-cdb810225f19\")) {                    Plotly.newPlot(                        \"f964c361-010e-4d50-b5e4-cdb810225f19\",                        [{\"coloraxis\":\"coloraxis\",\"name\":\"0\",\"x\":[\"\\u003c|endoftext|\\u003e_0\",\"When_1\",\" John_2\",\" and_3\",\" Mary_4\",\" went_5\",\" to_6\",\" the_7\",\" shops_8\",\",_9\",\" John_10\",\" gave_11\",\" the_12\",\" bag_13\",\" to_14\"],\"z\":{\"dtype\":\"f4\",\"bdata\":\"AAAAAAAAAAAAAAAAAAAAAAAAAAAAAAAAAAAAAAAAAAAAAAAAAAAAAAAAgD8AAAAAAAAAAAAAAAAAAAAAAAAAAAAAAAAAAAAAAAAAAAAAAAAAAAAAAAAAAAAAAAAAAAAAAAAAAEwVgD82poG558keN+oKv7l+tUq4AAAAAAAAAAAAAAAAAAAAAAAAAAAAAAAAAAAAAAAAAAAAAAAAAAAAAHAigD+pE+K3nt2st4a38LlZvBu6AAAAAAAAAAAAAAAAAAAAAAAAAAAAAAAAAAAAAAAAAAAAAAAAAAAAALYIgD8UqWM6+FsHOtcfgrrm\\u002fWK6AAAAAAAAAAAAAAAAAAAAAAAAAAAAAAAAAAAAAAAAAAAAAAAAAAAAAEeyfj818bE7S3rSOgcbIrpw3dW6AAAAAAAAAAAAAAAAAAAAAAAAAAAAAAAAAAAAAAAAAAAAAAAAAAAAAGmydz95YAA9KEY6O2s2oboYMYG6AAAAAAAAAAAAAAAAAAAAAAAAAAAAAAAAAAAAAAAAAAAAAAAAAAAAAGevdz\\u002fj9v085p3pOji5\\u002frn4dSm6AAAAAAAAAAAAAAAAAAAAAAAAAAAAAAAAAAAAAAAAAAAAAAAAAAAAAK8+bD8iUFI91feaO6X5dDoipYs8AAAAAAAAAAAAAAAAAAAAAAAAAAAAAAAAAAAAAAAAAAAAAAAAAAAAAHkTKD\\u002fPb8M84W0aO+SVj7e2K6M+AAAAAAAAAAAAAAAAAAAAAAAAAAAAAAAAAAAAAAAAAAAAAAAAAAAAALWn3zyutwA9u6ruOpGdUTo6OnA\\u002fAAAAAAAAAAAAAAAAAAAAAAAAAAAAAAAAAAAAAAAAAAAAAAAAAAAAAG\\u002fj27zz36s8DRikOsiyqTk6noA\\u002fAAAAAAAAAAAAAAAAAAAAAAAAAAAAAAAAAAAAAAAAAAAAAAAAAAAAAA9gurszsGk86XH\\u002fOftnvbjRzX0\\u002f\",\"shape\":\"12, 15\"},\"type\":\"heatmap\",\"xaxis\":\"x\",\"yaxis\":\"y\",\"hovertemplate\":\"x: %{x}\\u003cbr\\u003ey: %{y}\\u003cbr\\u003ecolor: %{z}\\u003cextra\\u003e\\u003c\\u002fextra\\u003e\"},{\"coloraxis\":\"coloraxis\",\"name\":\"1\",\"x\":[\"\\u003c|endoftext|\\u003e_0\",\"When_1\",\" John_2\",\" and_3\",\" Mary_4\",\" went_5\",\" to_6\",\" the_7\",\" shops_8\",\",_9\",\" John_10\",\" gave_11\",\" the_12\",\" bag_13\",\" to_14\"],\"z\":{\"dtype\":\"f4\",\"bdata\":\"AAAAAAAAAAAAAAAAAAAAAAAAAAAAAAAAAAAAAAAAAAAAAAAAAAAAALU7ET02poG558keN+oKv7l+tUq4AAAAAAAAAAAAAAAAAAAAAAAAAAAAAAAAAAAAAAAAAAAAAAAAAAAAADuNQ7s5lqc4xge1N6c0qTj7Phy6AAAAAAAAAAAAAAAAAAAAAAAAAAAAAAAAAAAAAAAAAAAAAAAAAAAAAKOf+rqn4y46s0jPOTmjOLqwz465AAAAAAAAAAAAAAAAAAAAAAAAAAAAAAAAAAAAAAAAAAAAAAAAAAAAAL9XHj4zMnk7j7EHOmKO+7iI9BK6AAAAAAAAAAAAAAAAAAAAAAAAAAAAAAAAAAAAAAAAAAAAAAAAAAAAAF8lsbvdaqA8ICiEOiBffrlh+E86AAAAAAAAAAAAAAAAAAAAAAAAAAAAAAAAAAAAAAAAAAAAAAAAAAAAABpGtD6vEYo6K5RrOdCACzkHaq44AAAAAAAAAAAAAAAAAAAAAAAAAAAAAAAAAAAAAAAAAAAAAAAAAAAAAAJ59T0xCK48LccyO+LErzorPZM8AAAAAAAAAAAAAAAAAAAAAAAAAAAAAAAAAAAAAAAAAAAAAAAAAAAAAP0VWjwDkjw8abXEOeAMKriMX5g+AAAAAAAAAAAAAAAAAAAAAAAAAAAAAAAAAAAAAAAAAAAAAAAAAAAAAAWpxLrnJo48dEwZOse8hDrm2RE\\u002fAAAAAAAAAAAAAAAAAAAAAAAAAAAAAAAAAAAAAAAAAAAAAAAAAAAAAI23Brm9e847RMsUOUT2ozkkBYs+AAAAAAAAAAAAAAAAAAAAAAAAAAAAAAAAAAAAAAAAAAAAAAAAAAAAAE+XdbolcLY47w+uOWsoGTXMm0W+AAAAAAAAAAAAAAAAAAAAAAAAAAAAAAAAAAAAAAAAAAAAAAAAAAAAAAAAAAAAAAAAAAAAAAAAAACq9s++\",\"shape\":\"12, 15\"},\"type\":\"heatmap\",\"xaxis\":\"x2\",\"yaxis\":\"y2\",\"hovertemplate\":\"x: %{x}\\u003cbr\\u003ey: %{y}\\u003cbr\\u003ecolor: %{z}\\u003cextra\\u003e\\u003c\\u002fextra\\u003e\"},{\"coloraxis\":\"coloraxis\",\"name\":\"2\",\"x\":[\"\\u003c|endoftext|\\u003e_0\",\"When_1\",\" John_2\",\" and_3\",\" Mary_4\",\" went_5\",\" to_6\",\" the_7\",\" shops_8\",\",_9\",\" John_10\",\" gave_11\",\" the_12\",\" bag_13\",\" to_14\"],\"z\":{\"dtype\":\"f4\",\"bdata\":\"AAAAAAAAAAAAAAAAAAAAAAAAAAAAAAAAAAAAAAAAAAAAAAAAAAAAAF7NWT\\u002f70ZG5MlCYuBJ6+LkP9CY4AAAAAAAAAAAAAAAAAAAAAAAAAAAAAAAAAAAAAAAAAAAAAAAAAAAAACw+ETxejWg5g08dOaRFS7gemZ85AAAAAAAAAAAAAAAAAAAAAAAAAAAAAAAAAAAAAAAAAAAAAAAAAAAAALX\\u002fXTzcyHU4HdmsuSZOJ7r4nko6AAAAAAAAAAAAAAAAAAAAAAAAAAAAAAAAAAAAAAAAAAAAAAAAAAAAAJcw\\u002fzoL5gI68Kk1ObsWMTl079U5AAAAAAAAAAAAAAAAAAAAAAAAAAAAAAAAAAAAAAAAAAAAAAAAAAAAABYXoryzR4c7T85NuPkAMrmBfE86AAAAAAAAAAAAAAAAAAAAAAAAAAAAAAAAAAAAAAAAAAAAAAAAAAAAANuuxT27uPa63mL9uRwZOjrbtkC5AAAAAAAAAAAAAAAAAAAAAAAAAAAAAAAAAAAAAAAAAAAAAAAAAAAAAM8+grxKyV66TgACOSdP7zdmLO27AAAAAAAAAAAAAAAAAAAAAAAAAAAAAAAAAAAAAAAAAAAAAAAAAAAAALTBKTxwhk47QUYLOlGCdzlxOQs8AAAAAAAAAAAAAAAAAAAAAAAAAAAAAAAAAAAAAAAAAAAAAAAAAAAAADhXTbxV8bo37GS5udlPtTiTNLG8AAAAAAAAAAAAAAAAAAAAAAAAAAAAAAAAAAAAAAAAAAAAAAAAAAAAADEMr7kFSFQ6QmSJN+L7BzmeiAE9AAAAAAAAAAAAAAAAAAAAAAAAAAAAAAAAAAAAAAAAAAAAAAAAAAAAAOc1sjqwcku5iKbOuDaVFLksous8AAAAAAAAAAAAAAAAAAAAAAAAAAAAAAAAAAAAAAAAAAAAAAAAAAAAAAAAAAAAAAAAAAAAAAAAAACkg6c8\",\"shape\":\"12, 15\"},\"type\":\"heatmap\",\"xaxis\":\"x3\",\"yaxis\":\"y3\",\"hovertemplate\":\"x: %{x}\\u003cbr\\u003ey: %{y}\\u003cbr\\u003ecolor: %{z}\\u003cextra\\u003e\\u003c\\u002fextra\\u003e\"}],                        {\"template\":{\"data\":{\"histogram2dcontour\":[{\"type\":\"histogram2dcontour\",\"colorbar\":{\"outlinewidth\":0,\"ticks\":\"\"},\"colorscale\":[[0.0,\"#0d0887\"],[0.1111111111111111,\"#46039f\"],[0.2222222222222222,\"#7201a8\"],[0.3333333333333333,\"#9c179e\"],[0.4444444444444444,\"#bd3786\"],[0.5555555555555556,\"#d8576b\"],[0.6666666666666666,\"#ed7953\"],[0.7777777777777778,\"#fb9f3a\"],[0.8888888888888888,\"#fdca26\"],[1.0,\"#f0f921\"]]}],\"choropleth\":[{\"type\":\"choropleth\",\"colorbar\":{\"outlinewidth\":0,\"ticks\":\"\"}}],\"histogram2d\":[{\"type\":\"histogram2d\",\"colorbar\":{\"outlinewidth\":0,\"ticks\":\"\"},\"colorscale\":[[0.0,\"#0d0887\"],[0.1111111111111111,\"#46039f\"],[0.2222222222222222,\"#7201a8\"],[0.3333333333333333,\"#9c179e\"],[0.4444444444444444,\"#bd3786\"],[0.5555555555555556,\"#d8576b\"],[0.6666666666666666,\"#ed7953\"],[0.7777777777777778,\"#fb9f3a\"],[0.8888888888888888,\"#fdca26\"],[1.0,\"#f0f921\"]]}],\"heatmap\":[{\"type\":\"heatmap\",\"colorbar\":{\"outlinewidth\":0,\"ticks\":\"\"},\"colorscale\":[[0.0,\"#0d0887\"],[0.1111111111111111,\"#46039f\"],[0.2222222222222222,\"#7201a8\"],[0.3333333333333333,\"#9c179e\"],[0.4444444444444444,\"#bd3786\"],[0.5555555555555556,\"#d8576b\"],[0.6666666666666666,\"#ed7953\"],[0.7777777777777778,\"#fb9f3a\"],[0.8888888888888888,\"#fdca26\"],[1.0,\"#f0f921\"]]}],\"contourcarpet\":[{\"type\":\"contourcarpet\",\"colorbar\":{\"outlinewidth\":0,\"ticks\":\"\"}}],\"contour\":[{\"type\":\"contour\",\"colorbar\":{\"outlinewidth\":0,\"ticks\":\"\"},\"colorscale\":[[0.0,\"#0d0887\"],[0.1111111111111111,\"#46039f\"],[0.2222222222222222,\"#7201a8\"],[0.3333333333333333,\"#9c179e\"],[0.4444444444444444,\"#bd3786\"],[0.5555555555555556,\"#d8576b\"],[0.6666666666666666,\"#ed7953\"],[0.7777777777777778,\"#fb9f3a\"],[0.8888888888888888,\"#fdca26\"],[1.0,\"#f0f921\"]]}],\"surface\":[{\"type\":\"surface\",\"colorbar\":{\"outlinewidth\":0,\"ticks\":\"\"},\"colorscale\":[[0.0,\"#0d0887\"],[0.1111111111111111,\"#46039f\"],[0.2222222222222222,\"#7201a8\"],[0.3333333333333333,\"#9c179e\"],[0.4444444444444444,\"#bd3786\"],[0.5555555555555556,\"#d8576b\"],[0.6666666666666666,\"#ed7953\"],[0.7777777777777778,\"#fb9f3a\"],[0.8888888888888888,\"#fdca26\"],[1.0,\"#f0f921\"]]}],\"mesh3d\":[{\"type\":\"mesh3d\",\"colorbar\":{\"outlinewidth\":0,\"ticks\":\"\"}}],\"scatter\":[{\"fillpattern\":{\"fillmode\":\"overlay\",\"size\":10,\"solidity\":0.2},\"type\":\"scatter\"}],\"parcoords\":[{\"type\":\"parcoords\",\"line\":{\"colorbar\":{\"outlinewidth\":0,\"ticks\":\"\"}}}],\"scatterpolargl\":[{\"type\":\"scatterpolargl\",\"marker\":{\"colorbar\":{\"outlinewidth\":0,\"ticks\":\"\"}}}],\"bar\":[{\"error_x\":{\"color\":\"#2a3f5f\"},\"error_y\":{\"color\":\"#2a3f5f\"},\"marker\":{\"line\":{\"color\":\"#E5ECF6\",\"width\":0.5},\"pattern\":{\"fillmode\":\"overlay\",\"size\":10,\"solidity\":0.2}},\"type\":\"bar\"}],\"scattergeo\":[{\"type\":\"scattergeo\",\"marker\":{\"colorbar\":{\"outlinewidth\":0,\"ticks\":\"\"}}}],\"scatterpolar\":[{\"type\":\"scatterpolar\",\"marker\":{\"colorbar\":{\"outlinewidth\":0,\"ticks\":\"\"}}}],\"histogram\":[{\"marker\":{\"pattern\":{\"fillmode\":\"overlay\",\"size\":10,\"solidity\":0.2}},\"type\":\"histogram\"}],\"scattergl\":[{\"type\":\"scattergl\",\"marker\":{\"colorbar\":{\"outlinewidth\":0,\"ticks\":\"\"}}}],\"scatter3d\":[{\"type\":\"scatter3d\",\"line\":{\"colorbar\":{\"outlinewidth\":0,\"ticks\":\"\"}},\"marker\":{\"colorbar\":{\"outlinewidth\":0,\"ticks\":\"\"}}}],\"scattermap\":[{\"type\":\"scattermap\",\"marker\":{\"colorbar\":{\"outlinewidth\":0,\"ticks\":\"\"}}}],\"scattermapbox\":[{\"type\":\"scattermapbox\",\"marker\":{\"colorbar\":{\"outlinewidth\":0,\"ticks\":\"\"}}}],\"scatterternary\":[{\"type\":\"scatterternary\",\"marker\":{\"colorbar\":{\"outlinewidth\":0,\"ticks\":\"\"}}}],\"scattercarpet\":[{\"type\":\"scattercarpet\",\"marker\":{\"colorbar\":{\"outlinewidth\":0,\"ticks\":\"\"}}}],\"carpet\":[{\"aaxis\":{\"endlinecolor\":\"#2a3f5f\",\"gridcolor\":\"white\",\"linecolor\":\"white\",\"minorgridcolor\":\"white\",\"startlinecolor\":\"#2a3f5f\"},\"baxis\":{\"endlinecolor\":\"#2a3f5f\",\"gridcolor\":\"white\",\"linecolor\":\"white\",\"minorgridcolor\":\"white\",\"startlinecolor\":\"#2a3f5f\"},\"type\":\"carpet\"}],\"table\":[{\"cells\":{\"fill\":{\"color\":\"#EBF0F8\"},\"line\":{\"color\":\"white\"}},\"header\":{\"fill\":{\"color\":\"#C8D4E3\"},\"line\":{\"color\":\"white\"}},\"type\":\"table\"}],\"barpolar\":[{\"marker\":{\"line\":{\"color\":\"#E5ECF6\",\"width\":0.5},\"pattern\":{\"fillmode\":\"overlay\",\"size\":10,\"solidity\":0.2}},\"type\":\"barpolar\"}],\"pie\":[{\"automargin\":true,\"type\":\"pie\"}]},\"layout\":{\"autotypenumbers\":\"strict\",\"colorway\":[\"#636efa\",\"#EF553B\",\"#00cc96\",\"#ab63fa\",\"#FFA15A\",\"#19d3f3\",\"#FF6692\",\"#B6E880\",\"#FF97FF\",\"#FECB52\"],\"font\":{\"color\":\"#2a3f5f\"},\"hovermode\":\"closest\",\"hoverlabel\":{\"align\":\"left\"},\"paper_bgcolor\":\"white\",\"plot_bgcolor\":\"#E5ECF6\",\"polar\":{\"bgcolor\":\"#E5ECF6\",\"angularaxis\":{\"gridcolor\":\"white\",\"linecolor\":\"white\",\"ticks\":\"\"},\"radialaxis\":{\"gridcolor\":\"white\",\"linecolor\":\"white\",\"ticks\":\"\"}},\"ternary\":{\"bgcolor\":\"#E5ECF6\",\"aaxis\":{\"gridcolor\":\"white\",\"linecolor\":\"white\",\"ticks\":\"\"},\"baxis\":{\"gridcolor\":\"white\",\"linecolor\":\"white\",\"ticks\":\"\"},\"caxis\":{\"gridcolor\":\"white\",\"linecolor\":\"white\",\"ticks\":\"\"}},\"coloraxis\":{\"colorbar\":{\"outlinewidth\":0,\"ticks\":\"\"}},\"colorscale\":{\"sequential\":[[0.0,\"#0d0887\"],[0.1111111111111111,\"#46039f\"],[0.2222222222222222,\"#7201a8\"],[0.3333333333333333,\"#9c179e\"],[0.4444444444444444,\"#bd3786\"],[0.5555555555555556,\"#d8576b\"],[0.6666666666666666,\"#ed7953\"],[0.7777777777777778,\"#fb9f3a\"],[0.8888888888888888,\"#fdca26\"],[1.0,\"#f0f921\"]],\"sequentialminus\":[[0.0,\"#0d0887\"],[0.1111111111111111,\"#46039f\"],[0.2222222222222222,\"#7201a8\"],[0.3333333333333333,\"#9c179e\"],[0.4444444444444444,\"#bd3786\"],[0.5555555555555556,\"#d8576b\"],[0.6666666666666666,\"#ed7953\"],[0.7777777777777778,\"#fb9f3a\"],[0.8888888888888888,\"#fdca26\"],[1.0,\"#f0f921\"]],\"diverging\":[[0,\"#8e0152\"],[0.1,\"#c51b7d\"],[0.2,\"#de77ae\"],[0.3,\"#f1b6da\"],[0.4,\"#fde0ef\"],[0.5,\"#f7f7f7\"],[0.6,\"#e6f5d0\"],[0.7,\"#b8e186\"],[0.8,\"#7fbc41\"],[0.9,\"#4d9221\"],[1,\"#276419\"]]},\"xaxis\":{\"gridcolor\":\"white\",\"linecolor\":\"white\",\"ticks\":\"\",\"title\":{\"standoff\":15},\"zerolinecolor\":\"white\",\"automargin\":true,\"zerolinewidth\":2},\"yaxis\":{\"gridcolor\":\"white\",\"linecolor\":\"white\",\"ticks\":\"\",\"title\":{\"standoff\":15},\"zerolinecolor\":\"white\",\"automargin\":true,\"zerolinewidth\":2},\"scene\":{\"xaxis\":{\"backgroundcolor\":\"#E5ECF6\",\"gridcolor\":\"white\",\"linecolor\":\"white\",\"showbackground\":true,\"ticks\":\"\",\"zerolinecolor\":\"white\",\"gridwidth\":2},\"yaxis\":{\"backgroundcolor\":\"#E5ECF6\",\"gridcolor\":\"white\",\"linecolor\":\"white\",\"showbackground\":true,\"ticks\":\"\",\"zerolinecolor\":\"white\",\"gridwidth\":2},\"zaxis\":{\"backgroundcolor\":\"#E5ECF6\",\"gridcolor\":\"white\",\"linecolor\":\"white\",\"showbackground\":true,\"ticks\":\"\",\"zerolinecolor\":\"white\",\"gridwidth\":2}},\"shapedefaults\":{\"line\":{\"color\":\"#2a3f5f\"}},\"annotationdefaults\":{\"arrowcolor\":\"#2a3f5f\",\"arrowhead\":0,\"arrowwidth\":1},\"geo\":{\"bgcolor\":\"white\",\"landcolor\":\"#E5ECF6\",\"subunitcolor\":\"white\",\"showland\":true,\"showlakes\":true,\"lakecolor\":\"white\"},\"title\":{\"x\":0.05},\"mapbox\":{\"style\":\"light\"}}},\"xaxis\":{\"anchor\":\"y\",\"domain\":[0.0,0.31999999999999995],\"title\":{\"text\":\"Position\"}},\"yaxis\":{\"anchor\":\"x\",\"domain\":[0.0,1.0],\"autorange\":\"reversed\",\"title\":{\"text\":\"Layer\"}},\"xaxis2\":{\"anchor\":\"y2\",\"domain\":[0.33999999999999997,0.6599999999999999],\"matches\":\"x\",\"title\":{\"text\":\"Position\"}},\"yaxis2\":{\"anchor\":\"x2\",\"domain\":[0.0,1.0],\"matches\":\"y\",\"showticklabels\":false},\"xaxis3\":{\"anchor\":\"y3\",\"domain\":[0.6799999999999999,0.9999999999999999],\"matches\":\"x\",\"title\":{\"text\":\"Position\"}},\"yaxis3\":{\"anchor\":\"x3\",\"domain\":[0.0,1.0],\"matches\":\"y\",\"showticklabels\":false},\"annotations\":[{\"font\":{},\"showarrow\":false,\"text\":\"Residual Stream\",\"x\":0.15999999999999998,\"xanchor\":\"center\",\"xref\":\"paper\",\"y\":1.0,\"yanchor\":\"bottom\",\"yref\":\"paper\"},{\"font\":{},\"showarrow\":false,\"text\":\"Attn Output\",\"x\":0.49999999999999994,\"xanchor\":\"center\",\"xref\":\"paper\",\"y\":1.0,\"yanchor\":\"bottom\",\"yref\":\"paper\"},{\"font\":{},\"showarrow\":false,\"text\":\"MLP Output\",\"x\":0.8399999999999999,\"xanchor\":\"center\",\"xref\":\"paper\",\"y\":1.0,\"yanchor\":\"bottom\",\"yref\":\"paper\"}],\"coloraxis\":{\"colorscale\":[[0.0,\"rgb(103,0,31)\"],[0.1,\"rgb(178,24,43)\"],[0.2,\"rgb(214,96,77)\"],[0.3,\"rgb(244,165,130)\"],[0.4,\"rgb(253,219,199)\"],[0.5,\"rgb(247,247,247)\"],[0.6,\"rgb(209,229,240)\"],[0.7,\"rgb(146,197,222)\"],[0.8,\"rgb(67,147,195)\"],[0.9,\"rgb(33,102,172)\"],[1.0,\"rgb(5,48,97)\"]],\"cmid\":0.0,\"cmin\":-1,\"cmax\":1},\"title\":{\"text\":\"Activation Patching Per Block\"}},                        {\"responsive\": true}                    ).then(function(){\n",
       "                            \n",
       "var gd = document.getElementById('f964c361-010e-4d50-b5e4-cdb810225f19');\n",
       "var x = new MutationObserver(function (mutations, observer) {{\n",
       "        var display = window.getComputedStyle(gd).display;\n",
       "        if (!display || display === 'none') {{\n",
       "            console.log([gd, 'removed!']);\n",
       "            Plotly.purge(gd);\n",
       "            observer.disconnect();\n",
       "        }}\n",
       "}});\n",
       "\n",
       "// Listen for the removal of the full notebook cells\n",
       "var notebookContainer = gd.closest('#notebook-container');\n",
       "if (notebookContainer) {{\n",
       "    x.observe(notebookContainer, {childList: true});\n",
       "}}\n",
       "\n",
       "// Listen for the clearing of the current output cell\n",
       "var outputEl = gd.closest('.output');\n",
       "if (outputEl) {{\n",
       "    x.observe(outputEl, {childList: true});\n",
       "}}\n",
       "\n",
       "                        })                };            </script>        </div>\n",
       "</body>\n",
       "</html>"
      ]
     },
     "metadata": {},
     "output_type": "display_data"
    }
   ],
   "source": [
    "every_block_act_patch_result = patching.get_act_patch_block_every(\n",
    "    model, corrupted_tokens, clean_cache, ioi_metric\n",
    ")\n",
    "imshow(\n",
    "    every_block_act_patch_result,\n",
    "    facet_col=0,\n",
    "    facet_labels=[\"Residual Stream\", \"Attn Output\", \"MLP Output\"],\n",
    "    title=\"Activation Patching Per Block\",\n",
    "    xaxis=\"Position\",\n",
    "    yaxis=\"Layer\",\n",
    "    zmax=1,\n",
    "    zmin=-1,\n",
    "    x=[f\"{tok}_{i}\" for i, tok in enumerate(model.to_str_tokens(clean_tokens[0]))],\n",
    ")"
   ]
  },
  {
   "cell_type": "code",
   "execution_count": 16,
   "id": "24f1788e-dd36-4971-92e0-b3964a3f6915",
   "metadata": {},
   "outputs": [
    {
     "data": {
      "text/html": [
       "<html>\n",
       "<head><meta charset=\"utf-8\" /></head>\n",
       "<body>\n",
       "    <div>            <script src=\"https://cdnjs.cloudflare.com/ajax/libs/mathjax/2.7.5/MathJax.js?config=TeX-AMS-MML_SVG\"></script><script type=\"text/javascript\">if (window.MathJax && window.MathJax.Hub && window.MathJax.Hub.Config) {window.MathJax.Hub.Config({SVG: {font: \"STIX-Web\"}});}</script>                <script type=\"text/javascript\">window.PlotlyConfig = {MathJaxConfig: 'local'};</script>\n",
       "        <script charset=\"utf-8\" src=\"https://cdn.plot.ly/plotly-3.0.0.min.js\"></script>                <div id=\"116a73fe-a433-4cc1-b5f6-c0ead06671fa\" class=\"plotly-graph-div\" style=\"height:525px; width:100%;\"></div>            <script type=\"text/javascript\">                window.PLOTLYENV=window.PLOTLYENV || {};                                if (document.getElementById(\"116a73fe-a433-4cc1-b5f6-c0ead06671fa\")) {                    Plotly.newPlot(                        \"116a73fe-a433-4cc1-b5f6-c0ead06671fa\",                        [{\"coloraxis\":\"coloraxis\",\"name\":\"0\",\"x\":[\"\\u003c|endoftext|\\u003e_0\",\"When_1\",\" John_2\",\" and_3\",\" Mary_4\",\" went_5\",\" to_6\",\" the_7\",\" shops_8\",\",_9\",\" John_10\",\" gave_11\",\" the_12\",\" bag_13\",\" to_14\"],\"z\":{\"dtype\":\"f4\",\"bdata\":\"AAAAAAAAAAAAAAAAAAAAAAAAAAAAAAAAAAAAAAAAAAAAAAAAAAAAAOfzybwAAAAAAAAAAAAAAAAAAAAAAAAAAAAAAAAAAAAAAAAAAAAAAAAAAAAAAAAAAAAAAAAAAAAAAAAAAGAETT0nXr25sC5jNxzPlrlYPS64AAAAAAAAAAAAAAAAAAAAAAAAAAAAAAAAAAAAAAAAAAAAAAAAAAAAADrctD3sDMi4zuIFuPp5\\u002frkYGxq6AAAAAAAAAAAAAAAAAAAAAAAAAAAAAAAAAAAAAAAAAAAAAAAAAAAAACqp8z2YaME5Zs37OTiUgbqpHWm6AAAAAAAAAAAAAAAAAAAAAAAAAAAAAAAAAAAAAAAAAAAAAAAAAAAAAIwOMD6CaIM7NV\\u002fHOvDBJbqQE9+6AAAAAAAAAAAAAAAAAAAAAAAAAAAAAAAAAAAAAAAAAAAAAAAAAAAAAPGomD5lH848AbcqO3OzlLocpp66AAAAAAAAAAAAAAAAAAAAAAAAAAAAAAAAAAAAAAAAAAAAAAAAAAAAAISNFj\\u002fkEd88ehrbOtxfALpFSZe6AAAAAAAAAAAAAAAAAAAAAAAAAAAAAAAAAAAAAAAAAAAAAAAAAAAAAPyBBD8UJzw9V6CSOwKwdjqMuXc8AAAAAAAAAAAAAAAAAAAAAAAAAAAAAAAAAAAAAAAAAAAAAAAAAAAAAASuoj7bcaE8dIULOzi9H7hehJE+AAAAAAAAAAAAAAAAAAAAAAAAAAAAAAAAAAAAAAAAAAAAAAAAAAAAAIfdz71ubsI8lY\\u002fVOsgcTTqh\\u002f00\\u002fAAAAAAAAAAAAAAAAAAAAAAAAAAAAAAAAAAAAAAAAAAAAAAAAAAAAACGhE74sAYQ83HWUOgJ8jjlsGpI\\u002fAAAAAAAAAAAAAAAAAAAAAAAAAAAAAAAAAAAAAAAAAAAAAAAAAAAAAJYLzb0OG2M8\\u002fB8QOmxF17ha7Xs\\u002f\",\"shape\":\"12, 15\"},\"type\":\"heatmap\",\"xaxis\":\"x\",\"yaxis\":\"y\",\"hovertemplate\":\"x: %{x}\\u003cbr\\u003ey: %{y}\\u003cbr\\u003ecolor: %{z}\\u003cextra\\u003e\\u003c\\u002fextra\\u003e\"},{\"coloraxis\":\"coloraxis\",\"name\":\"1\",\"x\":[\"\\u003c|endoftext|\\u003e_0\",\"When_1\",\" John_2\",\" and_3\",\" Mary_4\",\" went_5\",\" to_6\",\" the_7\",\" shops_8\",\",_9\",\" John_10\",\" gave_11\",\" the_12\",\" bag_13\",\" to_14\"],\"z\":{\"dtype\":\"f4\",\"bdata\":\"AAAAAAAAAAAAAAAAAAAAAAAAAAAAAAAAAAAAAAAAAAAAAAAAAAAAADhbertuFUe6GswwuJmloLmQdu42AAAAAAAAAAAAAAAAAAAAAAAAAAAAAAAAAAAAAAAAAAAAAAAAAAAAACPXj7v8FWs4cLp9N67x0jidVhS6AAAAAAAAAAAAAAAAAAAAAAAAAAAAAAAAAAAAAAAAAAAAAAAAAAAAAGZnJruXKh86SoyoOYMjSbr8u4O5AAAAAAAAAAAAAAAAAAAAAAAAAAAAAAAAAAAAAAAAAAAAAAAAAAAAABp03D3InF07MMz0OecM9Lhs6ym6AAAAAAAAAAAAAAAAAAAAAAAAAAAAAAAAAAAAAAAAAAAAAAAAAAAAADT5yrvWQIU8ZH12On7nabklHDc6AAAAAAAAAAAAAAAAAAAAAAAAAAAAAAAAAAAAAAAAAAAAAAAAAAAAAGRmjj7+zHU6SRJWOZJAFDkgkZm4AAAAAAAAAAAAAAAAAAAAAAAAAAAAAAAAAAAAAAAAAAAAAAAAAAAAAFJkxT3IXZc8NMYoO+7dsTqYEYQ8AAAAAAAAAAAAAAAAAAAAAAAAAAAAAAAAAAAAAAAAAAAAAAAAAAAAANZsEjzQniI872W+OajXKrjFwoU+AAAAAAAAAAAAAAAAAAAAAAAAAAAAAAAAAAAAAAAAAAAAAAAAAAAAAH291Lr6IYc8NBsbOmwohDreVyE\\u002fAAAAAAAAAAAAAAAAAAAAAAAAAAAAAAAAAAAAAAAAAAAAAAAAAAAAACStCbk2AHY78DYZOcDtojnwt80+AAAAAAAAAAAAAAAAAAAAAAAAAAAAAAAAAAAAAAAAAAAAAAAAAAAAAIusebpAoOY2fw+wOUBkIbaSdSC+AAAAAAAAAAAAAAAAAAAAAAAAAAAAAAAAAAAAAAAAAAAAAAAAAAAAAAAAAAAAAAAAAAAAAAAAAABnVtO+\",\"shape\":\"12, 15\"},\"type\":\"heatmap\",\"xaxis\":\"x2\",\"yaxis\":\"y2\",\"hovertemplate\":\"x: %{x}\\u003cbr\\u003ey: %{y}\\u003cbr\\u003ecolor: %{z}\\u003cextra\\u003e\\u003c\\u002fextra\\u003e\"},{\"coloraxis\":\"coloraxis\",\"name\":\"2\",\"x\":[\"\\u003c|endoftext|\\u003e_0\",\"When_1\",\" John_2\",\" and_3\",\" Mary_4\",\" went_5\",\" to_6\",\" the_7\",\" shops_8\",\",_9\",\" John_10\",\" gave_11\",\" the_12\",\" bag_13\",\" to_14\"],\"z\":{\"dtype\":\"f4\",\"bdata\":\"AAAAAAAAAAAAAAAAAAAAAAAAAAAAAAAAAAAAAAAAAAAAAAAAAAAAAJlAFT19C7e5+OuxuLu32bkgim84AAAAAAAAAAAAAAAAAAAAAAAAAAAAAAAAAAAAAAAAAAAAAAAAAAAAAOCp3bsXFIY5J4YJOfSRrLjLFqY5AAAAAAAAAAAAAAAAAAAAAAAAAAAAAAAAAAAAAAAAAAAAAAAAAAAAAH6OjbtAHpy3cgGbuRwOIroS9kE6AAAAAAAAAAAAAAAAAAAAAAAAAAAAAAAAAAAAAAAAAAAAAAAAAAAAACFXG7xQGiM5onE6OfvUHzlTa7w5AAAAAAAAAAAAAAAAAAAAAAAAAAAAAAAAAAAAAAAAAAAAAAAAAAAAAPQaLb3+hmY76MnguHBeVrlYoDA6AAAAAAAAAAAAAAAAAAAAAAAAAAAAAAAAAAAAAAAAAAAAAAAAAAAAAIj0hj0sIS2707kFukQ2Nzqlv8+5AAAAAAAAAAAAAAAAAAAAAAAAAAAAAAAAAAAAAAAAAAAAAAAAAAAAAMIyG7305ru6irfiOG5CEDj1cwC8AAAAAAAAAAAAAAAAAAAAAAAAAAAAAAAAAAAAAAAAAAAAAAAAAAAAABAY7Lt0Fzc7C0AKOnfOeTlg08s7AAAAAAAAAAAAAAAAAAAAAAAAAAAAAAAAAAAAAAAAAAAAAAAAAAAAAOwgRLwIwsC4N5i4uR7yszgITrm8AAAAAAAAAAAAAAAAAAAAAAAAAAAAAAAAAAAAAAAAAAAAAAAAAAAAAFplhLntxR06GnOYNygWBzlkqRE9AAAAAAAAAAAAAAAAAAAAAAAAAAAAAAAAAAAAAAAAAAAAAAAAAAAAAFD3dDpT5zq5mk3QuAebFLnAgeM8AAAAAAAAAAAAAAAAAAAAAAAAAAAAAAAAAAAAAAAAAAAAAAAAAAAAAAAAAAAAAAAAAAAAAAAAAAD6GKs8\",\"shape\":\"12, 15\"},\"type\":\"heatmap\",\"xaxis\":\"x3\",\"yaxis\":\"y3\",\"hovertemplate\":\"x: %{x}\\u003cbr\\u003ey: %{y}\\u003cbr\\u003ecolor: %{z}\\u003cextra\\u003e\\u003c\\u002fextra\\u003e\"}],                        {\"template\":{\"data\":{\"histogram2dcontour\":[{\"type\":\"histogram2dcontour\",\"colorbar\":{\"outlinewidth\":0,\"ticks\":\"\"},\"colorscale\":[[0.0,\"#0d0887\"],[0.1111111111111111,\"#46039f\"],[0.2222222222222222,\"#7201a8\"],[0.3333333333333333,\"#9c179e\"],[0.4444444444444444,\"#bd3786\"],[0.5555555555555556,\"#d8576b\"],[0.6666666666666666,\"#ed7953\"],[0.7777777777777778,\"#fb9f3a\"],[0.8888888888888888,\"#fdca26\"],[1.0,\"#f0f921\"]]}],\"choropleth\":[{\"type\":\"choropleth\",\"colorbar\":{\"outlinewidth\":0,\"ticks\":\"\"}}],\"histogram2d\":[{\"type\":\"histogram2d\",\"colorbar\":{\"outlinewidth\":0,\"ticks\":\"\"},\"colorscale\":[[0.0,\"#0d0887\"],[0.1111111111111111,\"#46039f\"],[0.2222222222222222,\"#7201a8\"],[0.3333333333333333,\"#9c179e\"],[0.4444444444444444,\"#bd3786\"],[0.5555555555555556,\"#d8576b\"],[0.6666666666666666,\"#ed7953\"],[0.7777777777777778,\"#fb9f3a\"],[0.8888888888888888,\"#fdca26\"],[1.0,\"#f0f921\"]]}],\"heatmap\":[{\"type\":\"heatmap\",\"colorbar\":{\"outlinewidth\":0,\"ticks\":\"\"},\"colorscale\":[[0.0,\"#0d0887\"],[0.1111111111111111,\"#46039f\"],[0.2222222222222222,\"#7201a8\"],[0.3333333333333333,\"#9c179e\"],[0.4444444444444444,\"#bd3786\"],[0.5555555555555556,\"#d8576b\"],[0.6666666666666666,\"#ed7953\"],[0.7777777777777778,\"#fb9f3a\"],[0.8888888888888888,\"#fdca26\"],[1.0,\"#f0f921\"]]}],\"contourcarpet\":[{\"type\":\"contourcarpet\",\"colorbar\":{\"outlinewidth\":0,\"ticks\":\"\"}}],\"contour\":[{\"type\":\"contour\",\"colorbar\":{\"outlinewidth\":0,\"ticks\":\"\"},\"colorscale\":[[0.0,\"#0d0887\"],[0.1111111111111111,\"#46039f\"],[0.2222222222222222,\"#7201a8\"],[0.3333333333333333,\"#9c179e\"],[0.4444444444444444,\"#bd3786\"],[0.5555555555555556,\"#d8576b\"],[0.6666666666666666,\"#ed7953\"],[0.7777777777777778,\"#fb9f3a\"],[0.8888888888888888,\"#fdca26\"],[1.0,\"#f0f921\"]]}],\"surface\":[{\"type\":\"surface\",\"colorbar\":{\"outlinewidth\":0,\"ticks\":\"\"},\"colorscale\":[[0.0,\"#0d0887\"],[0.1111111111111111,\"#46039f\"],[0.2222222222222222,\"#7201a8\"],[0.3333333333333333,\"#9c179e\"],[0.4444444444444444,\"#bd3786\"],[0.5555555555555556,\"#d8576b\"],[0.6666666666666666,\"#ed7953\"],[0.7777777777777778,\"#fb9f3a\"],[0.8888888888888888,\"#fdca26\"],[1.0,\"#f0f921\"]]}],\"mesh3d\":[{\"type\":\"mesh3d\",\"colorbar\":{\"outlinewidth\":0,\"ticks\":\"\"}}],\"scatter\":[{\"fillpattern\":{\"fillmode\":\"overlay\",\"size\":10,\"solidity\":0.2},\"type\":\"scatter\"}],\"parcoords\":[{\"type\":\"parcoords\",\"line\":{\"colorbar\":{\"outlinewidth\":0,\"ticks\":\"\"}}}],\"scatterpolargl\":[{\"type\":\"scatterpolargl\",\"marker\":{\"colorbar\":{\"outlinewidth\":0,\"ticks\":\"\"}}}],\"bar\":[{\"error_x\":{\"color\":\"#2a3f5f\"},\"error_y\":{\"color\":\"#2a3f5f\"},\"marker\":{\"line\":{\"color\":\"#E5ECF6\",\"width\":0.5},\"pattern\":{\"fillmode\":\"overlay\",\"size\":10,\"solidity\":0.2}},\"type\":\"bar\"}],\"scattergeo\":[{\"type\":\"scattergeo\",\"marker\":{\"colorbar\":{\"outlinewidth\":0,\"ticks\":\"\"}}}],\"scatterpolar\":[{\"type\":\"scatterpolar\",\"marker\":{\"colorbar\":{\"outlinewidth\":0,\"ticks\":\"\"}}}],\"histogram\":[{\"marker\":{\"pattern\":{\"fillmode\":\"overlay\",\"size\":10,\"solidity\":0.2}},\"type\":\"histogram\"}],\"scattergl\":[{\"type\":\"scattergl\",\"marker\":{\"colorbar\":{\"outlinewidth\":0,\"ticks\":\"\"}}}],\"scatter3d\":[{\"type\":\"scatter3d\",\"line\":{\"colorbar\":{\"outlinewidth\":0,\"ticks\":\"\"}},\"marker\":{\"colorbar\":{\"outlinewidth\":0,\"ticks\":\"\"}}}],\"scattermap\":[{\"type\":\"scattermap\",\"marker\":{\"colorbar\":{\"outlinewidth\":0,\"ticks\":\"\"}}}],\"scattermapbox\":[{\"type\":\"scattermapbox\",\"marker\":{\"colorbar\":{\"outlinewidth\":0,\"ticks\":\"\"}}}],\"scatterternary\":[{\"type\":\"scatterternary\",\"marker\":{\"colorbar\":{\"outlinewidth\":0,\"ticks\":\"\"}}}],\"scattercarpet\":[{\"type\":\"scattercarpet\",\"marker\":{\"colorbar\":{\"outlinewidth\":0,\"ticks\":\"\"}}}],\"carpet\":[{\"aaxis\":{\"endlinecolor\":\"#2a3f5f\",\"gridcolor\":\"white\",\"linecolor\":\"white\",\"minorgridcolor\":\"white\",\"startlinecolor\":\"#2a3f5f\"},\"baxis\":{\"endlinecolor\":\"#2a3f5f\",\"gridcolor\":\"white\",\"linecolor\":\"white\",\"minorgridcolor\":\"white\",\"startlinecolor\":\"#2a3f5f\"},\"type\":\"carpet\"}],\"table\":[{\"cells\":{\"fill\":{\"color\":\"#EBF0F8\"},\"line\":{\"color\":\"white\"}},\"header\":{\"fill\":{\"color\":\"#C8D4E3\"},\"line\":{\"color\":\"white\"}},\"type\":\"table\"}],\"barpolar\":[{\"marker\":{\"line\":{\"color\":\"#E5ECF6\",\"width\":0.5},\"pattern\":{\"fillmode\":\"overlay\",\"size\":10,\"solidity\":0.2}},\"type\":\"barpolar\"}],\"pie\":[{\"automargin\":true,\"type\":\"pie\"}]},\"layout\":{\"autotypenumbers\":\"strict\",\"colorway\":[\"#636efa\",\"#EF553B\",\"#00cc96\",\"#ab63fa\",\"#FFA15A\",\"#19d3f3\",\"#FF6692\",\"#B6E880\",\"#FF97FF\",\"#FECB52\"],\"font\":{\"color\":\"#2a3f5f\"},\"hovermode\":\"closest\",\"hoverlabel\":{\"align\":\"left\"},\"paper_bgcolor\":\"white\",\"plot_bgcolor\":\"#E5ECF6\",\"polar\":{\"bgcolor\":\"#E5ECF6\",\"angularaxis\":{\"gridcolor\":\"white\",\"linecolor\":\"white\",\"ticks\":\"\"},\"radialaxis\":{\"gridcolor\":\"white\",\"linecolor\":\"white\",\"ticks\":\"\"}},\"ternary\":{\"bgcolor\":\"#E5ECF6\",\"aaxis\":{\"gridcolor\":\"white\",\"linecolor\":\"white\",\"ticks\":\"\"},\"baxis\":{\"gridcolor\":\"white\",\"linecolor\":\"white\",\"ticks\":\"\"},\"caxis\":{\"gridcolor\":\"white\",\"linecolor\":\"white\",\"ticks\":\"\"}},\"coloraxis\":{\"colorbar\":{\"outlinewidth\":0,\"ticks\":\"\"}},\"colorscale\":{\"sequential\":[[0.0,\"#0d0887\"],[0.1111111111111111,\"#46039f\"],[0.2222222222222222,\"#7201a8\"],[0.3333333333333333,\"#9c179e\"],[0.4444444444444444,\"#bd3786\"],[0.5555555555555556,\"#d8576b\"],[0.6666666666666666,\"#ed7953\"],[0.7777777777777778,\"#fb9f3a\"],[0.8888888888888888,\"#fdca26\"],[1.0,\"#f0f921\"]],\"sequentialminus\":[[0.0,\"#0d0887\"],[0.1111111111111111,\"#46039f\"],[0.2222222222222222,\"#7201a8\"],[0.3333333333333333,\"#9c179e\"],[0.4444444444444444,\"#bd3786\"],[0.5555555555555556,\"#d8576b\"],[0.6666666666666666,\"#ed7953\"],[0.7777777777777778,\"#fb9f3a\"],[0.8888888888888888,\"#fdca26\"],[1.0,\"#f0f921\"]],\"diverging\":[[0,\"#8e0152\"],[0.1,\"#c51b7d\"],[0.2,\"#de77ae\"],[0.3,\"#f1b6da\"],[0.4,\"#fde0ef\"],[0.5,\"#f7f7f7\"],[0.6,\"#e6f5d0\"],[0.7,\"#b8e186\"],[0.8,\"#7fbc41\"],[0.9,\"#4d9221\"],[1,\"#276419\"]]},\"xaxis\":{\"gridcolor\":\"white\",\"linecolor\":\"white\",\"ticks\":\"\",\"title\":{\"standoff\":15},\"zerolinecolor\":\"white\",\"automargin\":true,\"zerolinewidth\":2},\"yaxis\":{\"gridcolor\":\"white\",\"linecolor\":\"white\",\"ticks\":\"\",\"title\":{\"standoff\":15},\"zerolinecolor\":\"white\",\"automargin\":true,\"zerolinewidth\":2},\"scene\":{\"xaxis\":{\"backgroundcolor\":\"#E5ECF6\",\"gridcolor\":\"white\",\"linecolor\":\"white\",\"showbackground\":true,\"ticks\":\"\",\"zerolinecolor\":\"white\",\"gridwidth\":2},\"yaxis\":{\"backgroundcolor\":\"#E5ECF6\",\"gridcolor\":\"white\",\"linecolor\":\"white\",\"showbackground\":true,\"ticks\":\"\",\"zerolinecolor\":\"white\",\"gridwidth\":2},\"zaxis\":{\"backgroundcolor\":\"#E5ECF6\",\"gridcolor\":\"white\",\"linecolor\":\"white\",\"showbackground\":true,\"ticks\":\"\",\"zerolinecolor\":\"white\",\"gridwidth\":2}},\"shapedefaults\":{\"line\":{\"color\":\"#2a3f5f\"}},\"annotationdefaults\":{\"arrowcolor\":\"#2a3f5f\",\"arrowhead\":0,\"arrowwidth\":1},\"geo\":{\"bgcolor\":\"white\",\"landcolor\":\"#E5ECF6\",\"subunitcolor\":\"white\",\"showland\":true,\"showlakes\":true,\"lakecolor\":\"white\"},\"title\":{\"x\":0.05},\"mapbox\":{\"style\":\"light\"}}},\"xaxis\":{\"anchor\":\"y\",\"domain\":[0.0,0.31999999999999995],\"title\":{\"text\":\"Position\"}},\"yaxis\":{\"anchor\":\"x\",\"domain\":[0.0,1.0],\"autorange\":\"reversed\",\"title\":{\"text\":\"Layer\"}},\"xaxis2\":{\"anchor\":\"y2\",\"domain\":[0.33999999999999997,0.6599999999999999],\"matches\":\"x\",\"title\":{\"text\":\"Position\"}},\"yaxis2\":{\"anchor\":\"x2\",\"domain\":[0.0,1.0],\"matches\":\"y\",\"showticklabels\":false},\"xaxis3\":{\"anchor\":\"y3\",\"domain\":[0.6799999999999999,0.9999999999999999],\"matches\":\"x\",\"title\":{\"text\":\"Position\"}},\"yaxis3\":{\"anchor\":\"x3\",\"domain\":[0.0,1.0],\"matches\":\"y\",\"showticklabels\":false},\"annotations\":[{\"font\":{},\"showarrow\":false,\"text\":\"Residual Stream\",\"x\":0.15999999999999998,\"xanchor\":\"center\",\"xref\":\"paper\",\"y\":1.0,\"yanchor\":\"bottom\",\"yref\":\"paper\"},{\"font\":{},\"showarrow\":false,\"text\":\"Attn Output\",\"x\":0.49999999999999994,\"xanchor\":\"center\",\"xref\":\"paper\",\"y\":1.0,\"yanchor\":\"bottom\",\"yref\":\"paper\"},{\"font\":{},\"showarrow\":false,\"text\":\"MLP Output\",\"x\":0.8399999999999999,\"xanchor\":\"center\",\"xref\":\"paper\",\"y\":1.0,\"yanchor\":\"bottom\",\"yref\":\"paper\"}],\"coloraxis\":{\"colorscale\":[[0.0,\"rgb(103,0,31)\"],[0.1,\"rgb(178,24,43)\"],[0.2,\"rgb(214,96,77)\"],[0.3,\"rgb(244,165,130)\"],[0.4,\"rgb(253,219,199)\"],[0.5,\"rgb(247,247,247)\"],[0.6,\"rgb(209,229,240)\"],[0.7,\"rgb(146,197,222)\"],[0.8,\"rgb(67,147,195)\"],[0.9,\"rgb(33,102,172)\"],[1.0,\"rgb(5,48,97)\"]],\"cmid\":0.0,\"cmin\":-1,\"cmax\":1},\"title\":{\"text\":\"Attribution Patching Per Block\"}},                        {\"responsive\": true}                    ).then(function(){\n",
       "                            \n",
       "var gd = document.getElementById('116a73fe-a433-4cc1-b5f6-c0ead06671fa');\n",
       "var x = new MutationObserver(function (mutations, observer) {{\n",
       "        var display = window.getComputedStyle(gd).display;\n",
       "        if (!display || display === 'none') {{\n",
       "            console.log([gd, 'removed!']);\n",
       "            Plotly.purge(gd);\n",
       "            observer.disconnect();\n",
       "        }}\n",
       "}});\n",
       "\n",
       "// Listen for the removal of the full notebook cells\n",
       "var notebookContainer = gd.closest('#notebook-container');\n",
       "if (notebookContainer) {{\n",
       "    x.observe(notebookContainer, {childList: true});\n",
       "}}\n",
       "\n",
       "// Listen for the clearing of the current output cell\n",
       "var outputEl = gd.closest('.output');\n",
       "if (outputEl) {{\n",
       "    x.observe(outputEl, {childList: true});\n",
       "}}\n",
       "\n",
       "                        })                };            </script>        </div>\n",
       "</body>\n",
       "</html>"
      ]
     },
     "metadata": {},
     "output_type": "display_data"
    }
   ],
   "source": [
    "def get_attr_patch_block_every(attr_cache):\n",
    "    resid_pre_attr = einops.reduce(\n",
    "        attr_cache.stack_activation(\"resid_pre\"),\n",
    "        \"layer batch pos d_model -> layer pos\",\n",
    "        \"sum\",\n",
    "    )\n",
    "    attn_out_attr = einops.reduce(\n",
    "        attr_cache.stack_activation(\"attn_out\"),\n",
    "        \"layer batch pos d_model -> layer pos\",\n",
    "        \"sum\",\n",
    "    )\n",
    "    mlp_out_attr = einops.reduce(\n",
    "        attr_cache.stack_activation(\"mlp_out\"),\n",
    "        \"layer batch pos d_model -> layer pos\",\n",
    "        \"sum\",\n",
    "    )\n",
    "\n",
    "    every_block_attr_patch_result = torch.stack(\n",
    "        [resid_pre_attr, attn_out_attr, mlp_out_attr], dim=0\n",
    "    )\n",
    "    return every_block_attr_patch_result\n",
    "\n",
    "\n",
    "every_block_attr_patch_result = get_attr_patch_block_every(attr_cache)\n",
    "imshow(\n",
    "    every_block_attr_patch_result,\n",
    "    facet_col=0,\n",
    "    facet_labels=[\"Residual Stream\", \"Attn Output\", \"MLP Output\"],\n",
    "    title=\"Attribution Patching Per Block\",\n",
    "    xaxis=\"Position\",\n",
    "    yaxis=\"Layer\",\n",
    "    zmax=1,\n",
    "    zmin=-1,\n",
    "    x=[f\"{tok}_{i}\" for i, tok in enumerate(model.to_str_tokens(clean_tokens[0]))],\n",
    ")"
   ]
  },
  {
   "cell_type": "code",
   "execution_count": 17,
   "id": "a26a9160-e4ae-4573-aa2f-9e535286a0e3",
   "metadata": {},
   "outputs": [
    {
     "data": {
      "text/html": [
       "<html>\n",
       "<head><meta charset=\"utf-8\" /></head>\n",
       "<body>\n",
       "    <div>            <script src=\"https://cdnjs.cloudflare.com/ajax/libs/mathjax/2.7.5/MathJax.js?config=TeX-AMS-MML_SVG\"></script><script type=\"text/javascript\">if (window.MathJax && window.MathJax.Hub && window.MathJax.Hub.Config) {window.MathJax.Hub.Config({SVG: {font: \"STIX-Web\"}});}</script>                <script type=\"text/javascript\">window.PlotlyConfig = {MathJaxConfig: 'local'};</script>\n",
       "        <script charset=\"utf-8\" src=\"https://cdn.plot.ly/plotly-3.0.0.min.js\"></script>                <div id=\"d483eeb5-80af-42a0-b1a1-1e04944c04a7\" class=\"plotly-graph-div\" style=\"height:525px; width:100%;\"></div>            <script type=\"text/javascript\">                window.PLOTLYENV=window.PLOTLYENV || {};                                if (document.getElementById(\"d483eeb5-80af-42a0-b1a1-1e04944c04a7\")) {                    Plotly.newPlot(                        \"d483eeb5-80af-42a0-b1a1-1e04944c04a7\",                        [{\"customdata\":[[\"Layer 0, Position 0, |\\u003c|endoftext|\\u003e|\"],[\"Layer 0, Position 1, |When|\"],[\"Layer 0, Position 2, | John|\"],[\"Layer 0, Position 3, | and|\"],[\"Layer 0, Position 4, | Mary|\"],[\"Layer 0, Position 5, | went|\"],[\"Layer 0, Position 6, | to|\"],[\"Layer 0, Position 7, | the|\"],[\"Layer 0, Position 8, | shops|\"],[\"Layer 0, Position 9, |,|\"],[\"Layer 0, Position 10, | John|\"],[\"Layer 0, Position 11, | gave|\"],[\"Layer 0, Position 12, | the|\"],[\"Layer 0, Position 13, | bag|\"],[\"Layer 0, Position 14, | to|\"],[\"Layer 1, Position 0, |\\u003c|endoftext|\\u003e|\"],[\"Layer 1, Position 1, |When|\"],[\"Layer 1, Position 2, | John|\"],[\"Layer 1, Position 3, | and|\"],[\"Layer 1, Position 4, | Mary|\"],[\"Layer 1, Position 5, | went|\"],[\"Layer 1, Position 6, | to|\"],[\"Layer 1, Position 7, | the|\"],[\"Layer 1, Position 8, | shops|\"],[\"Layer 1, Position 9, |,|\"],[\"Layer 1, Position 10, | John|\"],[\"Layer 1, Position 11, | gave|\"],[\"Layer 1, Position 12, | the|\"],[\"Layer 1, Position 13, | bag|\"],[\"Layer 1, Position 14, | to|\"],[\"Layer 2, Position 0, |\\u003c|endoftext|\\u003e|\"],[\"Layer 2, Position 1, |When|\"],[\"Layer 2, Position 2, | John|\"],[\"Layer 2, Position 3, | and|\"],[\"Layer 2, Position 4, | Mary|\"],[\"Layer 2, Position 5, | went|\"],[\"Layer 2, Position 6, | to|\"],[\"Layer 2, Position 7, | the|\"],[\"Layer 2, Position 8, | shops|\"],[\"Layer 2, Position 9, |,|\"],[\"Layer 2, Position 10, | John|\"],[\"Layer 2, Position 11, | gave|\"],[\"Layer 2, Position 12, | the|\"],[\"Layer 2, Position 13, | bag|\"],[\"Layer 2, Position 14, | to|\"],[\"Layer 3, Position 0, |\\u003c|endoftext|\\u003e|\"],[\"Layer 3, Position 1, |When|\"],[\"Layer 3, Position 2, | John|\"],[\"Layer 3, Position 3, | and|\"],[\"Layer 3, Position 4, | Mary|\"],[\"Layer 3, Position 5, | went|\"],[\"Layer 3, Position 6, | to|\"],[\"Layer 3, Position 7, | the|\"],[\"Layer 3, Position 8, | shops|\"],[\"Layer 3, Position 9, |,|\"],[\"Layer 3, Position 10, | John|\"],[\"Layer 3, Position 11, | gave|\"],[\"Layer 3, Position 12, | the|\"],[\"Layer 3, Position 13, | bag|\"],[\"Layer 3, Position 14, | to|\"],[\"Layer 4, Position 0, |\\u003c|endoftext|\\u003e|\"],[\"Layer 4, Position 1, |When|\"],[\"Layer 4, Position 2, | John|\"],[\"Layer 4, Position 3, | and|\"],[\"Layer 4, Position 4, | Mary|\"],[\"Layer 4, Position 5, | went|\"],[\"Layer 4, Position 6, | to|\"],[\"Layer 4, Position 7, | the|\"],[\"Layer 4, Position 8, | shops|\"],[\"Layer 4, Position 9, |,|\"],[\"Layer 4, Position 10, | John|\"],[\"Layer 4, Position 11, | gave|\"],[\"Layer 4, Position 12, | the|\"],[\"Layer 4, Position 13, | bag|\"],[\"Layer 4, Position 14, | to|\"],[\"Layer 5, Position 0, |\\u003c|endoftext|\\u003e|\"],[\"Layer 5, Position 1, |When|\"],[\"Layer 5, Position 2, | John|\"],[\"Layer 5, Position 3, | and|\"],[\"Layer 5, Position 4, | Mary|\"],[\"Layer 5, Position 5, | went|\"],[\"Layer 5, Position 6, | to|\"],[\"Layer 5, Position 7, | the|\"],[\"Layer 5, Position 8, | shops|\"],[\"Layer 5, Position 9, |,|\"],[\"Layer 5, Position 10, | John|\"],[\"Layer 5, Position 11, | gave|\"],[\"Layer 5, Position 12, | the|\"],[\"Layer 5, Position 13, | bag|\"],[\"Layer 5, Position 14, | to|\"],[\"Layer 6, Position 0, |\\u003c|endoftext|\\u003e|\"],[\"Layer 6, Position 1, |When|\"],[\"Layer 6, Position 2, | John|\"],[\"Layer 6, Position 3, | and|\"],[\"Layer 6, Position 4, | Mary|\"],[\"Layer 6, Position 5, | went|\"],[\"Layer 6, Position 6, | to|\"],[\"Layer 6, Position 7, | the|\"],[\"Layer 6, Position 8, | shops|\"],[\"Layer 6, Position 9, |,|\"],[\"Layer 6, Position 10, | John|\"],[\"Layer 6, Position 11, | gave|\"],[\"Layer 6, Position 12, | the|\"],[\"Layer 6, Position 13, | bag|\"],[\"Layer 6, Position 14, | to|\"],[\"Layer 7, Position 0, |\\u003c|endoftext|\\u003e|\"],[\"Layer 7, Position 1, |When|\"],[\"Layer 7, Position 2, | John|\"],[\"Layer 7, Position 3, | and|\"],[\"Layer 7, Position 4, | Mary|\"],[\"Layer 7, Position 5, | went|\"],[\"Layer 7, Position 6, | to|\"],[\"Layer 7, Position 7, | the|\"],[\"Layer 7, Position 8, | shops|\"],[\"Layer 7, Position 9, |,|\"],[\"Layer 7, Position 10, | John|\"],[\"Layer 7, Position 11, | gave|\"],[\"Layer 7, Position 12, | the|\"],[\"Layer 7, Position 13, | bag|\"],[\"Layer 7, Position 14, | to|\"],[\"Layer 8, Position 0, |\\u003c|endoftext|\\u003e|\"],[\"Layer 8, Position 1, |When|\"],[\"Layer 8, Position 2, | John|\"],[\"Layer 8, Position 3, | and|\"],[\"Layer 8, Position 4, | Mary|\"],[\"Layer 8, Position 5, | went|\"],[\"Layer 8, Position 6, | to|\"],[\"Layer 8, Position 7, | the|\"],[\"Layer 8, Position 8, | shops|\"],[\"Layer 8, Position 9, |,|\"],[\"Layer 8, Position 10, | John|\"],[\"Layer 8, Position 11, | gave|\"],[\"Layer 8, Position 12, | the|\"],[\"Layer 8, Position 13, | bag|\"],[\"Layer 8, Position 14, | to|\"],[\"Layer 9, Position 0, |\\u003c|endoftext|\\u003e|\"],[\"Layer 9, Position 1, |When|\"],[\"Layer 9, Position 2, | John|\"],[\"Layer 9, Position 3, | and|\"],[\"Layer 9, Position 4, | Mary|\"],[\"Layer 9, Position 5, | went|\"],[\"Layer 9, Position 6, | to|\"],[\"Layer 9, Position 7, | the|\"],[\"Layer 9, Position 8, | shops|\"],[\"Layer 9, Position 9, |,|\"],[\"Layer 9, Position 10, | John|\"],[\"Layer 9, Position 11, | gave|\"],[\"Layer 9, Position 12, | the|\"],[\"Layer 9, Position 13, | bag|\"],[\"Layer 9, Position 14, | to|\"],[\"Layer 10, Position 0, |\\u003c|endoftext|\\u003e|\"],[\"Layer 10, Position 1, |When|\"],[\"Layer 10, Position 2, | John|\"],[\"Layer 10, Position 3, | and|\"],[\"Layer 10, Position 4, | Mary|\"],[\"Layer 10, Position 5, | went|\"],[\"Layer 10, Position 6, | to|\"],[\"Layer 10, Position 7, | the|\"],[\"Layer 10, Position 8, | shops|\"],[\"Layer 10, Position 9, |,|\"],[\"Layer 10, Position 10, | John|\"],[\"Layer 10, Position 11, | gave|\"],[\"Layer 10, Position 12, | the|\"],[\"Layer 10, Position 13, | bag|\"],[\"Layer 10, Position 14, | to|\"],[\"Layer 11, Position 0, |\\u003c|endoftext|\\u003e|\"],[\"Layer 11, Position 1, |When|\"],[\"Layer 11, Position 2, | John|\"],[\"Layer 11, Position 3, | and|\"],[\"Layer 11, Position 4, | Mary|\"],[\"Layer 11, Position 5, | went|\"],[\"Layer 11, Position 6, | to|\"],[\"Layer 11, Position 7, | the|\"],[\"Layer 11, Position 8, | shops|\"],[\"Layer 11, Position 9, |,|\"],[\"Layer 11, Position 10, | John|\"],[\"Layer 11, Position 11, | gave|\"],[\"Layer 11, Position 12, | the|\"],[\"Layer 11, Position 13, | bag|\"],[\"Layer 11, Position 14, | to|\"]],\"hovertemplate\":\"facet=0\\u003cbr\\u003eActivation Patch=%{x}\\u003cbr\\u003eAttribution Patch=%{y}\\u003cbr\\u003edata=%{customdata[0]}\\u003cbr\\u003eColor=%{marker.color}\\u003cextra\\u003e\\u003c\\u002fextra\\u003e\",\"legendgroup\":\"\",\"marker\":{\"color\":{\"dtype\":\"i1\",\"bdata\":\"AAAAAAAAAAAAAAAAAAAAAQEBAQEBAQEBAQEBAQEBAgICAgICAgICAgICAgICAwMDAwMDAwMDAwMDAwMDBAQEBAQEBAQEBAQEBAQEBQUFBQUFBQUFBQUFBQUFBgYGBgYGBgYGBgYGBgYGBwcHBwcHBwcHBwcHBwcHCAgICAgICAgICAgICAgICQkJCQkJCQkJCQkJCQkJCgoKCgoKCgoKCgoKCgoKCwsLCwsLCwsLCwsLCwsL\"},\"coloraxis\":\"coloraxis\",\"symbol\":\"circle\"},\"mode\":\"markers\",\"name\":\"\",\"orientation\":\"v\",\"showlegend\":false,\"x\":{\"dtype\":\"f4\",\"bdata\":\"AAAAAAAAAAAAAAAAAAAAAAAAAAAAAAAAAAAAAAAAAAAAAAAAAAAAAAAAgD8AAAAAAAAAAAAAAAAAAAAAAAAAAAAAAAAAAAAAAAAAAAAAAAAAAAAAAAAAAAAAAAAAAAAAAAAAAEwVgD82poG558keN+oKv7l+tUq4AAAAAAAAAAAAAAAAAAAAAAAAAAAAAAAAAAAAAAAAAAAAAAAAAAAAAHAigD+pE+K3nt2st4a38LlZvBu6AAAAAAAAAAAAAAAAAAAAAAAAAAAAAAAAAAAAAAAAAAAAAAAAAAAAALYIgD8UqWM6+FsHOtcfgrrm\\u002fWK6AAAAAAAAAAAAAAAAAAAAAAAAAAAAAAAAAAAAAAAAAAAAAAAAAAAAAEeyfj818bE7S3rSOgcbIrpw3dW6AAAAAAAAAAAAAAAAAAAAAAAAAAAAAAAAAAAAAAAAAAAAAAAAAAAAAGmydz95YAA9KEY6O2s2oboYMYG6AAAAAAAAAAAAAAAAAAAAAAAAAAAAAAAAAAAAAAAAAAAAAAAAAAAAAGevdz\\u002fj9v085p3pOji5\\u002frn4dSm6AAAAAAAAAAAAAAAAAAAAAAAAAAAAAAAAAAAAAAAAAAAAAAAAAAAAAK8+bD8iUFI91feaO6X5dDoipYs8AAAAAAAAAAAAAAAAAAAAAAAAAAAAAAAAAAAAAAAAAAAAAAAAAAAAAHkTKD\\u002fPb8M84W0aO+SVj7e2K6M+AAAAAAAAAAAAAAAAAAAAAAAAAAAAAAAAAAAAAAAAAAAAAAAAAAAAALWn3zyutwA9u6ruOpGdUTo6OnA\\u002fAAAAAAAAAAAAAAAAAAAAAAAAAAAAAAAAAAAAAAAAAAAAAAAAAAAAAG\\u002fj27zz36s8DRikOsiyqTk6noA\\u002fAAAAAAAAAAAAAAAAAAAAAAAAAAAAAAAAAAAAAAAAAAAAAAAAAAAAAA9gurszsGk86XH\\u002fOftnvbjRzX0\\u002f\"},\"xaxis\":\"x\",\"y\":{\"dtype\":\"f8\",\"bdata\":\"AAAAAAAAAAAAAAAAAAAAAAAAAAAAAAAAAAAAAAAAAAAAAAAAAAAAAAAAAAAAAAAAAAAAAAAAAAAAAAAAAAAAAAAAAAAAAAAAAAAAAAAAAAAAAADgfD6ZvwAAAAAAAAAAAAAAAAAAAAAAAAAAAAAAAAAAAAAAAAAAAAAAAAAAAAAAAAAAAAAAAAAAAAAAAAAAAAAAAAAAAAAAAAAAAAAAAAAAAAAAAAAAAAAAAAAAAAAAAAAAAAAAAAAAAAAAAAAAAAAAAAAAAAAAAAAAjKCpPwAAAODEqze\\u002fAAAAANZl7D4AAACA49kyvwAAAACrxwW\\u002fAAAAAAAAAAAAAAAAAAAAAAAAAAAAAAAAAAAAAAAAAAAAAAAAAAAAAAAAAAAAAAAAAAAAAAAAAAAAAAAAAAAAAAAAAAAAAAAAAAAAAAAAAAAAAABAh5u2PwAAAICdARm\\u002fAAAAwFm8AL8AAABAP88\\u002fvwAAAABjQ0O\\u002fAAAAAAAAAAAAAAAAAAAAAAAAAAAAAAAAAAAAAAAAAAAAAAAAAAAAAAAAAAAAAAAAAAAAAAAAAAAAAAAAAAAAAAAAAAAAAAAAAAAAAAAAAAAAAABAJXW+PwAAAAATLTg\\u002fAAAAwKx5Pz8AAAAAhzJQvwAAACC1I02\\u002fAAAAAAAAAAAAAAAAAAAAAAAAAAAAAAAAAAAAAAAAAAAAAAAAAAAAAAAAAAAAAAAAAAAAAAAAAAAAAAAAAAAAAAAAAAAAAAAAAAAAAAAAAAAAAACA0QHGPwAAAEAQbXA\\u002fAAAAoObrWD8AAAAAPrhEvwAAAABy4lu\\u002fAAAAAAAAAAAAAAAAAAAAAAAAAAAAAAAAAAAAAAAAAAAAAAAAAAAAAAAAAAAAAAAAAAAAAAAAAAAAAAAAAAAAAAAAAAAAAAAAAAAAAAAAAAAAAAAgHhXTPwAAAKDsw5k\\u002fAAAAIOBWZT8AAABgbpZSvwAAAIDD1FO\\u002fAAAAAAAAAAAAAAAAAAAAAAAAAAAAAAAAAAAAAAAAAAAAAAAAAAAAAAAAAAAAAAAAAAAAAAAAAAAAAAAAAAAAAAAAAAAAAAAAAAAAAAAAAAAAAACAsNHiPwAAAIA84ps\\u002fAAAAQE9jWz8AAACA+wtAvwAAAKAo6VK\\u002fAAAAAAAAAAAAAAAAAAAAAAAAAAAAAAAAAAAAAAAAAAAAAAAAAAAAAAAAAAAAAAAAAAAAAAAAAAAAAAAAAAAAAAAAAAAAAAAAAAAAAAAAAAAAAACAP5DgPwAAAIDihKc\\u002fAAAA4ApUcj8AAABAANZOPwAAAIAx944\\u002fAAAAAAAAAAAAAAAAAAAAAAAAAAAAAAAAAAAAAAAAAAAAAAAAAAAAAAAAAAAAAAAAAAAAAAAAAAAAAAAAAAAAAAAAAAAAAAAAAAAAAAAAAAAAAACAwFXUPwAAAGA7LpQ\\u002fAAAAgK5wYT8AAAAAp\\u002fcDvwAAAMCLMNI\\u002fAAAAAAAAAAAAAAAAAAAAAAAAAAAAAAAAAAAAAAAAAAAAAAAAAAAAAAAAAAAAAAAAAAAAAAAAAAAAAAAAAAAAAAAAAAAAAAAAAAAAAAAAAAAAAADgsPu5vwAAAMDNTZg\\u002fAAAAoPKxWj8AAAAAmaNJPwAAACD0v+k\\u002fAAAAAAAAAAAAAAAAAAAAAAAAAAAAAAAAAAAAAAAAAAAAAAAAAAAAAAAAAAAAAAAAAAAAAAAAAAAAAAAAAAAAAAAAAAAAAAAAAAAAAAAAAAAAAAAgJHTCvwAAAIAlgJA\\u002fAAAAgLuOUj8AAABAgM8xPwAAAIBNQ\\u002fI\\u002fAAAAAAAAAAAAAAAAAAAAAAAAAAAAAAAAAAAAAAAAAAAAAAAAAAAAAAAAAAAAAAAAAAAAAAAAAAAAAAAAAAAAAAAAAAAAAAAAAAAAAAAAAAAAAADAcqG5vwAAAMBhY4w\\u002fAAAAgP8DQj8AAACAregavwAAAECrfe8\\u002f\"},\"yaxis\":\"y\",\"type\":\"scatter\"},{\"customdata\":[[\"Layer 0, Position 0, |\\u003c|endoftext|\\u003e|\"],[\"Layer 0, Position 1, |When|\"],[\"Layer 0, Position 2, | John|\"],[\"Layer 0, Position 3, | and|\"],[\"Layer 0, Position 4, | Mary|\"],[\"Layer 0, Position 5, | went|\"],[\"Layer 0, Position 6, | to|\"],[\"Layer 0, Position 7, | the|\"],[\"Layer 0, Position 8, | shops|\"],[\"Layer 0, Position 9, |,|\"],[\"Layer 0, Position 10, | John|\"],[\"Layer 0, Position 11, | gave|\"],[\"Layer 0, Position 12, | the|\"],[\"Layer 0, Position 13, | bag|\"],[\"Layer 0, Position 14, | to|\"],[\"Layer 1, Position 0, |\\u003c|endoftext|\\u003e|\"],[\"Layer 1, Position 1, |When|\"],[\"Layer 1, Position 2, | John|\"],[\"Layer 1, Position 3, | and|\"],[\"Layer 1, Position 4, | Mary|\"],[\"Layer 1, Position 5, | went|\"],[\"Layer 1, Position 6, | to|\"],[\"Layer 1, Position 7, | the|\"],[\"Layer 1, Position 8, | shops|\"],[\"Layer 1, Position 9, |,|\"],[\"Layer 1, Position 10, | John|\"],[\"Layer 1, Position 11, | gave|\"],[\"Layer 1, Position 12, | the|\"],[\"Layer 1, Position 13, | bag|\"],[\"Layer 1, Position 14, | to|\"],[\"Layer 2, Position 0, |\\u003c|endoftext|\\u003e|\"],[\"Layer 2, Position 1, |When|\"],[\"Layer 2, Position 2, | John|\"],[\"Layer 2, Position 3, | and|\"],[\"Layer 2, Position 4, | Mary|\"],[\"Layer 2, Position 5, | went|\"],[\"Layer 2, Position 6, | to|\"],[\"Layer 2, Position 7, | the|\"],[\"Layer 2, Position 8, | shops|\"],[\"Layer 2, Position 9, |,|\"],[\"Layer 2, Position 10, | John|\"],[\"Layer 2, Position 11, | gave|\"],[\"Layer 2, Position 12, | the|\"],[\"Layer 2, Position 13, | bag|\"],[\"Layer 2, Position 14, | to|\"],[\"Layer 3, Position 0, |\\u003c|endoftext|\\u003e|\"],[\"Layer 3, Position 1, |When|\"],[\"Layer 3, Position 2, | John|\"],[\"Layer 3, Position 3, | and|\"],[\"Layer 3, Position 4, | Mary|\"],[\"Layer 3, Position 5, | went|\"],[\"Layer 3, Position 6, | to|\"],[\"Layer 3, Position 7, | the|\"],[\"Layer 3, Position 8, | shops|\"],[\"Layer 3, Position 9, |,|\"],[\"Layer 3, Position 10, | John|\"],[\"Layer 3, Position 11, | gave|\"],[\"Layer 3, Position 12, | the|\"],[\"Layer 3, Position 13, | bag|\"],[\"Layer 3, Position 14, | to|\"],[\"Layer 4, Position 0, |\\u003c|endoftext|\\u003e|\"],[\"Layer 4, Position 1, |When|\"],[\"Layer 4, Position 2, | John|\"],[\"Layer 4, Position 3, | and|\"],[\"Layer 4, Position 4, | Mary|\"],[\"Layer 4, Position 5, | went|\"],[\"Layer 4, Position 6, | to|\"],[\"Layer 4, Position 7, | the|\"],[\"Layer 4, Position 8, | shops|\"],[\"Layer 4, Position 9, |,|\"],[\"Layer 4, Position 10, | John|\"],[\"Layer 4, Position 11, | gave|\"],[\"Layer 4, Position 12, | the|\"],[\"Layer 4, Position 13, | bag|\"],[\"Layer 4, Position 14, | to|\"],[\"Layer 5, Position 0, |\\u003c|endoftext|\\u003e|\"],[\"Layer 5, Position 1, |When|\"],[\"Layer 5, Position 2, | John|\"],[\"Layer 5, Position 3, | and|\"],[\"Layer 5, Position 4, | Mary|\"],[\"Layer 5, Position 5, | went|\"],[\"Layer 5, Position 6, | to|\"],[\"Layer 5, Position 7, | the|\"],[\"Layer 5, Position 8, | shops|\"],[\"Layer 5, Position 9, |,|\"],[\"Layer 5, Position 10, | John|\"],[\"Layer 5, Position 11, | gave|\"],[\"Layer 5, Position 12, | the|\"],[\"Layer 5, Position 13, | bag|\"],[\"Layer 5, Position 14, | to|\"],[\"Layer 6, Position 0, |\\u003c|endoftext|\\u003e|\"],[\"Layer 6, Position 1, |When|\"],[\"Layer 6, Position 2, | John|\"],[\"Layer 6, Position 3, | and|\"],[\"Layer 6, Position 4, | Mary|\"],[\"Layer 6, Position 5, | went|\"],[\"Layer 6, Position 6, | to|\"],[\"Layer 6, Position 7, | the|\"],[\"Layer 6, Position 8, | shops|\"],[\"Layer 6, Position 9, |,|\"],[\"Layer 6, Position 10, | John|\"],[\"Layer 6, Position 11, | gave|\"],[\"Layer 6, Position 12, | the|\"],[\"Layer 6, Position 13, | bag|\"],[\"Layer 6, Position 14, | to|\"],[\"Layer 7, Position 0, |\\u003c|endoftext|\\u003e|\"],[\"Layer 7, Position 1, |When|\"],[\"Layer 7, Position 2, | John|\"],[\"Layer 7, Position 3, | and|\"],[\"Layer 7, Position 4, | Mary|\"],[\"Layer 7, Position 5, | went|\"],[\"Layer 7, Position 6, | to|\"],[\"Layer 7, Position 7, | the|\"],[\"Layer 7, Position 8, | shops|\"],[\"Layer 7, Position 9, |,|\"],[\"Layer 7, Position 10, | John|\"],[\"Layer 7, Position 11, | gave|\"],[\"Layer 7, Position 12, | the|\"],[\"Layer 7, Position 13, | bag|\"],[\"Layer 7, Position 14, | to|\"],[\"Layer 8, Position 0, |\\u003c|endoftext|\\u003e|\"],[\"Layer 8, Position 1, |When|\"],[\"Layer 8, Position 2, | John|\"],[\"Layer 8, Position 3, | and|\"],[\"Layer 8, Position 4, | Mary|\"],[\"Layer 8, Position 5, | went|\"],[\"Layer 8, Position 6, | to|\"],[\"Layer 8, Position 7, | the|\"],[\"Layer 8, Position 8, | shops|\"],[\"Layer 8, Position 9, |,|\"],[\"Layer 8, Position 10, | John|\"],[\"Layer 8, Position 11, | gave|\"],[\"Layer 8, Position 12, | the|\"],[\"Layer 8, Position 13, | bag|\"],[\"Layer 8, Position 14, | to|\"],[\"Layer 9, Position 0, |\\u003c|endoftext|\\u003e|\"],[\"Layer 9, Position 1, |When|\"],[\"Layer 9, Position 2, | John|\"],[\"Layer 9, Position 3, | and|\"],[\"Layer 9, Position 4, | Mary|\"],[\"Layer 9, Position 5, | went|\"],[\"Layer 9, Position 6, | to|\"],[\"Layer 9, Position 7, | the|\"],[\"Layer 9, Position 8, | shops|\"],[\"Layer 9, Position 9, |,|\"],[\"Layer 9, Position 10, | John|\"],[\"Layer 9, Position 11, | gave|\"],[\"Layer 9, Position 12, | the|\"],[\"Layer 9, Position 13, | bag|\"],[\"Layer 9, Position 14, | to|\"],[\"Layer 10, Position 0, |\\u003c|endoftext|\\u003e|\"],[\"Layer 10, Position 1, |When|\"],[\"Layer 10, Position 2, | John|\"],[\"Layer 10, Position 3, | and|\"],[\"Layer 10, Position 4, | Mary|\"],[\"Layer 10, Position 5, | went|\"],[\"Layer 10, Position 6, | to|\"],[\"Layer 10, Position 7, | the|\"],[\"Layer 10, Position 8, | shops|\"],[\"Layer 10, Position 9, |,|\"],[\"Layer 10, Position 10, | John|\"],[\"Layer 10, Position 11, | gave|\"],[\"Layer 10, Position 12, | the|\"],[\"Layer 10, Position 13, | bag|\"],[\"Layer 10, Position 14, | to|\"],[\"Layer 11, Position 0, |\\u003c|endoftext|\\u003e|\"],[\"Layer 11, Position 1, |When|\"],[\"Layer 11, Position 2, | John|\"],[\"Layer 11, Position 3, | and|\"],[\"Layer 11, Position 4, | Mary|\"],[\"Layer 11, Position 5, | went|\"],[\"Layer 11, Position 6, | to|\"],[\"Layer 11, Position 7, | the|\"],[\"Layer 11, Position 8, | shops|\"],[\"Layer 11, Position 9, |,|\"],[\"Layer 11, Position 10, | John|\"],[\"Layer 11, Position 11, | gave|\"],[\"Layer 11, Position 12, | the|\"],[\"Layer 11, Position 13, | bag|\"],[\"Layer 11, Position 14, | to|\"]],\"hovertemplate\":\"facet=1\\u003cbr\\u003eActivation Patch=%{x}\\u003cbr\\u003eAttribution Patch=%{y}\\u003cbr\\u003edata=%{customdata[0]}\\u003cbr\\u003eColor=%{marker.color}\\u003cextra\\u003e\\u003c\\u002fextra\\u003e\",\"legendgroup\":\"\",\"marker\":{\"color\":{\"dtype\":\"i1\",\"bdata\":\"AAAAAAAAAAAAAAAAAAAAAQEBAQEBAQEBAQEBAQEBAgICAgICAgICAgICAgICAwMDAwMDAwMDAwMDAwMDBAQEBAQEBAQEBAQEBAQEBQUFBQUFBQUFBQUFBQUFBgYGBgYGBgYGBgYGBgYGBwcHBwcHBwcHBwcHBwcHCAgICAgICAgICAgICAgICQkJCQkJCQkJCQkJCQkJCgoKCgoKCgoKCgoKCgoKCwsLCwsLCwsLCwsLCwsL\"},\"coloraxis\":\"coloraxis\",\"symbol\":\"circle\"},\"mode\":\"markers\",\"name\":\"\",\"orientation\":\"v\",\"showlegend\":false,\"x\":{\"dtype\":\"f4\",\"bdata\":\"AAAAAAAAAAAAAAAAAAAAAAAAAAAAAAAAAAAAAAAAAAAAAAAAAAAAALU7ET02poG558keN+oKv7l+tUq4AAAAAAAAAAAAAAAAAAAAAAAAAAAAAAAAAAAAAAAAAAAAAAAAAAAAADuNQ7s5lqc4xge1N6c0qTj7Phy6AAAAAAAAAAAAAAAAAAAAAAAAAAAAAAAAAAAAAAAAAAAAAAAAAAAAAKOf+rqn4y46s0jPOTmjOLqwz465AAAAAAAAAAAAAAAAAAAAAAAAAAAAAAAAAAAAAAAAAAAAAAAAAAAAAL9XHj4zMnk7j7EHOmKO+7iI9BK6AAAAAAAAAAAAAAAAAAAAAAAAAAAAAAAAAAAAAAAAAAAAAAAAAAAAAF8lsbvdaqA8ICiEOiBffrlh+E86AAAAAAAAAAAAAAAAAAAAAAAAAAAAAAAAAAAAAAAAAAAAAAAAAAAAABpGtD6vEYo6K5RrOdCACzkHaq44AAAAAAAAAAAAAAAAAAAAAAAAAAAAAAAAAAAAAAAAAAAAAAAAAAAAAAJ59T0xCK48LccyO+LErzorPZM8AAAAAAAAAAAAAAAAAAAAAAAAAAAAAAAAAAAAAAAAAAAAAAAAAAAAAP0VWjwDkjw8abXEOeAMKriMX5g+AAAAAAAAAAAAAAAAAAAAAAAAAAAAAAAAAAAAAAAAAAAAAAAAAAAAAAWpxLrnJo48dEwZOse8hDrm2RE\\u002fAAAAAAAAAAAAAAAAAAAAAAAAAAAAAAAAAAAAAAAAAAAAAAAAAAAAAI23Brm9e847RMsUOUT2ozkkBYs+AAAAAAAAAAAAAAAAAAAAAAAAAAAAAAAAAAAAAAAAAAAAAAAAAAAAAE+XdbolcLY47w+uOWsoGTXMm0W+AAAAAAAAAAAAAAAAAAAAAAAAAAAAAAAAAAAAAAAAAAAAAAAAAAAAAAAAAAAAAAAAAAAAAAAAAACq9s++\"},\"xaxis\":\"x2\",\"y\":{\"dtype\":\"f8\",\"bdata\":\"AAAAAAAAAAAAAAAAAAAAAAAAAAAAAAAAAAAAAAAAAAAAAAAAAAAAAAAAAAAAAAAAAAAAAAAAAAAAAAAAAAAAAAAAAAAAAAAAAAAAAAAAAAAAAAAAZ0tvvwAAAMCt4ki\\u002fAAAAQIMZBr8AAAAgsxQ0vwAAAADSzt0+AAAAAAAAAAAAAAAAAAAAAAAAAAAAAAAAAAAAAAAAAAAAAAAAAAAAAAAAAAAAAAAAAAAAAAAAAAAAAAAAAAAAAAAAAAAAAAAAAAAAAAAAAAAAAABg5PpxvwAAAIC\\u002fYg0\\u002fAAAAAE637z4AAADANV4aPwAAAKDTikK\\u002fAAAAAAAAAAAAAAAAAAAAAAAAAAAAAAAAAAAAAAAAAAAAAAAAAAAAAAAAAAAAAAAAAAAAAAAAAAAAAAAAAAAAAAAAAAAAAAAAAAAAAAAAAAAAAADA7MxkvwAAAOBS5UM\\u002fAAAAQIkRNT8AAABgcCRJvwAAAIB\\u002fdzC\\u002fAAAAAAAAAAAAAAAAAAAAAAAAAAAAAAAAAAAAAAAAAAAAAAAAAAAAAAAAAAAAAAAAAAAAAAAAAAAAAAAAAAAAAAAAAAAAAAAAAAAAAAAAAAAAAABAg467PwAAAACZs2s\\u002fAAAAAIaZPj8AAADgnIEevwAAAIBtPUW\\u002fAAAAAAAAAAAAAAAAAAAAAAAAAAAAAAAAAAAAAAAAAAAAAAAAAAAAAAAAAAAAAAAAAAAAAAAAAAAAAAAAAAAAAAAAAAAAAAAAAAAAAAAAAAAAAACAJl95vwAAAMAaqJA\\u002fAAAAgKzPTj8AAADA7zwtvwAAAKCE40Y\\u002fAAAAAAAAAAAAAAAAAAAAAAAAAAAAAAAAAAAAAAAAAAAAAAAAAAAAAAAAAAAAAAAAAAAAAAAAAAAAAAAAAAAAAAAAAAAAAAAAAAAAAAAAAAAAAACAzMzRPwAAAMCfuU4\\u002fAAAAIEnCKj8AAABAEogiPwAAAAAkMhO\\u002fAAAAAAAAAAAAAAAAAAAAAAAAAAAAAAAAAAAAAAAAAAAAAAAAAAAAAAAAAAAAAAAAAAAAAAAAAAAAAAAAAAAAAAAAAAAAAAAAAAAAAAAAAAAAAABAiqy4PwAAAAC565I\\u002fAAAAgMYYZT8AAADAvTtWPwAAAAAzgpA\\u002fAAAAAAAAAAAAAAAAAAAAAAAAAAAAAAAAAAAAAAAAAAAAAAAAAAAAAAAAAAAAAAAAAAAAAAAAAAAAAAAAAAAAAAAAAAAAAAAAAAAAAAAAAAAAAADAmk2CPwAAAADaU4Q\\u002fAAAA4L3MNz8AAAAA9VoFvwAAAKBYuNA\\u002fAAAAAAAAAAAAAAAAAAAAAAAAAAAAAAAAAAAAAAAAAAAAAAAAAAAAAAAAAAAAAAAAAAAAAAAAAAAAAAAAAAAAAAAAAAAAAAAAAAAAAAAAAAAAAACgr5davwAAAEA\\u002f5JA\\u002fAAAAgGZjQz8AAACADYVQPwAAAMD7KuQ\\u002fAAAAAAAAAAAAAAAAAAAAAAAAAAAAAAAAAAAAAAAAAAAAAAAAAAAAAAAAAAAAAAAAAAAAAAAAAAAAAAAAAAAAAAAAAAAAAAAAAAAAAAAAAAAAAACApDUhvwAAAMAGwG4\\u002fAAAAAN4mIz8AAAAAuF00PwAAAAD+ttk\\u002fAAAAAAAAAAAAAAAAAAAAAAAAAAAAAAAAAAAAAAAAAAAAAAAAAAAAAAAAAAAAAAAAAAAAAAAAAAAAAAAAAAAAAAAAAAAAAAAAAAAAAAAAAAAAAABgkTVPvwAAAAAI1Nw+AAAA4O8BNj8AAAAAiCzEvgAAAECyDsS\\u002fAAAAAAAAAAAAAAAAAAAAAAAAAAAAAAAAAAAAAAAAAAAAAAAAAAAAAAAAAAAAAAAAAAAAAAAAAAAAAAAAAAAAAAAAAAAAAAAAAAAAAAAAAAAAAAAAAAAAAAAAAAAAAAAAAAAAAAAAAAAAAAAAAAAAAAAAAODMatq\\u002f\"},\"yaxis\":\"y2\",\"type\":\"scatter\"},{\"customdata\":[[\"Layer 0, Position 0, |\\u003c|endoftext|\\u003e|\"],[\"Layer 0, Position 1, |When|\"],[\"Layer 0, Position 2, | John|\"],[\"Layer 0, Position 3, | and|\"],[\"Layer 0, Position 4, | Mary|\"],[\"Layer 0, Position 5, | went|\"],[\"Layer 0, Position 6, | to|\"],[\"Layer 0, Position 7, | the|\"],[\"Layer 0, Position 8, | shops|\"],[\"Layer 0, Position 9, |,|\"],[\"Layer 0, Position 10, | John|\"],[\"Layer 0, Position 11, | gave|\"],[\"Layer 0, Position 12, | the|\"],[\"Layer 0, Position 13, | bag|\"],[\"Layer 0, Position 14, | to|\"],[\"Layer 1, Position 0, |\\u003c|endoftext|\\u003e|\"],[\"Layer 1, Position 1, |When|\"],[\"Layer 1, Position 2, | John|\"],[\"Layer 1, Position 3, | and|\"],[\"Layer 1, Position 4, | Mary|\"],[\"Layer 1, Position 5, | went|\"],[\"Layer 1, Position 6, | to|\"],[\"Layer 1, Position 7, | the|\"],[\"Layer 1, Position 8, | shops|\"],[\"Layer 1, Position 9, |,|\"],[\"Layer 1, Position 10, | John|\"],[\"Layer 1, Position 11, | gave|\"],[\"Layer 1, Position 12, | the|\"],[\"Layer 1, Position 13, | bag|\"],[\"Layer 1, Position 14, | to|\"],[\"Layer 2, Position 0, |\\u003c|endoftext|\\u003e|\"],[\"Layer 2, Position 1, |When|\"],[\"Layer 2, Position 2, | John|\"],[\"Layer 2, Position 3, | and|\"],[\"Layer 2, Position 4, | Mary|\"],[\"Layer 2, Position 5, | went|\"],[\"Layer 2, Position 6, | to|\"],[\"Layer 2, Position 7, | the|\"],[\"Layer 2, Position 8, | shops|\"],[\"Layer 2, Position 9, |,|\"],[\"Layer 2, Position 10, | John|\"],[\"Layer 2, Position 11, | gave|\"],[\"Layer 2, Position 12, | the|\"],[\"Layer 2, Position 13, | bag|\"],[\"Layer 2, Position 14, | to|\"],[\"Layer 3, Position 0, |\\u003c|endoftext|\\u003e|\"],[\"Layer 3, Position 1, |When|\"],[\"Layer 3, Position 2, | John|\"],[\"Layer 3, Position 3, | and|\"],[\"Layer 3, Position 4, | Mary|\"],[\"Layer 3, Position 5, | went|\"],[\"Layer 3, Position 6, | to|\"],[\"Layer 3, Position 7, | the|\"],[\"Layer 3, Position 8, | shops|\"],[\"Layer 3, Position 9, |,|\"],[\"Layer 3, Position 10, | John|\"],[\"Layer 3, Position 11, | gave|\"],[\"Layer 3, Position 12, | the|\"],[\"Layer 3, Position 13, | bag|\"],[\"Layer 3, Position 14, | to|\"],[\"Layer 4, Position 0, |\\u003c|endoftext|\\u003e|\"],[\"Layer 4, Position 1, |When|\"],[\"Layer 4, Position 2, | John|\"],[\"Layer 4, Position 3, | and|\"],[\"Layer 4, Position 4, | Mary|\"],[\"Layer 4, Position 5, | went|\"],[\"Layer 4, Position 6, | to|\"],[\"Layer 4, Position 7, | the|\"],[\"Layer 4, Position 8, | shops|\"],[\"Layer 4, Position 9, |,|\"],[\"Layer 4, Position 10, | John|\"],[\"Layer 4, Position 11, | gave|\"],[\"Layer 4, Position 12, | the|\"],[\"Layer 4, Position 13, | bag|\"],[\"Layer 4, Position 14, | to|\"],[\"Layer 5, Position 0, |\\u003c|endoftext|\\u003e|\"],[\"Layer 5, Position 1, |When|\"],[\"Layer 5, Position 2, | John|\"],[\"Layer 5, Position 3, | and|\"],[\"Layer 5, Position 4, | Mary|\"],[\"Layer 5, Position 5, | went|\"],[\"Layer 5, Position 6, | to|\"],[\"Layer 5, Position 7, | the|\"],[\"Layer 5, Position 8, | shops|\"],[\"Layer 5, Position 9, |,|\"],[\"Layer 5, Position 10, | John|\"],[\"Layer 5, Position 11, | gave|\"],[\"Layer 5, Position 12, | the|\"],[\"Layer 5, Position 13, | bag|\"],[\"Layer 5, Position 14, | to|\"],[\"Layer 6, Position 0, |\\u003c|endoftext|\\u003e|\"],[\"Layer 6, Position 1, |When|\"],[\"Layer 6, Position 2, | John|\"],[\"Layer 6, Position 3, | and|\"],[\"Layer 6, Position 4, | Mary|\"],[\"Layer 6, Position 5, | went|\"],[\"Layer 6, Position 6, | to|\"],[\"Layer 6, Position 7, | the|\"],[\"Layer 6, Position 8, | shops|\"],[\"Layer 6, Position 9, |,|\"],[\"Layer 6, Position 10, | John|\"],[\"Layer 6, Position 11, | gave|\"],[\"Layer 6, Position 12, | the|\"],[\"Layer 6, Position 13, | bag|\"],[\"Layer 6, Position 14, | to|\"],[\"Layer 7, Position 0, |\\u003c|endoftext|\\u003e|\"],[\"Layer 7, Position 1, |When|\"],[\"Layer 7, Position 2, | John|\"],[\"Layer 7, Position 3, | and|\"],[\"Layer 7, Position 4, | Mary|\"],[\"Layer 7, Position 5, | went|\"],[\"Layer 7, Position 6, | to|\"],[\"Layer 7, Position 7, | the|\"],[\"Layer 7, Position 8, | shops|\"],[\"Layer 7, Position 9, |,|\"],[\"Layer 7, Position 10, | John|\"],[\"Layer 7, Position 11, | gave|\"],[\"Layer 7, Position 12, | the|\"],[\"Layer 7, Position 13, | bag|\"],[\"Layer 7, Position 14, | to|\"],[\"Layer 8, Position 0, |\\u003c|endoftext|\\u003e|\"],[\"Layer 8, Position 1, |When|\"],[\"Layer 8, Position 2, | John|\"],[\"Layer 8, Position 3, | and|\"],[\"Layer 8, Position 4, | Mary|\"],[\"Layer 8, Position 5, | went|\"],[\"Layer 8, Position 6, | to|\"],[\"Layer 8, Position 7, | the|\"],[\"Layer 8, Position 8, | shops|\"],[\"Layer 8, Position 9, |,|\"],[\"Layer 8, Position 10, | John|\"],[\"Layer 8, Position 11, | gave|\"],[\"Layer 8, Position 12, | the|\"],[\"Layer 8, Position 13, | bag|\"],[\"Layer 8, Position 14, | to|\"],[\"Layer 9, Position 0, |\\u003c|endoftext|\\u003e|\"],[\"Layer 9, Position 1, |When|\"],[\"Layer 9, Position 2, | John|\"],[\"Layer 9, Position 3, | and|\"],[\"Layer 9, Position 4, | Mary|\"],[\"Layer 9, Position 5, | went|\"],[\"Layer 9, Position 6, | to|\"],[\"Layer 9, Position 7, | the|\"],[\"Layer 9, Position 8, | shops|\"],[\"Layer 9, Position 9, |,|\"],[\"Layer 9, Position 10, | John|\"],[\"Layer 9, Position 11, | gave|\"],[\"Layer 9, Position 12, | the|\"],[\"Layer 9, Position 13, | bag|\"],[\"Layer 9, Position 14, | to|\"],[\"Layer 10, Position 0, |\\u003c|endoftext|\\u003e|\"],[\"Layer 10, Position 1, |When|\"],[\"Layer 10, Position 2, | John|\"],[\"Layer 10, Position 3, | and|\"],[\"Layer 10, Position 4, | Mary|\"],[\"Layer 10, Position 5, | went|\"],[\"Layer 10, Position 6, | to|\"],[\"Layer 10, Position 7, | the|\"],[\"Layer 10, Position 8, | shops|\"],[\"Layer 10, Position 9, |,|\"],[\"Layer 10, Position 10, | John|\"],[\"Layer 10, Position 11, | gave|\"],[\"Layer 10, Position 12, | the|\"],[\"Layer 10, Position 13, | bag|\"],[\"Layer 10, Position 14, | to|\"],[\"Layer 11, Position 0, |\\u003c|endoftext|\\u003e|\"],[\"Layer 11, Position 1, |When|\"],[\"Layer 11, Position 2, | John|\"],[\"Layer 11, Position 3, | and|\"],[\"Layer 11, Position 4, | Mary|\"],[\"Layer 11, Position 5, | went|\"],[\"Layer 11, Position 6, | to|\"],[\"Layer 11, Position 7, | the|\"],[\"Layer 11, Position 8, | shops|\"],[\"Layer 11, Position 9, |,|\"],[\"Layer 11, Position 10, | John|\"],[\"Layer 11, Position 11, | gave|\"],[\"Layer 11, Position 12, | the|\"],[\"Layer 11, Position 13, | bag|\"],[\"Layer 11, Position 14, | to|\"]],\"hovertemplate\":\"facet=2\\u003cbr\\u003eActivation Patch=%{x}\\u003cbr\\u003eAttribution Patch=%{y}\\u003cbr\\u003edata=%{customdata[0]}\\u003cbr\\u003eColor=%{marker.color}\\u003cextra\\u003e\\u003c\\u002fextra\\u003e\",\"legendgroup\":\"\",\"marker\":{\"color\":{\"dtype\":\"i1\",\"bdata\":\"AAAAAAAAAAAAAAAAAAAAAQEBAQEBAQEBAQEBAQEBAgICAgICAgICAgICAgICAwMDAwMDAwMDAwMDAwMDBAQEBAQEBAQEBAQEBAQEBQUFBQUFBQUFBQUFBQUFBgYGBgYGBgYGBgYGBgYGBwcHBwcHBwcHBwcHBwcHCAgICAgICAgICAgICAgICQkJCQkJCQkJCQkJCQkJCgoKCgoKCgoKCgoKCgoKCwsLCwsLCwsLCwsLCwsL\"},\"coloraxis\":\"coloraxis\",\"symbol\":\"circle\"},\"mode\":\"markers\",\"name\":\"\",\"orientation\":\"v\",\"showlegend\":false,\"x\":{\"dtype\":\"f4\",\"bdata\":\"AAAAAAAAAAAAAAAAAAAAAAAAAAAAAAAAAAAAAAAAAAAAAAAAAAAAAF7NWT\\u002f70ZG5MlCYuBJ6+LkP9CY4AAAAAAAAAAAAAAAAAAAAAAAAAAAAAAAAAAAAAAAAAAAAAAAAAAAAACw+ETxejWg5g08dOaRFS7gemZ85AAAAAAAAAAAAAAAAAAAAAAAAAAAAAAAAAAAAAAAAAAAAAAAAAAAAALX\\u002fXTzcyHU4HdmsuSZOJ7r4nko6AAAAAAAAAAAAAAAAAAAAAAAAAAAAAAAAAAAAAAAAAAAAAAAAAAAAAJcw\\u002fzoL5gI68Kk1ObsWMTl079U5AAAAAAAAAAAAAAAAAAAAAAAAAAAAAAAAAAAAAAAAAAAAAAAAAAAAABYXoryzR4c7T85NuPkAMrmBfE86AAAAAAAAAAAAAAAAAAAAAAAAAAAAAAAAAAAAAAAAAAAAAAAAAAAAANuuxT27uPa63mL9uRwZOjrbtkC5AAAAAAAAAAAAAAAAAAAAAAAAAAAAAAAAAAAAAAAAAAAAAAAAAAAAAM8+grxKyV66TgACOSdP7zdmLO27AAAAAAAAAAAAAAAAAAAAAAAAAAAAAAAAAAAAAAAAAAAAAAAAAAAAALTBKTxwhk47QUYLOlGCdzlxOQs8AAAAAAAAAAAAAAAAAAAAAAAAAAAAAAAAAAAAAAAAAAAAAAAAAAAAADhXTbxV8bo37GS5udlPtTiTNLG8AAAAAAAAAAAAAAAAAAAAAAAAAAAAAAAAAAAAAAAAAAAAAAAAAAAAADEMr7kFSFQ6QmSJN+L7BzmeiAE9AAAAAAAAAAAAAAAAAAAAAAAAAAAAAAAAAAAAAAAAAAAAAAAAAAAAAOc1sjqwcku5iKbOuDaVFLksous8AAAAAAAAAAAAAAAAAAAAAAAAAAAAAAAAAAAAAAAAAAAAAAAAAAAAAAAAAAAAAAAAAAAAAAAAAACkg6c8\"},\"xaxis\":\"x3\",\"y\":{\"dtype\":\"f8\",\"bdata\":\"AAAAAAAAAAAAAAAAAAAAAAAAAAAAAAAAAAAAAAAAAAAAAAAAAAAAAAAAAAAAAAAAAAAAAAAAAAAAAAAAAAAAAAAAAAAAAAAAAAAAAAAAAAAAAAAgE6iiPwAAAKBv4Ta\\u002fAAAAAH89Fr8AAABg9zY7vwAAAABE8Q0\\u002fAAAAAAAAAAAAAAAAAAAAAAAAAAAAAAAAAAAAAAAAAAAAAAAAAAAAAAAAAAAAAAAAAAAAAAAAAAAAAAAAAAAAAAAAAAAAAAAAAAAAAAAAAAAAAAAAPLV7vwAAAOCCwjA\\u002fAAAA4MQwIT8AAACAPpIVvwAAAGDZwjQ\\u002fAAAAAAAAAAAAAAAAAAAAAAAAAAAAAAAAAAAAAAAAAAAAAAAAAAAAAAAAAAAAAAAAAAAAAAAAAAAAAAAAAAAAAAAAAAAAAAAAAAAAAAAAAAAAAADAz7FxvwAAAADIg\\u002fO+AAAAQC5gM78AAACAw0FEvwAAAEDCPkg\\u002fAAAAAAAAAAAAAAAAAAAAAAAAAAAAAAAAAAAAAAAAAAAAAAAAAAAAAAAAAAAAAAAAAAAAAAAAAAAAAAAAAAAAAAAAAAAAAAAAAAAAAAAAAAAAAAAg5GqDvwAAAABKYyQ\\u002fAAAAQDROJz8AAABgn\\u002fojPwAAAGBqjTc\\u002fAAAAAAAAAAAAAAAAAAAAAAAAAAAAAAAAAAAAAAAAAAAAAAAAAAAAAAAAAAAAAAAAAAAAAAAAAAAAAAAAAAAAAAAAAAAAAAAAAAAAAAAAAAAAAACAXqOlvwAAAMDf0Gw\\u002fAAAAAD0ZHL8AAAAAzssqvwAAAAALFEY\\u002fAAAAAAAAAAAAAAAAAAAAAAAAAAAAAAAAAAAAAAAAAAAAAAAAAAAAAAAAAAAAAAAAAAAAAAAAAAAAAAAAAAAAAAAAAAAAAAAAAAAAAAAAAAAAAAAAkd6wPwAAAIAlpGW\\u002fAAAAYDq3QL8AAACAyOZGPwAAAKD09zm\\u002fAAAAAAAAAAAAAAAAAAAAAAAAAAAAAAAAAAAAAAAAAAAAAAAAAAAAAAAAAAAAAAAAAAAAAAAAAAAAAAAAAAAAAAAAAAAAAAAAAAAAAAAAAAAAAABAWGajvwAAAIDefFe\\u002fAAAAQPFWHD8AAADATQgCPwAAAKB+DoC\\u002fAAAAAAAAAAAAAAAAAAAAAAAAAAAAAAAAAAAAAAAAAAAAAAAAAAAAAAAAAAAAAAAAAAAAAAAAAAAAAAAAAAAAAAAAAAAAAAAAAAAAAAAAAAAAAAAAAoN9vwAAAIDu4mY\\u002fAAAAYAFIQT8AAADgzjkvPwAAAABsenk\\u002fAAAAAAAAAAAAAAAAAAAAAAAAAAAAAAAAAAAAAAAAAAAAAAAAAAAAAAAAAAAAAAAAAAAAAAAAAAAAAAAAAAAAAAAAAAAAAAAAAAAAAAAAAAAAAACAHYSIvwAAAABBGBi\\u002fAAAA4AYTN78AAADAQ34WPwAAAADBKZe\\u002fAAAAAAAAAAAAAAAAAAAAAAAAAAAAAAAAAAAAAAAAAAAAAAAAAAAAAAAAAAAAAAAAAAAAAAAAAAAAAAAAAAAAAAAAAAAAAAAAAAAAAAAAAAAAAABAq4wwvwAAAKC9uEM\\u002fAAAAQGMO8z4AAAAAxeIgPwAAAIAsNaI\\u002fAAAAAAAAAAAAAAAAAAAAAAAAAAAAAAAAAAAAAAAAAAAAAAAAAAAAAAAAAAAAAAAAAAAAAAAAAAAAAAAAAAAAAAAAAAAAAAAAAAAAAAAAAAAAAAAA6p5OPwAAAGDqXCe\\u002fAAAAQLMJGr8AAADgYJMivwAAAAA4cJw\\u002fAAAAAAAAAAAAAAAAAAAAAAAAAAAAAAAAAAAAAAAAAAAAAAAAAAAAAAAAAAAAAAAAAAAAAAAAAAAAAAAAAAAAAAAAAAAAAAAAAAAAAAAAAAAAAAAAAAAAAAAAAAAAAAAAAAAAAAAAAAAAAAAAAAAAAAAAAEAfY5U\\u002f\"},\"yaxis\":\"y3\",\"type\":\"scatter\"}],                        {\"template\":{\"data\":{\"histogram2dcontour\":[{\"type\":\"histogram2dcontour\",\"colorbar\":{\"outlinewidth\":0,\"ticks\":\"\"},\"colorscale\":[[0.0,\"#0d0887\"],[0.1111111111111111,\"#46039f\"],[0.2222222222222222,\"#7201a8\"],[0.3333333333333333,\"#9c179e\"],[0.4444444444444444,\"#bd3786\"],[0.5555555555555556,\"#d8576b\"],[0.6666666666666666,\"#ed7953\"],[0.7777777777777778,\"#fb9f3a\"],[0.8888888888888888,\"#fdca26\"],[1.0,\"#f0f921\"]]}],\"choropleth\":[{\"type\":\"choropleth\",\"colorbar\":{\"outlinewidth\":0,\"ticks\":\"\"}}],\"histogram2d\":[{\"type\":\"histogram2d\",\"colorbar\":{\"outlinewidth\":0,\"ticks\":\"\"},\"colorscale\":[[0.0,\"#0d0887\"],[0.1111111111111111,\"#46039f\"],[0.2222222222222222,\"#7201a8\"],[0.3333333333333333,\"#9c179e\"],[0.4444444444444444,\"#bd3786\"],[0.5555555555555556,\"#d8576b\"],[0.6666666666666666,\"#ed7953\"],[0.7777777777777778,\"#fb9f3a\"],[0.8888888888888888,\"#fdca26\"],[1.0,\"#f0f921\"]]}],\"heatmap\":[{\"type\":\"heatmap\",\"colorbar\":{\"outlinewidth\":0,\"ticks\":\"\"},\"colorscale\":[[0.0,\"#0d0887\"],[0.1111111111111111,\"#46039f\"],[0.2222222222222222,\"#7201a8\"],[0.3333333333333333,\"#9c179e\"],[0.4444444444444444,\"#bd3786\"],[0.5555555555555556,\"#d8576b\"],[0.6666666666666666,\"#ed7953\"],[0.7777777777777778,\"#fb9f3a\"],[0.8888888888888888,\"#fdca26\"],[1.0,\"#f0f921\"]]}],\"contourcarpet\":[{\"type\":\"contourcarpet\",\"colorbar\":{\"outlinewidth\":0,\"ticks\":\"\"}}],\"contour\":[{\"type\":\"contour\",\"colorbar\":{\"outlinewidth\":0,\"ticks\":\"\"},\"colorscale\":[[0.0,\"#0d0887\"],[0.1111111111111111,\"#46039f\"],[0.2222222222222222,\"#7201a8\"],[0.3333333333333333,\"#9c179e\"],[0.4444444444444444,\"#bd3786\"],[0.5555555555555556,\"#d8576b\"],[0.6666666666666666,\"#ed7953\"],[0.7777777777777778,\"#fb9f3a\"],[0.8888888888888888,\"#fdca26\"],[1.0,\"#f0f921\"]]}],\"surface\":[{\"type\":\"surface\",\"colorbar\":{\"outlinewidth\":0,\"ticks\":\"\"},\"colorscale\":[[0.0,\"#0d0887\"],[0.1111111111111111,\"#46039f\"],[0.2222222222222222,\"#7201a8\"],[0.3333333333333333,\"#9c179e\"],[0.4444444444444444,\"#bd3786\"],[0.5555555555555556,\"#d8576b\"],[0.6666666666666666,\"#ed7953\"],[0.7777777777777778,\"#fb9f3a\"],[0.8888888888888888,\"#fdca26\"],[1.0,\"#f0f921\"]]}],\"mesh3d\":[{\"type\":\"mesh3d\",\"colorbar\":{\"outlinewidth\":0,\"ticks\":\"\"}}],\"scatter\":[{\"fillpattern\":{\"fillmode\":\"overlay\",\"size\":10,\"solidity\":0.2},\"type\":\"scatter\"}],\"parcoords\":[{\"type\":\"parcoords\",\"line\":{\"colorbar\":{\"outlinewidth\":0,\"ticks\":\"\"}}}],\"scatterpolargl\":[{\"type\":\"scatterpolargl\",\"marker\":{\"colorbar\":{\"outlinewidth\":0,\"ticks\":\"\"}}}],\"bar\":[{\"error_x\":{\"color\":\"#2a3f5f\"},\"error_y\":{\"color\":\"#2a3f5f\"},\"marker\":{\"line\":{\"color\":\"#E5ECF6\",\"width\":0.5},\"pattern\":{\"fillmode\":\"overlay\",\"size\":10,\"solidity\":0.2}},\"type\":\"bar\"}],\"scattergeo\":[{\"type\":\"scattergeo\",\"marker\":{\"colorbar\":{\"outlinewidth\":0,\"ticks\":\"\"}}}],\"scatterpolar\":[{\"type\":\"scatterpolar\",\"marker\":{\"colorbar\":{\"outlinewidth\":0,\"ticks\":\"\"}}}],\"histogram\":[{\"marker\":{\"pattern\":{\"fillmode\":\"overlay\",\"size\":10,\"solidity\":0.2}},\"type\":\"histogram\"}],\"scattergl\":[{\"type\":\"scattergl\",\"marker\":{\"colorbar\":{\"outlinewidth\":0,\"ticks\":\"\"}}}],\"scatter3d\":[{\"type\":\"scatter3d\",\"line\":{\"colorbar\":{\"outlinewidth\":0,\"ticks\":\"\"}},\"marker\":{\"colorbar\":{\"outlinewidth\":0,\"ticks\":\"\"}}}],\"scattermap\":[{\"type\":\"scattermap\",\"marker\":{\"colorbar\":{\"outlinewidth\":0,\"ticks\":\"\"}}}],\"scattermapbox\":[{\"type\":\"scattermapbox\",\"marker\":{\"colorbar\":{\"outlinewidth\":0,\"ticks\":\"\"}}}],\"scatterternary\":[{\"type\":\"scatterternary\",\"marker\":{\"colorbar\":{\"outlinewidth\":0,\"ticks\":\"\"}}}],\"scattercarpet\":[{\"type\":\"scattercarpet\",\"marker\":{\"colorbar\":{\"outlinewidth\":0,\"ticks\":\"\"}}}],\"carpet\":[{\"aaxis\":{\"endlinecolor\":\"#2a3f5f\",\"gridcolor\":\"white\",\"linecolor\":\"white\",\"minorgridcolor\":\"white\",\"startlinecolor\":\"#2a3f5f\"},\"baxis\":{\"endlinecolor\":\"#2a3f5f\",\"gridcolor\":\"white\",\"linecolor\":\"white\",\"minorgridcolor\":\"white\",\"startlinecolor\":\"#2a3f5f\"},\"type\":\"carpet\"}],\"table\":[{\"cells\":{\"fill\":{\"color\":\"#EBF0F8\"},\"line\":{\"color\":\"white\"}},\"header\":{\"fill\":{\"color\":\"#C8D4E3\"},\"line\":{\"color\":\"white\"}},\"type\":\"table\"}],\"barpolar\":[{\"marker\":{\"line\":{\"color\":\"#E5ECF6\",\"width\":0.5},\"pattern\":{\"fillmode\":\"overlay\",\"size\":10,\"solidity\":0.2}},\"type\":\"barpolar\"}],\"pie\":[{\"automargin\":true,\"type\":\"pie\"}]},\"layout\":{\"autotypenumbers\":\"strict\",\"colorway\":[\"#636efa\",\"#EF553B\",\"#00cc96\",\"#ab63fa\",\"#FFA15A\",\"#19d3f3\",\"#FF6692\",\"#B6E880\",\"#FF97FF\",\"#FECB52\"],\"font\":{\"color\":\"#2a3f5f\"},\"hovermode\":\"closest\",\"hoverlabel\":{\"align\":\"left\"},\"paper_bgcolor\":\"white\",\"plot_bgcolor\":\"#E5ECF6\",\"polar\":{\"bgcolor\":\"#E5ECF6\",\"angularaxis\":{\"gridcolor\":\"white\",\"linecolor\":\"white\",\"ticks\":\"\"},\"radialaxis\":{\"gridcolor\":\"white\",\"linecolor\":\"white\",\"ticks\":\"\"}},\"ternary\":{\"bgcolor\":\"#E5ECF6\",\"aaxis\":{\"gridcolor\":\"white\",\"linecolor\":\"white\",\"ticks\":\"\"},\"baxis\":{\"gridcolor\":\"white\",\"linecolor\":\"white\",\"ticks\":\"\"},\"caxis\":{\"gridcolor\":\"white\",\"linecolor\":\"white\",\"ticks\":\"\"}},\"coloraxis\":{\"colorbar\":{\"outlinewidth\":0,\"ticks\":\"\"}},\"colorscale\":{\"sequential\":[[0.0,\"#0d0887\"],[0.1111111111111111,\"#46039f\"],[0.2222222222222222,\"#7201a8\"],[0.3333333333333333,\"#9c179e\"],[0.4444444444444444,\"#bd3786\"],[0.5555555555555556,\"#d8576b\"],[0.6666666666666666,\"#ed7953\"],[0.7777777777777778,\"#fb9f3a\"],[0.8888888888888888,\"#fdca26\"],[1.0,\"#f0f921\"]],\"sequentialminus\":[[0.0,\"#0d0887\"],[0.1111111111111111,\"#46039f\"],[0.2222222222222222,\"#7201a8\"],[0.3333333333333333,\"#9c179e\"],[0.4444444444444444,\"#bd3786\"],[0.5555555555555556,\"#d8576b\"],[0.6666666666666666,\"#ed7953\"],[0.7777777777777778,\"#fb9f3a\"],[0.8888888888888888,\"#fdca26\"],[1.0,\"#f0f921\"]],\"diverging\":[[0,\"#8e0152\"],[0.1,\"#c51b7d\"],[0.2,\"#de77ae\"],[0.3,\"#f1b6da\"],[0.4,\"#fde0ef\"],[0.5,\"#f7f7f7\"],[0.6,\"#e6f5d0\"],[0.7,\"#b8e186\"],[0.8,\"#7fbc41\"],[0.9,\"#4d9221\"],[1,\"#276419\"]]},\"xaxis\":{\"gridcolor\":\"white\",\"linecolor\":\"white\",\"ticks\":\"\",\"title\":{\"standoff\":15},\"zerolinecolor\":\"white\",\"automargin\":true,\"zerolinewidth\":2},\"yaxis\":{\"gridcolor\":\"white\",\"linecolor\":\"white\",\"ticks\":\"\",\"title\":{\"standoff\":15},\"zerolinecolor\":\"white\",\"automargin\":true,\"zerolinewidth\":2},\"scene\":{\"xaxis\":{\"backgroundcolor\":\"#E5ECF6\",\"gridcolor\":\"white\",\"linecolor\":\"white\",\"showbackground\":true,\"ticks\":\"\",\"zerolinecolor\":\"white\",\"gridwidth\":2},\"yaxis\":{\"backgroundcolor\":\"#E5ECF6\",\"gridcolor\":\"white\",\"linecolor\":\"white\",\"showbackground\":true,\"ticks\":\"\",\"zerolinecolor\":\"white\",\"gridwidth\":2},\"zaxis\":{\"backgroundcolor\":\"#E5ECF6\",\"gridcolor\":\"white\",\"linecolor\":\"white\",\"showbackground\":true,\"ticks\":\"\",\"zerolinecolor\":\"white\",\"gridwidth\":2}},\"shapedefaults\":{\"line\":{\"color\":\"#2a3f5f\"}},\"annotationdefaults\":{\"arrowcolor\":\"#2a3f5f\",\"arrowhead\":0,\"arrowwidth\":1},\"geo\":{\"bgcolor\":\"white\",\"landcolor\":\"#E5ECF6\",\"subunitcolor\":\"white\",\"showland\":true,\"showlakes\":true,\"lakecolor\":\"white\"},\"title\":{\"x\":0.05},\"mapbox\":{\"style\":\"light\"}}},\"xaxis\":{\"anchor\":\"y\",\"domain\":[0.0,0.31999999999999995],\"title\":{\"text\":\"Activation Patch\"}},\"yaxis\":{\"anchor\":\"x\",\"domain\":[0.0,1.0],\"title\":{\"text\":\"Attribution Patch\"}},\"xaxis2\":{\"anchor\":\"y2\",\"domain\":[0.33999999999999997,0.6599999999999999],\"matches\":\"x\",\"title\":{\"text\":\"Activation Patch\"}},\"yaxis2\":{\"anchor\":\"x2\",\"domain\":[0.0,1.0],\"matches\":\"y\",\"showticklabels\":false},\"xaxis3\":{\"anchor\":\"y3\",\"domain\":[0.6799999999999999,0.9999999999999999],\"matches\":\"x\",\"title\":{\"text\":\"Activation Patch\"}},\"yaxis3\":{\"anchor\":\"x3\",\"domain\":[0.0,1.0],\"matches\":\"y\",\"showticklabels\":false},\"annotations\":[{\"font\":{},\"showarrow\":false,\"text\":\"Residual Stream\",\"x\":0.15999999999999998,\"xanchor\":\"center\",\"xref\":\"paper\",\"y\":1.0,\"yanchor\":\"bottom\",\"yref\":\"paper\"},{\"font\":{},\"showarrow\":false,\"text\":\"Attn Output\",\"x\":0.49999999999999994,\"xanchor\":\"center\",\"xref\":\"paper\",\"y\":1.0,\"yanchor\":\"bottom\",\"yref\":\"paper\"},{\"font\":{},\"showarrow\":false,\"text\":\"MLP Output\",\"x\":0.8399999999999999,\"xanchor\":\"center\",\"xref\":\"paper\",\"y\":1.0,\"yanchor\":\"bottom\",\"yref\":\"paper\"}],\"coloraxis\":{\"colorbar\":{\"title\":{\"text\":\"Color\"}},\"colorscale\":[[0.0,\"rgb(12,51,131)\"],[0.25,\"rgb(10,136,186)\"],[0.5,\"rgb(242,211,56)\"],[0.75,\"rgb(242,143,56)\"],[1.0,\"rgb(217,30,30)\"]]},\"legend\":{\"tracegroupgap\":0},\"title\":{\"text\":\"Attribution vs Activation Patching Per Block\"}},                        {\"responsive\": true}                    ).then(function(){\n",
       "                            \n",
       "var gd = document.getElementById('d483eeb5-80af-42a0-b1a1-1e04944c04a7');\n",
       "var x = new MutationObserver(function (mutations, observer) {{\n",
       "        var display = window.getComputedStyle(gd).display;\n",
       "        if (!display || display === 'none') {{\n",
       "            console.log([gd, 'removed!']);\n",
       "            Plotly.purge(gd);\n",
       "            observer.disconnect();\n",
       "        }}\n",
       "}});\n",
       "\n",
       "// Listen for the removal of the full notebook cells\n",
       "var notebookContainer = gd.closest('#notebook-container');\n",
       "if (notebookContainer) {{\n",
       "    x.observe(notebookContainer, {childList: true});\n",
       "}}\n",
       "\n",
       "// Listen for the clearing of the current output cell\n",
       "var outputEl = gd.closest('.output');\n",
       "if (outputEl) {{\n",
       "    x.observe(outputEl, {childList: true});\n",
       "}}\n",
       "\n",
       "                        })                };            </script>        </div>\n",
       "</body>\n",
       "</html>"
      ]
     },
     "metadata": {},
     "output_type": "display_data"
    }
   ],
   "source": [
    "scatter(\n",
    "    y=every_block_attr_patch_result.reshape(3, -1),\n",
    "    x=every_block_act_patch_result.reshape(3, -1),\n",
    "    facet_col=0,\n",
    "    facet_labels=[\"Residual Stream\", \"Attn Output\", \"MLP Output\"],\n",
    "    title=\"Attribution vs Activation Patching Per Block\",\n",
    "    xaxis=\"Activation Patch\",\n",
    "    yaxis=\"Attribution Patch\",\n",
    "    hover=[\n",
    "        f\"Layer {l}, Position {p}, |{str_tokens[p]}|\"\n",
    "        for l in range(model.cfg.n_layers)\n",
    "        for p in range(context_length)\n",
    "    ],\n",
    "    color=einops.repeat(\n",
    "        torch.arange(model.cfg.n_layers), \"layer -> (layer pos)\", pos=context_length\n",
    "    ),\n",
    "    color_continuous_scale=\"Portland\",\n",
    ")"
   ]
  }
 ],
 "metadata": {
  "kernelspec": {
   "display_name": "Python 3 (ipykernel)",
   "language": "python",
   "name": "python3"
  },
  "language_info": {
   "codemirror_mode": {
    "name": "ipython",
    "version": 3
   },
   "file_extension": ".py",
   "mimetype": "text/x-python",
   "name": "python",
   "nbconvert_exporter": "python",
   "pygments_lexer": "ipython3",
   "version": "3.10.6"
  }
 },
 "nbformat": 4,
 "nbformat_minor": 5
}
