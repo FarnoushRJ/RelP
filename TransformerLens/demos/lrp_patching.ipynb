{
 "cells": [
  {
   "cell_type": "code",
   "execution_count": 1,
   "id": "cd96f26b-e07d-4f32-a79a-fc6cf2e43de0",
   "metadata": {},
   "outputs": [],
   "source": [
    "import warnings\n",
    "warnings.filterwarnings('ignore')"
   ]
  },
  {
   "cell_type": "code",
   "execution_count": 2,
   "id": "1b5db10d-da8e-441a-9fc2-0d977f72a7c1",
   "metadata": {},
   "outputs": [
    {
     "name": "stdout",
     "output_type": "stream",
     "text": [
      "Running as a Jupyter notebook - intended for development only!\n"
     ]
    }
   ],
   "source": [
    "# Code to do different setup when run in a Colab notebook vs VSCode\n",
    "import os\n",
    "\n",
    "DEBUG_MODE = False\n",
    "IN_GITHUB = os.getenv(\"GITHUB_ACTIONS\") == \"true\"\n",
    "try:\n",
    "    import google.colab\n",
    "\n",
    "    IN_COLAB = True\n",
    "    print(\"Running as a Colab notebook\")\n",
    "except:\n",
    "    IN_COLAB = False\n",
    "    print(\"Running as a Jupyter notebook - intended for development only!\")\n",
    "    from IPython import get_ipython\n",
    "\n",
    "    ipython = get_ipython()\n",
    "    # Code to automatically update the HookedTransformer code as its edited without restarting the kernel\n",
    "    ipython.run_line_magic(\"load_ext\", \"autoreload\")\n",
    "    ipython.run_line_magic(\"autoreload\", \"2\")\n",
    "\n",
    "if IN_COLAB or IN_GITHUB:\n",
    "    %pip install -e .\n",
    "    %pip install torchtyping\n",
    "    %pip install git+https://github.com/neelnanda-io/neel-plotly.git\n",
    "    %pip install circuitsvis\n",
    "    %pip install typeguard==2.13.3"
   ]
  },
  {
   "cell_type": "code",
   "execution_count": 3,
   "id": "e9121b2b-d408-4919-a8ca-9c9d1709622f",
   "metadata": {},
   "outputs": [],
   "source": [
    "# Plotly needs a different renderer for VSCode/Notebooks vs Colab argh\n",
    "import plotly.io as pio\n",
    "\n",
    "if IN_COLAB or not DEBUG_MODE:\n",
    "    pio.renderers.default = \"colab\"\n",
    "else:\n",
    "    pio.renderers.default = \"notebook_connected\""
   ]
  },
  {
   "cell_type": "code",
   "execution_count": 4,
   "id": "39e0644b-81cb-4573-ac08-f5ae66109430",
   "metadata": {},
   "outputs": [],
   "source": [
    "import torch\n",
    "import torch.nn as nn\n",
    "import torch.nn.functional as F\n",
    "import torch.optim as optim\n",
    "import numpy as np\n",
    "import einops\n",
    "from fancy_einsum import einsum\n",
    "import tqdm.notebook as tqdm\n",
    "import random\n",
    "from pathlib import Path\n",
    "import plotly.express as px\n",
    "from torch.utils.data import DataLoader\n",
    "\n",
    "from torchtyping import TensorType as TT\n",
    "from typing import List, Union, Optional, Callable\n",
    "from functools import partial\n",
    "import copy\n",
    "import itertools\n",
    "import json\n",
    "\n",
    "from transformers import AutoModelForCausalLM, AutoConfig, AutoTokenizer\n",
    "import dataclasses\n",
    "import datasets\n",
    "from IPython.display import HTML, Markdown"
   ]
  },
  {
   "cell_type": "code",
   "execution_count": 5,
   "id": "2550012b-48c5-4a8d-b80d-0481c9eefc29",
   "metadata": {},
   "outputs": [],
   "source": [
    "import sys\n",
    "sys.path.insert(0, \"./\")\n",
    "\n",
    "import transformer_lens\n",
    "import transformer_lens.utils as utils\n",
    "from transformer_lens.hook_points import (\n",
    "    HookedRootModule,\n",
    "    HookPoint,\n",
    ")  # Hooking utilities\n",
    "from transformer_lens import (\n",
    "    HookedTransformer,\n",
    "    HookedTransformerConfig,\n",
    "    FactoredMatrix,\n",
    "    ActivationCache,\n",
    ")"
   ]
  },
  {
   "cell_type": "code",
   "execution_count": 6,
   "id": "1210c6cd-97b4-45fe-bc6a-c7e9d9aff4c8",
   "metadata": {},
   "outputs": [],
   "source": [
    "from neel_plotly import line, imshow, scatter\n",
    "import transformer_lens.patching as patching"
   ]
  },
  {
   "cell_type": "markdown",
   "id": "420e7999-d7a1-4d8b-acb2-a8c23caace31",
   "metadata": {},
   "source": [
    "## Model Setup (use_lrp = True)"
   ]
  },
  {
   "cell_type": "code",
   "execution_count": 7,
   "id": "3c2902bd-8381-4301-911c-473b7b6b64d1",
   "metadata": {},
   "outputs": [
    {
     "name": "stdout",
     "output_type": "stream",
     "text": [
      "Loaded pretrained model gpt2-small into HookedTransformer\n"
     ]
    }
   ],
   "source": [
    "model = HookedTransformer.from_pretrained(\"gpt2-small\")\n",
    "\n",
    "model.set_use_attn_result(True)\n",
    "model.set_use_hook_mlp_in(True)\n",
    "model.set_use_attn_in(True)\n",
    "model.set_use_split_qkv_input(True)"
   ]
  },
  {
   "cell_type": "markdown",
   "id": "17b1c7b6-f4cd-4e58-844c-c7ce4b513d1d",
   "metadata": {},
   "source": [
    "## IOI Patching Setup"
   ]
  },
  {
   "cell_type": "code",
   "execution_count": 8,
   "id": "89edf43d-a959-45e0-b5d0-902c05598897",
   "metadata": {},
   "outputs": [
    {
     "name": "stdout",
     "output_type": "stream",
     "text": [
      "Clean string 0 <|endoftext|>When John and Mary went to the shops, John gave the bag to\n",
      "Corrupted string 0 <|endoftext|>When John and Mary went to the shops, Mary gave the bag to\n",
      "Answer token indices tensor([[ 5335,  1757],\n",
      "        [ 1757,  5335],\n",
      "        [ 4186,  3700],\n",
      "        [ 3700,  4186],\n",
      "        [ 6035, 15686],\n",
      "        [15686,  6035],\n",
      "        [ 5780, 14235],\n",
      "        [14235,  5780]], device='cuda:0')\n"
     ]
    }
   ],
   "source": [
    "prompts = [\n",
    "    \"When John and Mary went to the shops, John gave the bag to\",\n",
    "    \"When John and Mary went to the shops, Mary gave the bag to\",\n",
    "    \"When Tom and James went to the park, James gave the ball to\",\n",
    "    \"When Tom and James went to the park, Tom gave the ball to\",\n",
    "    \"When Dan and Sid went to the shops, Sid gave an apple to\",\n",
    "    \"When Dan and Sid went to the shops, Dan gave an apple to\",\n",
    "    \"After Martin and Amy went to the park, Amy gave a drink to\",\n",
    "    \"After Martin and Amy went to the park, Martin gave a drink to\",\n",
    "]\n",
    "answers = [\n",
    "    (\" Mary\", \" John\"),\n",
    "    (\" John\", \" Mary\"),\n",
    "    (\" Tom\", \" James\"),\n",
    "    (\" James\", \" Tom\"),\n",
    "    (\" Dan\", \" Sid\"),\n",
    "    (\" Sid\", \" Dan\"),\n",
    "    (\" Martin\", \" Amy\"),\n",
    "    (\" Amy\", \" Martin\"),\n",
    "]\n",
    "\n",
    "clean_tokens = model.to_tokens(prompts)\n",
    "# Swap each adjacent pair, with a hacky list comprehension\n",
    "corrupted_tokens = clean_tokens[\n",
    "    [(i + 1 if i % 2 == 0 else i - 1) for i in range(len(clean_tokens))]\n",
    "]\n",
    "print(\"Clean string 0\", model.to_string(clean_tokens[0]))\n",
    "print(\"Corrupted string 0\", model.to_string(corrupted_tokens[0]))\n",
    "\n",
    "answer_token_indices = torch.tensor(\n",
    "    [\n",
    "        [model.to_single_token(answers[i][j]) for j in range(2)]\n",
    "        for i in range(len(answers))\n",
    "    ],\n",
    "    device=model.cfg.device,\n",
    ")\n",
    "print(\"Answer token indices\", answer_token_indices)"
   ]
  },
  {
   "cell_type": "code",
   "execution_count": 9,
   "id": "eaa4436e-b6f5-4463-90c7-36fcc10e5ffb",
   "metadata": {},
   "outputs": [
    {
     "name": "stdout",
     "output_type": "stream",
     "text": [
      "Clean logit diff: 3.5519\n",
      "Corrupted logit diff: -3.5519\n"
     ]
    }
   ],
   "source": [
    "def get_logit_diff(logits, answer_token_indices=answer_token_indices):\n",
    "    if len(logits.shape) == 3:\n",
    "        # Get final logits only\n",
    "        logits = logits[:, -1, :]\n",
    "    correct_logits = logits.gather(1, answer_token_indices[:, 0].unsqueeze(1))\n",
    "    incorrect_logits = logits.gather(1, answer_token_indices[:, 1].unsqueeze(1))\n",
    "    return (correct_logits - incorrect_logits).mean()\n",
    "\n",
    "\n",
    "clean_logits, clean_cache = model.run_with_cache(clean_tokens)\n",
    "corrupted_logits, corrupted_cache = model.run_with_cache(corrupted_tokens)\n",
    "\n",
    "clean_logit_diff = get_logit_diff(clean_logits, answer_token_indices).item()\n",
    "print(f\"Clean logit diff: {clean_logit_diff:.4f}\")\n",
    "\n",
    "corrupted_logit_diff = get_logit_diff(corrupted_logits, answer_token_indices).item()\n",
    "print(f\"Corrupted logit diff: {corrupted_logit_diff:.4f}\")"
   ]
  },
  {
   "cell_type": "code",
   "execution_count": 10,
   "id": "e44bbc98-7a9d-420a-9dab-64060d065d62",
   "metadata": {},
   "outputs": [
    {
     "name": "stdout",
     "output_type": "stream",
     "text": [
      "Clean Baseline is 1: 1.0000\n",
      "Corrupted Baseline is 0: 0.0000\n"
     ]
    }
   ],
   "source": [
    "CLEAN_BASELINE = clean_logit_diff\n",
    "CORRUPTED_BASELINE = corrupted_logit_diff\n",
    "\n",
    "\n",
    "def ioi_metric(logits, answer_token_indices=answer_token_indices):\n",
    "    return (get_logit_diff(logits, answer_token_indices) - CORRUPTED_BASELINE) / (\n",
    "        CLEAN_BASELINE - CORRUPTED_BASELINE\n",
    "    )\n",
    "\n",
    "\n",
    "print(f\"Clean Baseline is 1: {ioi_metric(clean_logits).item():.4f}\")\n",
    "print(f\"Corrupted Baseline is 0: {ioi_metric(corrupted_logits).item():.4f}\")"
   ]
  },
  {
   "cell_type": "markdown",
   "id": "c333322b-6340-431c-968a-f9824c338df2",
   "metadata": {},
   "source": [
    "## Patching"
   ]
  },
  {
   "cell_type": "code",
   "execution_count": 11,
   "id": "efe11c0f-51a7-432f-89bf-40460e6933e8",
   "metadata": {},
   "outputs": [],
   "source": [
    "Metric = Callable[[TT[\"batch_and_pos_dims\", \"d_model\"]], float]"
   ]
  },
  {
   "cell_type": "code",
   "execution_count": 12,
   "id": "022b45dc-2b78-48d0-a83e-385cfe6a8a95",
   "metadata": {},
   "outputs": [
    {
     "name": "stdout",
     "output_type": "stream",
     "text": [
      "Clean Value:  1.00\n",
      "Clean Activations Cached: 244\n",
      "Clean Gradients Cached: 207\n",
      "Corrupted Value:  0.00\n",
      "Corrupted Activations Cached: 244\n",
      "Corrupted Gradients Cached: 207\n"
     ]
    }
   ],
   "source": [
    "filter_not_qkv_input = lambda name: \"_input\" not in name\n",
    "\n",
    "\n",
    "def get_cache_fwd_and_bwd(model, tokens, metric):\n",
    "    model.reset_hooks()\n",
    "    cache = {}\n",
    "\n",
    "    def forward_cache_hook(act, hook):\n",
    "        cache[hook.name] = act.detach()\n",
    "\n",
    "    model.add_hook(filter_not_qkv_input, forward_cache_hook, \"fwd\")\n",
    "\n",
    "    grad_cache = {}\n",
    "\n",
    "    def backward_cache_hook(act, hook):\n",
    "        grad_cache[hook.name] = act.detach()\n",
    "\n",
    "    model.add_hook(filter_not_qkv_input, backward_cache_hook, \"bwd\")\n",
    "\n",
    "    value = metric(model(tokens))\n",
    "    value.backward()\n",
    "    model.reset_hooks()\n",
    "    return (\n",
    "        value.item(),\n",
    "        ActivationCache(cache, model),\n",
    "        ActivationCache(grad_cache, model),\n",
    "    )\n",
    "\n",
    "\n",
    "clean_value, clean_cache, clean_grad_cache = get_cache_fwd_and_bwd(\n",
    "    model, clean_tokens, ioi_metric\n",
    ")\n",
    "print(f\"Clean Value: {clean_value: .2f}\")\n",
    "print(\"Clean Activations Cached:\", len(clean_cache))\n",
    "print(\"Clean Gradients Cached:\", len(clean_grad_cache))\n",
    "corrupted_value, corrupted_cache, corrupted_grad_cache = get_cache_fwd_and_bwd(\n",
    "    model, corrupted_tokens, ioi_metric\n",
    ")\n",
    "print(f\"Corrupted Value: {corrupted_value: .2f}\")\n",
    "print(\"Corrupted Activations Cached:\", len(corrupted_cache))\n",
    "print(\"Corrupted Gradients Cached:\", len(corrupted_grad_cache))"
   ]
  },
  {
   "cell_type": "markdown",
   "id": "befda613-4429-4db2-82cc-76e3368cb2f5",
   "metadata": {},
   "source": [
    "## Validating LRP vs. Activation Patching"
   ]
  },
  {
   "cell_type": "code",
   "execution_count": 13,
   "id": "091df484-e6c5-4186-af0d-45074affdbba",
   "metadata": {},
   "outputs": [],
   "source": [
    "attribution_cache_dict = {}\n",
    "for key in corrupted_grad_cache.cache_dict.keys():\n",
    "    attribution_cache_dict[key] = corrupted_grad_cache.cache_dict[key] * (\n",
    "        clean_cache.cache_dict[key] - corrupted_cache.cache_dict[key]\n",
    "    )\n",
    "attr_cache = ActivationCache(attribution_cache_dict, model)"
   ]
  },
  {
   "cell_type": "markdown",
   "id": "827f3098-c4f3-4f42-9b8a-afd3cf8e4465",
   "metadata": {},
   "source": [
    "By block: For each head we patch the starting residual stream, attention output + MLP output"
   ]
  },
  {
   "cell_type": "code",
   "execution_count": 14,
   "id": "0e02bfe3-a5be-4b25-bc93-baca04c358a7",
   "metadata": {},
   "outputs": [],
   "source": [
    "str_tokens = model.to_str_tokens(clean_tokens[0])\n",
    "context_length = len(str_tokens)"
   ]
  },
  {
   "cell_type": "code",
   "execution_count": 15,
   "id": "d8e909cb-5c34-432d-a6e9-2caa9f88babd",
   "metadata": {},
   "outputs": [
    {
     "name": "stderr",
     "output_type": "stream",
     "text": [
      "100%|█████████████████████████████████████████| 180/180 [00:16<00:00, 10.87it/s]\n",
      "100%|█████████████████████████████████████████| 180/180 [00:14<00:00, 12.36it/s]\n",
      "100%|█████████████████████████████████████████| 180/180 [00:14<00:00, 12.20it/s]\n"
     ]
    },
    {
     "data": {
      "text/html": [
       "<html>\n",
       "<head><meta charset=\"utf-8\" /></head>\n",
       "<body>\n",
       "    <div>            <script src=\"https://cdnjs.cloudflare.com/ajax/libs/mathjax/2.7.5/MathJax.js?config=TeX-AMS-MML_SVG\"></script><script type=\"text/javascript\">if (window.MathJax && window.MathJax.Hub && window.MathJax.Hub.Config) {window.MathJax.Hub.Config({SVG: {font: \"STIX-Web\"}});}</script>                <script type=\"text/javascript\">window.PlotlyConfig = {MathJaxConfig: 'local'};</script>\n",
       "        <script charset=\"utf-8\" src=\"https://cdn.plot.ly/plotly-3.0.0.min.js\"></script>                <div id=\"cdab08db-2d53-4ebc-b5c6-4edade2661eb\" class=\"plotly-graph-div\" style=\"height:525px; width:100%;\"></div>            <script type=\"text/javascript\">                window.PLOTLYENV=window.PLOTLYENV || {};                                if (document.getElementById(\"cdab08db-2d53-4ebc-b5c6-4edade2661eb\")) {                    Plotly.newPlot(                        \"cdab08db-2d53-4ebc-b5c6-4edade2661eb\",                        [{\"coloraxis\":\"coloraxis\",\"name\":\"0\",\"x\":[\"\\u003c|endoftext|\\u003e_0\",\"When_1\",\" John_2\",\" and_3\",\" Mary_4\",\" went_5\",\" to_6\",\" the_7\",\" shops_8\",\",_9\",\" John_10\",\" gave_11\",\" the_12\",\" bag_13\",\" to_14\"],\"z\":{\"dtype\":\"f4\",\"bdata\":\"AAAAAAAAAAAAAAAAAAAAAAAAAAAAAAAAAAAAAAAAAAAAAAAAAAAAAP\\u002f\\u002ffz8AAAAAAAAAAAAAAAAAAAAAAAAAAAAAAAAAAAAAAAAAAAAAAAAAAAAAAAAAAAAAAAAAAAAAAAAAAEkVgD+7vIG5O9sjN1\\u002frvrm0jUu4AAAAAAAAAAAAAAAAAAAAAAAAAAAAAAAAAAAAAAAAAAAAAAAAAAAAAHMigD\\u002f6it+3YwWstwS88Lle1xu6AAAAAAAAAAAAAAAAAAAAAAAAAAAAAAAAAAAAAAAAAAAAAAAAAAAAALYIgD9TtGM6+20HOjYjgrrh9GK6AAAAAAAAAAAAAAAAAAAAAAAAAAAAAAAAAAAAAAAAAAAAAAAAAAAAAEyyfj978bE7qX3SOgUbIroM2tW6AAAAAAAAAAAAAAAAAAAAAAAAAAAAAAAAAAAAAAAAAAAAAAAAAAAAAHKydz+AYAA9Fko6Oyg0obpWM4G6AAAAAAAAAAAAAAAAAAAAAAAAAAAAAAAAAAAAAAAAAAAAAAAAAAAAAGmvdz8n9\\u002f08YpnpOr3Y\\u002frl0cSm6AAAAAAAAAAAAAAAAAAAAAAAAAAAAAAAAAAAAAAAAAAAAAAAAAAAAALI+bD9eUFI9i\\u002feaOyYHdTogpYs8AAAAAAAAAAAAAAAAAAAAAAAAAAAAAAAAAAAAAAAAAAAAAAAAAAAAAH0TKD+Wb8M8gHMaO6m9jrevK6M+AAAAAAAAAAAAAAAAAAAAAAAAAAAAAAAAAAAAAAAAAAAAAAAAAAAAAFin3zy1twA9G7fuOg+iUTo8OnA\\u002fAAAAAAAAAAAAAAAAAAAAAAAAAAAAAAAAAAAAAAAAAAAAAAAAAAAAALTj27xL4Ks86xakOke3qTk5noA\\u002fAAAAAAAAAAAAAAAAAAAAAAAAAAAAAAAAAAAAAAAAAAAAAAAAAAAAAFRgurvksGk8ZG3\\u002fORXUvbjNzX0\\u002f\",\"shape\":\"12, 15\"},\"type\":\"heatmap\",\"xaxis\":\"x\",\"yaxis\":\"y\",\"hovertemplate\":\"x: %{x}\\u003cbr\\u003ey: %{y}\\u003cbr\\u003ecolor: %{z}\\u003cextra\\u003e\\u003c\\u002fextra\\u003e\"},{\"coloraxis\":\"coloraxis\",\"name\":\"1\",\"x\":[\"\\u003c|endoftext|\\u003e_0\",\"When_1\",\" John_2\",\" and_3\",\" Mary_4\",\" went_5\",\" to_6\",\" the_7\",\" shops_8\",\",_9\",\" John_10\",\" gave_11\",\" the_12\",\" bag_13\",\" to_14\"],\"z\":{\"dtype\":\"f4\",\"bdata\":\"AAAAAAAAAAAAAAAAAAAAAAAAAAAAAAAAAAAAAAAAAAAAAAAAAAAAALw7ET27vIG5O9sjN1\\u002frvrm0jUu4AAAAAAAAAAAAAAAAAAAAAAAAAAAAAAAAAAAAAAAAAAAAAAAAAAAAAOiOQ7sD0KY4BTeyN3WAqDi9Thy6AAAAAAAAAAAAAAAAAAAAAAAAAAAAAAAAAAAAAAAAAAAAAAAAAAAAALuO+rrl5S46LTvPOXquOLox3Y65AAAAAAAAAAAAAAAAAAAAAAAAAAAAAAAAAAAAAAAAAAAAAAAAAAAAALJXHj5AN3k7zrMHOnHW+7iD6xK6AAAAAAAAAAAAAAAAAAAAAAAAAAAAAAAAAAAAAAAAAAAAAAAAAAAAAAYpsbsRa6A8XyqEOgL8fbmf+k86AAAAAAAAAAAAAAAAAAAAAAAAAAAAAAAAAAAAAAAAAAAAAAAAAAAAABlGtD4OFYo6G2drOejjCzkEaq44AAAAAAAAAAAAAAAAAAAAAAAAAAAAAAAAAAAAAAAAAAAAAAAAAAAAAB559T31CK48K8cyOwLPrzrvPZM8AAAAAAAAAAAAAAAAAAAAAAAAAAAAAAAAAAAAAAAAAAAAAAAAAAAAAI4VWjwkkjw8bdDEOSAJK7iFX5g+AAAAAAAAAAAAAAAAAAAAAAAAAAAAAAAAAAAAAAAAAAAAAAAAAAAAAMSvxLobJ448sEUZOmS5hDru2RE\\u002fAAAAAAAAAAAAAAAAAAAAAAAAAAAAAAAAAAAAAAAAAAAAAAAAAAAAAJLSBrmSfM47M5UUOcYDpDkmBYs+AAAAAAAAAAAAAAAAAAAAAAAAAAAAAAAAAAAAAAAAAAAAAAAAAAAAAIyZdbo6yrY4+DyuOc09ajXMm0W+AAAAAAAAAAAAAAAAAAAAAAAAAAAAAAAAAAAAAAAAAAAAAAAAAAAAAAAAAAAAAAAAAAAAAAAAAACr9s++\",\"shape\":\"12, 15\"},\"type\":\"heatmap\",\"xaxis\":\"x2\",\"yaxis\":\"y2\",\"hovertemplate\":\"x: %{x}\\u003cbr\\u003ey: %{y}\\u003cbr\\u003ecolor: %{z}\\u003cextra\\u003e\\u003c\\u002fextra\\u003e\"},{\"coloraxis\":\"coloraxis\",\"name\":\"2\",\"x\":[\"\\u003c|endoftext|\\u003e_0\",\"When_1\",\" John_2\",\" and_3\",\" Mary_4\",\" went_5\",\" to_6\",\" the_7\",\" shops_8\",\",_9\",\" John_10\",\" gave_11\",\" the_12\",\" bag_13\",\" to_14\"],\"z\":{\"dtype\":\"f4\",\"bdata\":\"AAAAAAAAAAAAAAAAAAAAAAAAAAAAAAAAAAAAAAAAAAAAAAAAAAAAAF3NWT\\u002ftpJG5R6qYuABE+Lk8qCc4AAAAAAAAAAAAAAAAAAAAAAAAAAAAAAAAAAAAAAAAAAAAAAAAAAAAACY\\u002fETxZhGg5j4UdOUwBSriRcJ85AAAAAAAAAAAAAAAAAAAAAAAAAAAAAAAAAAAAAAAAAAAAAAAAAAAAAI7\\u002fXTwl6XY4GNCsuWJHJ7r6sEo6AAAAAAAAAAAAAAAAAAAAAAAAAAAAAAAAAAAAAAAAAAAAAAAAAAAAAHhB\\u002fzqN8wI6ETE2ObQEMTn3BdY5AAAAAAAAAAAAAAAAAAAAAAAAAAAAAAAAAAAAAAAAAAAAAAAAAAAAACYXorxBSIc7HRpNuOGvMbl8c086AAAAAAAAAAAAAAAAAAAAAAAAAAAAAAAAAAAAAAAAAAAAAAAAAAAAAK+uxT0bxfa6XnD9uVobOjq+U0C5AAAAAAAAAAAAAAAAAAAAAAAAAAAAAAAAAAAAAAAAAAAAAAAAAAAAALs+grwEvl66QdMBORr48jc7Le27AAAAAAAAAAAAAAAAAAAAAAAAAAAAAAAAAAAAAAAAAAAAAAAAAAAAAI7BKTyNh047+TELOj9MdzlPOAs8AAAAAAAAAAAAAAAAAAAAAAAAAAAAAAAAAAAAAAAAAAAAAAAAAAAAAIFWTbzziLk3YUW5ub71tDgPNbG8AAAAAAAAAAAAAAAAAAAAAAAAAAAAAAAAAAAAAAAAAAAAAAAAAAAAALMZr7lCSlQ6eTyKN8aYBzlviAE9AAAAAAAAAAAAAAAAAAAAAAAAAAAAAAAAAAAAAAAAAAAAAAAAAAAAAOU1sjqoYEu5gZTOuB5EFLkpous8AAAAAAAAAAAAAAAAAAAAAAAAAAAAAAAAAAAAAAAAAAAAAAAAAAAAAAAAAAAAAAAAAAAAAAAAAAB+g6c8\",\"shape\":\"12, 15\"},\"type\":\"heatmap\",\"xaxis\":\"x3\",\"yaxis\":\"y3\",\"hovertemplate\":\"x: %{x}\\u003cbr\\u003ey: %{y}\\u003cbr\\u003ecolor: %{z}\\u003cextra\\u003e\\u003c\\u002fextra\\u003e\"}],                        {\"template\":{\"data\":{\"histogram2dcontour\":[{\"type\":\"histogram2dcontour\",\"colorbar\":{\"outlinewidth\":0,\"ticks\":\"\"},\"colorscale\":[[0.0,\"#0d0887\"],[0.1111111111111111,\"#46039f\"],[0.2222222222222222,\"#7201a8\"],[0.3333333333333333,\"#9c179e\"],[0.4444444444444444,\"#bd3786\"],[0.5555555555555556,\"#d8576b\"],[0.6666666666666666,\"#ed7953\"],[0.7777777777777778,\"#fb9f3a\"],[0.8888888888888888,\"#fdca26\"],[1.0,\"#f0f921\"]]}],\"choropleth\":[{\"type\":\"choropleth\",\"colorbar\":{\"outlinewidth\":0,\"ticks\":\"\"}}],\"histogram2d\":[{\"type\":\"histogram2d\",\"colorbar\":{\"outlinewidth\":0,\"ticks\":\"\"},\"colorscale\":[[0.0,\"#0d0887\"],[0.1111111111111111,\"#46039f\"],[0.2222222222222222,\"#7201a8\"],[0.3333333333333333,\"#9c179e\"],[0.4444444444444444,\"#bd3786\"],[0.5555555555555556,\"#d8576b\"],[0.6666666666666666,\"#ed7953\"],[0.7777777777777778,\"#fb9f3a\"],[0.8888888888888888,\"#fdca26\"],[1.0,\"#f0f921\"]]}],\"heatmap\":[{\"type\":\"heatmap\",\"colorbar\":{\"outlinewidth\":0,\"ticks\":\"\"},\"colorscale\":[[0.0,\"#0d0887\"],[0.1111111111111111,\"#46039f\"],[0.2222222222222222,\"#7201a8\"],[0.3333333333333333,\"#9c179e\"],[0.4444444444444444,\"#bd3786\"],[0.5555555555555556,\"#d8576b\"],[0.6666666666666666,\"#ed7953\"],[0.7777777777777778,\"#fb9f3a\"],[0.8888888888888888,\"#fdca26\"],[1.0,\"#f0f921\"]]}],\"contourcarpet\":[{\"type\":\"contourcarpet\",\"colorbar\":{\"outlinewidth\":0,\"ticks\":\"\"}}],\"contour\":[{\"type\":\"contour\",\"colorbar\":{\"outlinewidth\":0,\"ticks\":\"\"},\"colorscale\":[[0.0,\"#0d0887\"],[0.1111111111111111,\"#46039f\"],[0.2222222222222222,\"#7201a8\"],[0.3333333333333333,\"#9c179e\"],[0.4444444444444444,\"#bd3786\"],[0.5555555555555556,\"#d8576b\"],[0.6666666666666666,\"#ed7953\"],[0.7777777777777778,\"#fb9f3a\"],[0.8888888888888888,\"#fdca26\"],[1.0,\"#f0f921\"]]}],\"surface\":[{\"type\":\"surface\",\"colorbar\":{\"outlinewidth\":0,\"ticks\":\"\"},\"colorscale\":[[0.0,\"#0d0887\"],[0.1111111111111111,\"#46039f\"],[0.2222222222222222,\"#7201a8\"],[0.3333333333333333,\"#9c179e\"],[0.4444444444444444,\"#bd3786\"],[0.5555555555555556,\"#d8576b\"],[0.6666666666666666,\"#ed7953\"],[0.7777777777777778,\"#fb9f3a\"],[0.8888888888888888,\"#fdca26\"],[1.0,\"#f0f921\"]]}],\"mesh3d\":[{\"type\":\"mesh3d\",\"colorbar\":{\"outlinewidth\":0,\"ticks\":\"\"}}],\"scatter\":[{\"fillpattern\":{\"fillmode\":\"overlay\",\"size\":10,\"solidity\":0.2},\"type\":\"scatter\"}],\"parcoords\":[{\"type\":\"parcoords\",\"line\":{\"colorbar\":{\"outlinewidth\":0,\"ticks\":\"\"}}}],\"scatterpolargl\":[{\"type\":\"scatterpolargl\",\"marker\":{\"colorbar\":{\"outlinewidth\":0,\"ticks\":\"\"}}}],\"bar\":[{\"error_x\":{\"color\":\"#2a3f5f\"},\"error_y\":{\"color\":\"#2a3f5f\"},\"marker\":{\"line\":{\"color\":\"#E5ECF6\",\"width\":0.5},\"pattern\":{\"fillmode\":\"overlay\",\"size\":10,\"solidity\":0.2}},\"type\":\"bar\"}],\"scattergeo\":[{\"type\":\"scattergeo\",\"marker\":{\"colorbar\":{\"outlinewidth\":0,\"ticks\":\"\"}}}],\"scatterpolar\":[{\"type\":\"scatterpolar\",\"marker\":{\"colorbar\":{\"outlinewidth\":0,\"ticks\":\"\"}}}],\"histogram\":[{\"marker\":{\"pattern\":{\"fillmode\":\"overlay\",\"size\":10,\"solidity\":0.2}},\"type\":\"histogram\"}],\"scattergl\":[{\"type\":\"scattergl\",\"marker\":{\"colorbar\":{\"outlinewidth\":0,\"ticks\":\"\"}}}],\"scatter3d\":[{\"type\":\"scatter3d\",\"line\":{\"colorbar\":{\"outlinewidth\":0,\"ticks\":\"\"}},\"marker\":{\"colorbar\":{\"outlinewidth\":0,\"ticks\":\"\"}}}],\"scattermap\":[{\"type\":\"scattermap\",\"marker\":{\"colorbar\":{\"outlinewidth\":0,\"ticks\":\"\"}}}],\"scattermapbox\":[{\"type\":\"scattermapbox\",\"marker\":{\"colorbar\":{\"outlinewidth\":0,\"ticks\":\"\"}}}],\"scatterternary\":[{\"type\":\"scatterternary\",\"marker\":{\"colorbar\":{\"outlinewidth\":0,\"ticks\":\"\"}}}],\"scattercarpet\":[{\"type\":\"scattercarpet\",\"marker\":{\"colorbar\":{\"outlinewidth\":0,\"ticks\":\"\"}}}],\"carpet\":[{\"aaxis\":{\"endlinecolor\":\"#2a3f5f\",\"gridcolor\":\"white\",\"linecolor\":\"white\",\"minorgridcolor\":\"white\",\"startlinecolor\":\"#2a3f5f\"},\"baxis\":{\"endlinecolor\":\"#2a3f5f\",\"gridcolor\":\"white\",\"linecolor\":\"white\",\"minorgridcolor\":\"white\",\"startlinecolor\":\"#2a3f5f\"},\"type\":\"carpet\"}],\"table\":[{\"cells\":{\"fill\":{\"color\":\"#EBF0F8\"},\"line\":{\"color\":\"white\"}},\"header\":{\"fill\":{\"color\":\"#C8D4E3\"},\"line\":{\"color\":\"white\"}},\"type\":\"table\"}],\"barpolar\":[{\"marker\":{\"line\":{\"color\":\"#E5ECF6\",\"width\":0.5},\"pattern\":{\"fillmode\":\"overlay\",\"size\":10,\"solidity\":0.2}},\"type\":\"barpolar\"}],\"pie\":[{\"automargin\":true,\"type\":\"pie\"}]},\"layout\":{\"autotypenumbers\":\"strict\",\"colorway\":[\"#636efa\",\"#EF553B\",\"#00cc96\",\"#ab63fa\",\"#FFA15A\",\"#19d3f3\",\"#FF6692\",\"#B6E880\",\"#FF97FF\",\"#FECB52\"],\"font\":{\"color\":\"#2a3f5f\"},\"hovermode\":\"closest\",\"hoverlabel\":{\"align\":\"left\"},\"paper_bgcolor\":\"white\",\"plot_bgcolor\":\"#E5ECF6\",\"polar\":{\"bgcolor\":\"#E5ECF6\",\"angularaxis\":{\"gridcolor\":\"white\",\"linecolor\":\"white\",\"ticks\":\"\"},\"radialaxis\":{\"gridcolor\":\"white\",\"linecolor\":\"white\",\"ticks\":\"\"}},\"ternary\":{\"bgcolor\":\"#E5ECF6\",\"aaxis\":{\"gridcolor\":\"white\",\"linecolor\":\"white\",\"ticks\":\"\"},\"baxis\":{\"gridcolor\":\"white\",\"linecolor\":\"white\",\"ticks\":\"\"},\"caxis\":{\"gridcolor\":\"white\",\"linecolor\":\"white\",\"ticks\":\"\"}},\"coloraxis\":{\"colorbar\":{\"outlinewidth\":0,\"ticks\":\"\"}},\"colorscale\":{\"sequential\":[[0.0,\"#0d0887\"],[0.1111111111111111,\"#46039f\"],[0.2222222222222222,\"#7201a8\"],[0.3333333333333333,\"#9c179e\"],[0.4444444444444444,\"#bd3786\"],[0.5555555555555556,\"#d8576b\"],[0.6666666666666666,\"#ed7953\"],[0.7777777777777778,\"#fb9f3a\"],[0.8888888888888888,\"#fdca26\"],[1.0,\"#f0f921\"]],\"sequentialminus\":[[0.0,\"#0d0887\"],[0.1111111111111111,\"#46039f\"],[0.2222222222222222,\"#7201a8\"],[0.3333333333333333,\"#9c179e\"],[0.4444444444444444,\"#bd3786\"],[0.5555555555555556,\"#d8576b\"],[0.6666666666666666,\"#ed7953\"],[0.7777777777777778,\"#fb9f3a\"],[0.8888888888888888,\"#fdca26\"],[1.0,\"#f0f921\"]],\"diverging\":[[0,\"#8e0152\"],[0.1,\"#c51b7d\"],[0.2,\"#de77ae\"],[0.3,\"#f1b6da\"],[0.4,\"#fde0ef\"],[0.5,\"#f7f7f7\"],[0.6,\"#e6f5d0\"],[0.7,\"#b8e186\"],[0.8,\"#7fbc41\"],[0.9,\"#4d9221\"],[1,\"#276419\"]]},\"xaxis\":{\"gridcolor\":\"white\",\"linecolor\":\"white\",\"ticks\":\"\",\"title\":{\"standoff\":15},\"zerolinecolor\":\"white\",\"automargin\":true,\"zerolinewidth\":2},\"yaxis\":{\"gridcolor\":\"white\",\"linecolor\":\"white\",\"ticks\":\"\",\"title\":{\"standoff\":15},\"zerolinecolor\":\"white\",\"automargin\":true,\"zerolinewidth\":2},\"scene\":{\"xaxis\":{\"backgroundcolor\":\"#E5ECF6\",\"gridcolor\":\"white\",\"linecolor\":\"white\",\"showbackground\":true,\"ticks\":\"\",\"zerolinecolor\":\"white\",\"gridwidth\":2},\"yaxis\":{\"backgroundcolor\":\"#E5ECF6\",\"gridcolor\":\"white\",\"linecolor\":\"white\",\"showbackground\":true,\"ticks\":\"\",\"zerolinecolor\":\"white\",\"gridwidth\":2},\"zaxis\":{\"backgroundcolor\":\"#E5ECF6\",\"gridcolor\":\"white\",\"linecolor\":\"white\",\"showbackground\":true,\"ticks\":\"\",\"zerolinecolor\":\"white\",\"gridwidth\":2}},\"shapedefaults\":{\"line\":{\"color\":\"#2a3f5f\"}},\"annotationdefaults\":{\"arrowcolor\":\"#2a3f5f\",\"arrowhead\":0,\"arrowwidth\":1},\"geo\":{\"bgcolor\":\"white\",\"landcolor\":\"#E5ECF6\",\"subunitcolor\":\"white\",\"showland\":true,\"showlakes\":true,\"lakecolor\":\"white\"},\"title\":{\"x\":0.05},\"mapbox\":{\"style\":\"light\"}}},\"xaxis\":{\"anchor\":\"y\",\"domain\":[0.0,0.31999999999999995],\"title\":{\"text\":\"Position\"}},\"yaxis\":{\"anchor\":\"x\",\"domain\":[0.0,1.0],\"autorange\":\"reversed\",\"title\":{\"text\":\"Layer\"}},\"xaxis2\":{\"anchor\":\"y2\",\"domain\":[0.33999999999999997,0.6599999999999999],\"matches\":\"x\",\"title\":{\"text\":\"Position\"}},\"yaxis2\":{\"anchor\":\"x2\",\"domain\":[0.0,1.0],\"matches\":\"y\",\"showticklabels\":false},\"xaxis3\":{\"anchor\":\"y3\",\"domain\":[0.6799999999999999,0.9999999999999999],\"matches\":\"x\",\"title\":{\"text\":\"Position\"}},\"yaxis3\":{\"anchor\":\"x3\",\"domain\":[0.0,1.0],\"matches\":\"y\",\"showticklabels\":false},\"annotations\":[{\"font\":{},\"showarrow\":false,\"text\":\"Residual Stream\",\"x\":0.15999999999999998,\"xanchor\":\"center\",\"xref\":\"paper\",\"y\":1.0,\"yanchor\":\"bottom\",\"yref\":\"paper\"},{\"font\":{},\"showarrow\":false,\"text\":\"Attn Output\",\"x\":0.49999999999999994,\"xanchor\":\"center\",\"xref\":\"paper\",\"y\":1.0,\"yanchor\":\"bottom\",\"yref\":\"paper\"},{\"font\":{},\"showarrow\":false,\"text\":\"MLP Output\",\"x\":0.8399999999999999,\"xanchor\":\"center\",\"xref\":\"paper\",\"y\":1.0,\"yanchor\":\"bottom\",\"yref\":\"paper\"}],\"coloraxis\":{\"colorscale\":[[0.0,\"rgb(103,0,31)\"],[0.1,\"rgb(178,24,43)\"],[0.2,\"rgb(214,96,77)\"],[0.3,\"rgb(244,165,130)\"],[0.4,\"rgb(253,219,199)\"],[0.5,\"rgb(247,247,247)\"],[0.6,\"rgb(209,229,240)\"],[0.7,\"rgb(146,197,222)\"],[0.8,\"rgb(67,147,195)\"],[0.9,\"rgb(33,102,172)\"],[1.0,\"rgb(5,48,97)\"]],\"cmid\":0.0,\"cmin\":-1,\"cmax\":1},\"title\":{\"text\":\"Activation Patching Per Block\"}},                        {\"responsive\": true}                    ).then(function(){\n",
       "                            \n",
       "var gd = document.getElementById('cdab08db-2d53-4ebc-b5c6-4edade2661eb');\n",
       "var x = new MutationObserver(function (mutations, observer) {{\n",
       "        var display = window.getComputedStyle(gd).display;\n",
       "        if (!display || display === 'none') {{\n",
       "            console.log([gd, 'removed!']);\n",
       "            Plotly.purge(gd);\n",
       "            observer.disconnect();\n",
       "        }}\n",
       "}});\n",
       "\n",
       "// Listen for the removal of the full notebook cells\n",
       "var notebookContainer = gd.closest('#notebook-container');\n",
       "if (notebookContainer) {{\n",
       "    x.observe(notebookContainer, {childList: true});\n",
       "}}\n",
       "\n",
       "// Listen for the clearing of the current output cell\n",
       "var outputEl = gd.closest('.output');\n",
       "if (outputEl) {{\n",
       "    x.observe(outputEl, {childList: true});\n",
       "}}\n",
       "\n",
       "                        })                };            </script>        </div>\n",
       "</body>\n",
       "</html>"
      ]
     },
     "metadata": {},
     "output_type": "display_data"
    }
   ],
   "source": [
    "every_block_act_patch_result = patching.get_act_patch_block_every(\n",
    "    model, corrupted_tokens, clean_cache, ioi_metric\n",
    ")\n",
    "imshow(\n",
    "    every_block_act_patch_result,\n",
    "    facet_col=0,\n",
    "    facet_labels=[\"Residual Stream\", \"Attn Output\", \"MLP Output\"],\n",
    "    title=\"Activation Patching Per Block\",\n",
    "    xaxis=\"Position\",\n",
    "    yaxis=\"Layer\",\n",
    "    zmax=1,\n",
    "    zmin=-1,\n",
    "    x=[f\"{tok}_{i}\" for i, tok in enumerate(model.to_str_tokens(clean_tokens[0]))],\n",
    ")"
   ]
  },
  {
   "cell_type": "code",
   "execution_count": 16,
   "id": "24f1788e-dd36-4971-92e0-b3964a3f6915",
   "metadata": {},
   "outputs": [
    {
     "data": {
      "text/html": [
       "<html>\n",
       "<head><meta charset=\"utf-8\" /></head>\n",
       "<body>\n",
       "    <div>            <script src=\"https://cdnjs.cloudflare.com/ajax/libs/mathjax/2.7.5/MathJax.js?config=TeX-AMS-MML_SVG\"></script><script type=\"text/javascript\">if (window.MathJax && window.MathJax.Hub && window.MathJax.Hub.Config) {window.MathJax.Hub.Config({SVG: {font: \"STIX-Web\"}});}</script>                <script type=\"text/javascript\">window.PlotlyConfig = {MathJaxConfig: 'local'};</script>\n",
       "        <script charset=\"utf-8\" src=\"https://cdn.plot.ly/plotly-3.0.0.min.js\"></script>                <div id=\"002163ff-b9f5-4285-bfdf-ee263e5fa0ec\" class=\"plotly-graph-div\" style=\"height:525px; width:100%;\"></div>            <script type=\"text/javascript\">                window.PLOTLYENV=window.PLOTLYENV || {};                                if (document.getElementById(\"002163ff-b9f5-4285-bfdf-ee263e5fa0ec\")) {                    Plotly.newPlot(                        \"002163ff-b9f5-4285-bfdf-ee263e5fa0ec\",                        [{\"coloraxis\":\"coloraxis\",\"name\":\"0\",\"x\":[\"\\u003c|endoftext|\\u003e_0\",\"When_1\",\" John_2\",\" and_3\",\" Mary_4\",\" went_5\",\" to_6\",\" the_7\",\" shops_8\",\",_9\",\" John_10\",\" gave_11\",\" the_12\",\" bag_13\",\" to_14\"],\"z\":{\"dtype\":\"f4\",\"bdata\":\"AAAAAAAAAAAAAAAAAAAAAAAAAAAAAAAAAAAAAAAAAAAAAAAAAAAAAJ3HST8AAAAAAAAAAAAAAAAAAAAAAAAAAAAAAAAAAAAAAAAAAAAAAAAAAAAAAAAAAAAAAAAAAAAAAAAAADxJPj+qwsi685IWuWMZ8LmHp7m6AAAAAAAAAAAAAAAAAAAAAAAAAAAAAAAAAAAAAAAAAAAAAAAAAAAAAJAtDD+8SH266neEODBQCjj6r7O6AAAAAAAAAAAAAAAAAAAAAAAAAAAAAAAAAAAAAAAAAAAAAAAAAAAAAEGyDz\\u002fauT25AJlnuL8eorltub26AAAAAAAAAAAAAAAAAAAAAAAAAAAAAAAAAAAAAAAAAAAAAAAAAAAAAGTY8D56Ees70lyiOll8BroIzK26AAAAAAAAAAAAAAAAAAAAAAAAAAAAAAAAAAAAAAAAAAAAAAAAAAAAAOQQED8XcwA9clQiOxPusrrfl6q6AAAAAAAAAAAAAAAAAAAAAAAAAAAAAAAAAAAAAAAAAAAAAAAAAAAAABPITD8wSt88iqHBOjkvx7nwpjg5AAAAAAAAAAAAAAAAAAAAAAAAAAAAAAAAAAAAAAAAAAAAAAAAAAAAAG5QOz8PJ0E9NkOEO0SoDDrmC4s8AAAAAAAAAAAAAAAAAAAAAAAAAAAAAAAAAAAAAAAAAAAAAAAAAAAAALYO9D77B6M8NnfdOvkH4rmMip0+AAAAAAAAAAAAAAAAAAAAAAAAAAAAAAAAAAAAAAAAAAAAAAAAAAAAANo1t70sEs880F2GOuNTgjkvFls\\u002fAAAAAAAAAAAAAAAAAAAAAAAAAAAAAAAAAAAAAAAAAAAAAAAAAAAAAH\\u002fAE74EDIc85LHzOTi6vLhjA5c\\u002fAAAAAAAAAAAAAAAAAAAAAAAAAAAAAAAAAAAAAAAAAAAAAAAAAAAAAIItxL3s82s8JhjJOd6TiblwPX0\\u002f\",\"shape\":\"12, 15\"},\"type\":\"heatmap\",\"xaxis\":\"x\",\"yaxis\":\"y\",\"hovertemplate\":\"x: %{x}\\u003cbr\\u003ey: %{y}\\u003cbr\\u003ecolor: %{z}\\u003cextra\\u003e\\u003c\\u002fextra\\u003e\"},{\"coloraxis\":\"coloraxis\",\"name\":\"1\",\"x\":[\"\\u003c|endoftext|\\u003e_0\",\"When_1\",\" John_2\",\" and_3\",\" Mary_4\",\" went_5\",\" to_6\",\" the_7\",\" shops_8\",\",_9\",\" John_10\",\" gave_11\",\" the_12\",\" bag_13\",\" to_14\"],\"z\":{\"dtype\":\"f4\",\"bdata\":\"AAAAAAAAAAAAAAAAAAAAAAAAAAAAAAAAAAAAAAAAAAAAAAAAAAAAAF8SRD7HzGi7dEBuuWZO87mzpty6AAAAAAAAAAAAAAAAAAAAAAAAAAAAAAAAAAAAAAAAAAAAAAAAAAAAAFqMJjzABQM6tO20OJAUwDgwj4U3AAAAAAAAAAAAAAAAAAAAAAAAAAAAAAAAAAAAAAAAAAAAAAAAAAAAAH1icDt491w6kMnTOLBsvjmkYOs5AAAAAAAAAAAAAAAAAAAAAAAAAAAAAAAAAAAAAAAAAAAAAAAAAAAAACqn0T0nbNs7rqk4OnRe9LlCMdU5AAAAAAAAAAAAAAAAAAAAAAAAAAAAAAAAAAAAAAAAAAAAAAAAAAAAAIqyNbww45E8zzR3OuYqnzggXg46AAAAAAAAAAAAAAAAAAAAAAAAAAAAAAAAAAAAAAAAAAAAAAAAAAAAAMjmgD6hRsU6KYCOOZpatLlPRYY6AAAAAAAAAAAAAAAAAAAAAAAAAAAAAAAAAAAAAAAAAAAAAAAAAAAAACS90T3gNZQ8Jo4MOzGBezrlHJ08AAAAAAAAAAAAAAAAAAAAAAAAAAAAAAAAAAAAAAAAAAAAAAAAAAAAAEb5NTxY9zg8Wl\\u002fGOfS9Rbku\\u002fI8+AAAAAAAAAAAAAAAAAAAAAAAAAAAAAAAAAAAAAAAAAAAAAAAAAAAAAIZSELsvJok8IGM8OmXffTqqvSA\\u002fAAAAAAAAAAAAAAAAAAAAAAAAAAAAAAAAAAAAAAAAAAAAAAAAAAAAALbiy7jff5A7OHcnOazxRzl0Ues+AAAAAAAAAAAAAAAAAAAAAAAAAAAAAAAAAAAAAAAAAAAAAAAAAAAAAL\\u002f7cLqF4P+5cMaYOTDCyLim0jC+AAAAAAAAAAAAAAAAAAAAAAAAAAAAAAAAAAAAAAAAAAAAAAAAAAAAAAAAAAAAAAAAAAAAAAAAAACa8tC+\",\"shape\":\"12, 15\"},\"type\":\"heatmap\",\"xaxis\":\"x2\",\"yaxis\":\"y2\",\"hovertemplate\":\"x: %{x}\\u003cbr\\u003ey: %{y}\\u003cbr\\u003ecolor: %{z}\\u003cextra\\u003e\\u003c\\u002fextra\\u003e\"},{\"coloraxis\":\"coloraxis\",\"name\":\"2\",\"x\":[\"\\u003c|endoftext|\\u003e_0\",\"When_1\",\" John_2\",\" and_3\",\" Mary_4\",\" went_5\",\" to_6\",\" the_7\",\" shops_8\",\",_9\",\" John_10\",\" gave_11\",\" the_12\",\" bag_13\",\" to_14\"],\"z\":{\"dtype\":\"f4\",\"bdata\":\"AAAAAAAAAAAAAAAAAAAAAAAAAAAAAAAAAAAAAAAAAAAAAAAAAAAAAOYzCT\\u002fkCDg5yauMuf+CJbrAMOu6AAAAAAAAAAAAAAAAAAAAAAAAAAAAAAAAAAAAAAAAAAAAAAAAAAAAAKJmBT0cXK86idIdOqQkurfQIP85AAAAAAAAAAAAAAAAAAAAAAAAAAAAAAAAAAAAAAAAAAAAAAAAAAAAAHKcCz3E26y6UsgPuoA6PbgVPiE6AAAAAAAAAAAAAAAAAAAAAAAAAAAAAAAAAAAAAAAAAAAAAAAAAAAAANJbWj144NU5MFixORL3O7lOuAw6AAAAAAAAAAAAAAAAAAAAAAAAAAAAAAAAAAAAAAAAAAAAAAAAAAAAAEHAhjtQMGk7CCcNOayoULkyEus6AAAAAAAAAAAAAAAAAAAAAAAAAAAAAAAAAAAAAAAAAAAAAAAAAAAAACBmzz3iOHa75F\\u002fLubJ7fDpyNDO5AAAAAAAAAAAAAAAAAAAAAAAAAAAAAAAAAAAAAAAAAAAAAAAAAAAAAH97pryR8US7IjsBObbKAThhVpO7AAAAAAAAAAAAAAAAAAAAAAAAAAAAAAAAAAAAAAAAAAAAAAAAAAAAABpqEronGgc7PrmLOaNcfTmsTUE7AAAAAAAAAAAAAAAAAAAAAAAAAAAAAAAAAAAAAAAAAAAAAAAAAAAAAEPoOLwv4bG5cZzGuSi+6Tfy1qq7AAAAAAAAAAAAAAAAAAAAAAAAAAAAAAAAAAAAAAAAAAAAAAAAAAAAABA1ezoMUBg6A7G9t31Y8ThYlwA9AAAAAAAAAAAAAAAAAAAAAAAAAAAAAAAAAAAAAAAAAAAAAAAAAAAAALBA1Dga7rs5b3yjuGy1VLle8Ac9AAAAAAAAAAAAAAAAAAAAAAAAAAAAAAAAAAAAAAAAAAAAAAAAAAAAAAAAAAAAAAAAAAAAAAAAAAAPdfo8\",\"shape\":\"12, 15\"},\"type\":\"heatmap\",\"xaxis\":\"x3\",\"yaxis\":\"y3\",\"hovertemplate\":\"x: %{x}\\u003cbr\\u003ey: %{y}\\u003cbr\\u003ecolor: %{z}\\u003cextra\\u003e\\u003c\\u002fextra\\u003e\"}],                        {\"template\":{\"data\":{\"histogram2dcontour\":[{\"type\":\"histogram2dcontour\",\"colorbar\":{\"outlinewidth\":0,\"ticks\":\"\"},\"colorscale\":[[0.0,\"#0d0887\"],[0.1111111111111111,\"#46039f\"],[0.2222222222222222,\"#7201a8\"],[0.3333333333333333,\"#9c179e\"],[0.4444444444444444,\"#bd3786\"],[0.5555555555555556,\"#d8576b\"],[0.6666666666666666,\"#ed7953\"],[0.7777777777777778,\"#fb9f3a\"],[0.8888888888888888,\"#fdca26\"],[1.0,\"#f0f921\"]]}],\"choropleth\":[{\"type\":\"choropleth\",\"colorbar\":{\"outlinewidth\":0,\"ticks\":\"\"}}],\"histogram2d\":[{\"type\":\"histogram2d\",\"colorbar\":{\"outlinewidth\":0,\"ticks\":\"\"},\"colorscale\":[[0.0,\"#0d0887\"],[0.1111111111111111,\"#46039f\"],[0.2222222222222222,\"#7201a8\"],[0.3333333333333333,\"#9c179e\"],[0.4444444444444444,\"#bd3786\"],[0.5555555555555556,\"#d8576b\"],[0.6666666666666666,\"#ed7953\"],[0.7777777777777778,\"#fb9f3a\"],[0.8888888888888888,\"#fdca26\"],[1.0,\"#f0f921\"]]}],\"heatmap\":[{\"type\":\"heatmap\",\"colorbar\":{\"outlinewidth\":0,\"ticks\":\"\"},\"colorscale\":[[0.0,\"#0d0887\"],[0.1111111111111111,\"#46039f\"],[0.2222222222222222,\"#7201a8\"],[0.3333333333333333,\"#9c179e\"],[0.4444444444444444,\"#bd3786\"],[0.5555555555555556,\"#d8576b\"],[0.6666666666666666,\"#ed7953\"],[0.7777777777777778,\"#fb9f3a\"],[0.8888888888888888,\"#fdca26\"],[1.0,\"#f0f921\"]]}],\"contourcarpet\":[{\"type\":\"contourcarpet\",\"colorbar\":{\"outlinewidth\":0,\"ticks\":\"\"}}],\"contour\":[{\"type\":\"contour\",\"colorbar\":{\"outlinewidth\":0,\"ticks\":\"\"},\"colorscale\":[[0.0,\"#0d0887\"],[0.1111111111111111,\"#46039f\"],[0.2222222222222222,\"#7201a8\"],[0.3333333333333333,\"#9c179e\"],[0.4444444444444444,\"#bd3786\"],[0.5555555555555556,\"#d8576b\"],[0.6666666666666666,\"#ed7953\"],[0.7777777777777778,\"#fb9f3a\"],[0.8888888888888888,\"#fdca26\"],[1.0,\"#f0f921\"]]}],\"surface\":[{\"type\":\"surface\",\"colorbar\":{\"outlinewidth\":0,\"ticks\":\"\"},\"colorscale\":[[0.0,\"#0d0887\"],[0.1111111111111111,\"#46039f\"],[0.2222222222222222,\"#7201a8\"],[0.3333333333333333,\"#9c179e\"],[0.4444444444444444,\"#bd3786\"],[0.5555555555555556,\"#d8576b\"],[0.6666666666666666,\"#ed7953\"],[0.7777777777777778,\"#fb9f3a\"],[0.8888888888888888,\"#fdca26\"],[1.0,\"#f0f921\"]]}],\"mesh3d\":[{\"type\":\"mesh3d\",\"colorbar\":{\"outlinewidth\":0,\"ticks\":\"\"}}],\"scatter\":[{\"fillpattern\":{\"fillmode\":\"overlay\",\"size\":10,\"solidity\":0.2},\"type\":\"scatter\"}],\"parcoords\":[{\"type\":\"parcoords\",\"line\":{\"colorbar\":{\"outlinewidth\":0,\"ticks\":\"\"}}}],\"scatterpolargl\":[{\"type\":\"scatterpolargl\",\"marker\":{\"colorbar\":{\"outlinewidth\":0,\"ticks\":\"\"}}}],\"bar\":[{\"error_x\":{\"color\":\"#2a3f5f\"},\"error_y\":{\"color\":\"#2a3f5f\"},\"marker\":{\"line\":{\"color\":\"#E5ECF6\",\"width\":0.5},\"pattern\":{\"fillmode\":\"overlay\",\"size\":10,\"solidity\":0.2}},\"type\":\"bar\"}],\"scattergeo\":[{\"type\":\"scattergeo\",\"marker\":{\"colorbar\":{\"outlinewidth\":0,\"ticks\":\"\"}}}],\"scatterpolar\":[{\"type\":\"scatterpolar\",\"marker\":{\"colorbar\":{\"outlinewidth\":0,\"ticks\":\"\"}}}],\"histogram\":[{\"marker\":{\"pattern\":{\"fillmode\":\"overlay\",\"size\":10,\"solidity\":0.2}},\"type\":\"histogram\"}],\"scattergl\":[{\"type\":\"scattergl\",\"marker\":{\"colorbar\":{\"outlinewidth\":0,\"ticks\":\"\"}}}],\"scatter3d\":[{\"type\":\"scatter3d\",\"line\":{\"colorbar\":{\"outlinewidth\":0,\"ticks\":\"\"}},\"marker\":{\"colorbar\":{\"outlinewidth\":0,\"ticks\":\"\"}}}],\"scattermap\":[{\"type\":\"scattermap\",\"marker\":{\"colorbar\":{\"outlinewidth\":0,\"ticks\":\"\"}}}],\"scattermapbox\":[{\"type\":\"scattermapbox\",\"marker\":{\"colorbar\":{\"outlinewidth\":0,\"ticks\":\"\"}}}],\"scatterternary\":[{\"type\":\"scatterternary\",\"marker\":{\"colorbar\":{\"outlinewidth\":0,\"ticks\":\"\"}}}],\"scattercarpet\":[{\"type\":\"scattercarpet\",\"marker\":{\"colorbar\":{\"outlinewidth\":0,\"ticks\":\"\"}}}],\"carpet\":[{\"aaxis\":{\"endlinecolor\":\"#2a3f5f\",\"gridcolor\":\"white\",\"linecolor\":\"white\",\"minorgridcolor\":\"white\",\"startlinecolor\":\"#2a3f5f\"},\"baxis\":{\"endlinecolor\":\"#2a3f5f\",\"gridcolor\":\"white\",\"linecolor\":\"white\",\"minorgridcolor\":\"white\",\"startlinecolor\":\"#2a3f5f\"},\"type\":\"carpet\"}],\"table\":[{\"cells\":{\"fill\":{\"color\":\"#EBF0F8\"},\"line\":{\"color\":\"white\"}},\"header\":{\"fill\":{\"color\":\"#C8D4E3\"},\"line\":{\"color\":\"white\"}},\"type\":\"table\"}],\"barpolar\":[{\"marker\":{\"line\":{\"color\":\"#E5ECF6\",\"width\":0.5},\"pattern\":{\"fillmode\":\"overlay\",\"size\":10,\"solidity\":0.2}},\"type\":\"barpolar\"}],\"pie\":[{\"automargin\":true,\"type\":\"pie\"}]},\"layout\":{\"autotypenumbers\":\"strict\",\"colorway\":[\"#636efa\",\"#EF553B\",\"#00cc96\",\"#ab63fa\",\"#FFA15A\",\"#19d3f3\",\"#FF6692\",\"#B6E880\",\"#FF97FF\",\"#FECB52\"],\"font\":{\"color\":\"#2a3f5f\"},\"hovermode\":\"closest\",\"hoverlabel\":{\"align\":\"left\"},\"paper_bgcolor\":\"white\",\"plot_bgcolor\":\"#E5ECF6\",\"polar\":{\"bgcolor\":\"#E5ECF6\",\"angularaxis\":{\"gridcolor\":\"white\",\"linecolor\":\"white\",\"ticks\":\"\"},\"radialaxis\":{\"gridcolor\":\"white\",\"linecolor\":\"white\",\"ticks\":\"\"}},\"ternary\":{\"bgcolor\":\"#E5ECF6\",\"aaxis\":{\"gridcolor\":\"white\",\"linecolor\":\"white\",\"ticks\":\"\"},\"baxis\":{\"gridcolor\":\"white\",\"linecolor\":\"white\",\"ticks\":\"\"},\"caxis\":{\"gridcolor\":\"white\",\"linecolor\":\"white\",\"ticks\":\"\"}},\"coloraxis\":{\"colorbar\":{\"outlinewidth\":0,\"ticks\":\"\"}},\"colorscale\":{\"sequential\":[[0.0,\"#0d0887\"],[0.1111111111111111,\"#46039f\"],[0.2222222222222222,\"#7201a8\"],[0.3333333333333333,\"#9c179e\"],[0.4444444444444444,\"#bd3786\"],[0.5555555555555556,\"#d8576b\"],[0.6666666666666666,\"#ed7953\"],[0.7777777777777778,\"#fb9f3a\"],[0.8888888888888888,\"#fdca26\"],[1.0,\"#f0f921\"]],\"sequentialminus\":[[0.0,\"#0d0887\"],[0.1111111111111111,\"#46039f\"],[0.2222222222222222,\"#7201a8\"],[0.3333333333333333,\"#9c179e\"],[0.4444444444444444,\"#bd3786\"],[0.5555555555555556,\"#d8576b\"],[0.6666666666666666,\"#ed7953\"],[0.7777777777777778,\"#fb9f3a\"],[0.8888888888888888,\"#fdca26\"],[1.0,\"#f0f921\"]],\"diverging\":[[0,\"#8e0152\"],[0.1,\"#c51b7d\"],[0.2,\"#de77ae\"],[0.3,\"#f1b6da\"],[0.4,\"#fde0ef\"],[0.5,\"#f7f7f7\"],[0.6,\"#e6f5d0\"],[0.7,\"#b8e186\"],[0.8,\"#7fbc41\"],[0.9,\"#4d9221\"],[1,\"#276419\"]]},\"xaxis\":{\"gridcolor\":\"white\",\"linecolor\":\"white\",\"ticks\":\"\",\"title\":{\"standoff\":15},\"zerolinecolor\":\"white\",\"automargin\":true,\"zerolinewidth\":2},\"yaxis\":{\"gridcolor\":\"white\",\"linecolor\":\"white\",\"ticks\":\"\",\"title\":{\"standoff\":15},\"zerolinecolor\":\"white\",\"automargin\":true,\"zerolinewidth\":2},\"scene\":{\"xaxis\":{\"backgroundcolor\":\"#E5ECF6\",\"gridcolor\":\"white\",\"linecolor\":\"white\",\"showbackground\":true,\"ticks\":\"\",\"zerolinecolor\":\"white\",\"gridwidth\":2},\"yaxis\":{\"backgroundcolor\":\"#E5ECF6\",\"gridcolor\":\"white\",\"linecolor\":\"white\",\"showbackground\":true,\"ticks\":\"\",\"zerolinecolor\":\"white\",\"gridwidth\":2},\"zaxis\":{\"backgroundcolor\":\"#E5ECF6\",\"gridcolor\":\"white\",\"linecolor\":\"white\",\"showbackground\":true,\"ticks\":\"\",\"zerolinecolor\":\"white\",\"gridwidth\":2}},\"shapedefaults\":{\"line\":{\"color\":\"#2a3f5f\"}},\"annotationdefaults\":{\"arrowcolor\":\"#2a3f5f\",\"arrowhead\":0,\"arrowwidth\":1},\"geo\":{\"bgcolor\":\"white\",\"landcolor\":\"#E5ECF6\",\"subunitcolor\":\"white\",\"showland\":true,\"showlakes\":true,\"lakecolor\":\"white\"},\"title\":{\"x\":0.05},\"mapbox\":{\"style\":\"light\"}}},\"xaxis\":{\"anchor\":\"y\",\"domain\":[0.0,0.31999999999999995],\"title\":{\"text\":\"Position\"}},\"yaxis\":{\"anchor\":\"x\",\"domain\":[0.0,1.0],\"autorange\":\"reversed\",\"title\":{\"text\":\"Layer\"}},\"xaxis2\":{\"anchor\":\"y2\",\"domain\":[0.33999999999999997,0.6599999999999999],\"matches\":\"x\",\"title\":{\"text\":\"Position\"}},\"yaxis2\":{\"anchor\":\"x2\",\"domain\":[0.0,1.0],\"matches\":\"y\",\"showticklabels\":false},\"xaxis3\":{\"anchor\":\"y3\",\"domain\":[0.6799999999999999,0.9999999999999999],\"matches\":\"x\",\"title\":{\"text\":\"Position\"}},\"yaxis3\":{\"anchor\":\"x3\",\"domain\":[0.0,1.0],\"matches\":\"y\",\"showticklabels\":false},\"annotations\":[{\"font\":{},\"showarrow\":false,\"text\":\"Residual Stream\",\"x\":0.15999999999999998,\"xanchor\":\"center\",\"xref\":\"paper\",\"y\":1.0,\"yanchor\":\"bottom\",\"yref\":\"paper\"},{\"font\":{},\"showarrow\":false,\"text\":\"Attn Output\",\"x\":0.49999999999999994,\"xanchor\":\"center\",\"xref\":\"paper\",\"y\":1.0,\"yanchor\":\"bottom\",\"yref\":\"paper\"},{\"font\":{},\"showarrow\":false,\"text\":\"MLP Output\",\"x\":0.8399999999999999,\"xanchor\":\"center\",\"xref\":\"paper\",\"y\":1.0,\"yanchor\":\"bottom\",\"yref\":\"paper\"}],\"coloraxis\":{\"colorscale\":[[0.0,\"rgb(103,0,31)\"],[0.1,\"rgb(178,24,43)\"],[0.2,\"rgb(214,96,77)\"],[0.3,\"rgb(244,165,130)\"],[0.4,\"rgb(253,219,199)\"],[0.5,\"rgb(247,247,247)\"],[0.6,\"rgb(209,229,240)\"],[0.7,\"rgb(146,197,222)\"],[0.8,\"rgb(67,147,195)\"],[0.9,\"rgb(33,102,172)\"],[1.0,\"rgb(5,48,97)\"]],\"cmid\":0.0,\"cmin\":-1,\"cmax\":1},\"title\":{\"text\":\"LRP Patching Per Block\"}},                        {\"responsive\": true}                    ).then(function(){\n",
       "                            \n",
       "var gd = document.getElementById('002163ff-b9f5-4285-bfdf-ee263e5fa0ec');\n",
       "var x = new MutationObserver(function (mutations, observer) {{\n",
       "        var display = window.getComputedStyle(gd).display;\n",
       "        if (!display || display === 'none') {{\n",
       "            console.log([gd, 'removed!']);\n",
       "            Plotly.purge(gd);\n",
       "            observer.disconnect();\n",
       "        }}\n",
       "}});\n",
       "\n",
       "// Listen for the removal of the full notebook cells\n",
       "var notebookContainer = gd.closest('#notebook-container');\n",
       "if (notebookContainer) {{\n",
       "    x.observe(notebookContainer, {childList: true});\n",
       "}}\n",
       "\n",
       "// Listen for the clearing of the current output cell\n",
       "var outputEl = gd.closest('.output');\n",
       "if (outputEl) {{\n",
       "    x.observe(outputEl, {childList: true});\n",
       "}}\n",
       "\n",
       "                        })                };            </script>        </div>\n",
       "</body>\n",
       "</html>"
      ]
     },
     "metadata": {},
     "output_type": "display_data"
    }
   ],
   "source": [
    "def get_attr_patch_block_every(attr_cache):\n",
    "    resid_pre_attr = einops.reduce(\n",
    "        attr_cache.stack_activation(\"resid_pre\"),\n",
    "        \"layer batch pos d_model -> layer pos\",\n",
    "        \"sum\",\n",
    "    )\n",
    "    attn_out_attr = einops.reduce(\n",
    "        attr_cache.stack_activation(\"attn_out\"),\n",
    "        \"layer batch pos d_model -> layer pos\",\n",
    "        \"sum\",\n",
    "    )\n",
    "    mlp_out_attr = einops.reduce(\n",
    "        attr_cache.stack_activation(\"mlp_out\"),\n",
    "        \"layer batch pos d_model -> layer pos\",\n",
    "        \"sum\",\n",
    "    )\n",
    "\n",
    "    every_block_attr_patch_result = torch.stack(\n",
    "        [resid_pre_attr, attn_out_attr, mlp_out_attr], dim=0\n",
    "    )\n",
    "    return every_block_attr_patch_result\n",
    "\n",
    "\n",
    "every_block_attr_patch_result = get_attr_patch_block_every(attr_cache)\n",
    "imshow(\n",
    "    every_block_attr_patch_result,\n",
    "    facet_col=0,\n",
    "    facet_labels=[\"Residual Stream\", \"Attn Output\", \"MLP Output\"],\n",
    "    title=\"LRP Patching Per Block\",\n",
    "    xaxis=\"Position\",\n",
    "    yaxis=\"Layer\",\n",
    "    zmax=1,\n",
    "    zmin=-1,\n",
    "    x=[f\"{tok}_{i}\" for i, tok in enumerate(model.to_str_tokens(clean_tokens[0]))],\n",
    ")"
   ]
  },
  {
   "cell_type": "code",
   "execution_count": 17,
   "id": "a26a9160-e4ae-4573-aa2f-9e535286a0e3",
   "metadata": {},
   "outputs": [
    {
     "data": {
      "text/html": [
       "<html>\n",
       "<head><meta charset=\"utf-8\" /></head>\n",
       "<body>\n",
       "    <div>            <script src=\"https://cdnjs.cloudflare.com/ajax/libs/mathjax/2.7.5/MathJax.js?config=TeX-AMS-MML_SVG\"></script><script type=\"text/javascript\">if (window.MathJax && window.MathJax.Hub && window.MathJax.Hub.Config) {window.MathJax.Hub.Config({SVG: {font: \"STIX-Web\"}});}</script>                <script type=\"text/javascript\">window.PlotlyConfig = {MathJaxConfig: 'local'};</script>\n",
       "        <script charset=\"utf-8\" src=\"https://cdn.plot.ly/plotly-3.0.0.min.js\"></script>                <div id=\"e140d8af-2a1d-431f-88dc-4dba7bc16e8f\" class=\"plotly-graph-div\" style=\"height:525px; width:100%;\"></div>            <script type=\"text/javascript\">                window.PLOTLYENV=window.PLOTLYENV || {};                                if (document.getElementById(\"e140d8af-2a1d-431f-88dc-4dba7bc16e8f\")) {                    Plotly.newPlot(                        \"e140d8af-2a1d-431f-88dc-4dba7bc16e8f\",                        [{\"customdata\":[[\"Layer 0, Position 0, |\\u003c|endoftext|\\u003e|\"],[\"Layer 0, Position 1, |When|\"],[\"Layer 0, Position 2, | John|\"],[\"Layer 0, Position 3, | and|\"],[\"Layer 0, Position 4, | Mary|\"],[\"Layer 0, Position 5, | went|\"],[\"Layer 0, Position 6, | to|\"],[\"Layer 0, Position 7, | the|\"],[\"Layer 0, Position 8, | shops|\"],[\"Layer 0, Position 9, |,|\"],[\"Layer 0, Position 10, | John|\"],[\"Layer 0, Position 11, | gave|\"],[\"Layer 0, Position 12, | the|\"],[\"Layer 0, Position 13, | bag|\"],[\"Layer 0, Position 14, | to|\"],[\"Layer 1, Position 0, |\\u003c|endoftext|\\u003e|\"],[\"Layer 1, Position 1, |When|\"],[\"Layer 1, Position 2, | John|\"],[\"Layer 1, Position 3, | and|\"],[\"Layer 1, Position 4, | Mary|\"],[\"Layer 1, Position 5, | went|\"],[\"Layer 1, Position 6, | to|\"],[\"Layer 1, Position 7, | the|\"],[\"Layer 1, Position 8, | shops|\"],[\"Layer 1, Position 9, |,|\"],[\"Layer 1, Position 10, | John|\"],[\"Layer 1, Position 11, | gave|\"],[\"Layer 1, Position 12, | the|\"],[\"Layer 1, Position 13, | bag|\"],[\"Layer 1, Position 14, | to|\"],[\"Layer 2, Position 0, |\\u003c|endoftext|\\u003e|\"],[\"Layer 2, Position 1, |When|\"],[\"Layer 2, Position 2, | John|\"],[\"Layer 2, Position 3, | and|\"],[\"Layer 2, Position 4, | Mary|\"],[\"Layer 2, Position 5, | went|\"],[\"Layer 2, Position 6, | to|\"],[\"Layer 2, Position 7, | the|\"],[\"Layer 2, Position 8, | shops|\"],[\"Layer 2, Position 9, |,|\"],[\"Layer 2, Position 10, | John|\"],[\"Layer 2, Position 11, | gave|\"],[\"Layer 2, Position 12, | the|\"],[\"Layer 2, Position 13, | bag|\"],[\"Layer 2, Position 14, | to|\"],[\"Layer 3, Position 0, |\\u003c|endoftext|\\u003e|\"],[\"Layer 3, Position 1, |When|\"],[\"Layer 3, Position 2, | John|\"],[\"Layer 3, Position 3, | and|\"],[\"Layer 3, Position 4, | Mary|\"],[\"Layer 3, Position 5, | went|\"],[\"Layer 3, Position 6, | to|\"],[\"Layer 3, Position 7, | the|\"],[\"Layer 3, Position 8, | shops|\"],[\"Layer 3, Position 9, |,|\"],[\"Layer 3, Position 10, | John|\"],[\"Layer 3, Position 11, | gave|\"],[\"Layer 3, Position 12, | the|\"],[\"Layer 3, Position 13, | bag|\"],[\"Layer 3, Position 14, | to|\"],[\"Layer 4, Position 0, |\\u003c|endoftext|\\u003e|\"],[\"Layer 4, Position 1, |When|\"],[\"Layer 4, Position 2, | John|\"],[\"Layer 4, Position 3, | and|\"],[\"Layer 4, Position 4, | Mary|\"],[\"Layer 4, Position 5, | went|\"],[\"Layer 4, Position 6, | to|\"],[\"Layer 4, Position 7, | the|\"],[\"Layer 4, Position 8, | shops|\"],[\"Layer 4, Position 9, |,|\"],[\"Layer 4, Position 10, | John|\"],[\"Layer 4, Position 11, | gave|\"],[\"Layer 4, Position 12, | the|\"],[\"Layer 4, Position 13, | bag|\"],[\"Layer 4, Position 14, | to|\"],[\"Layer 5, Position 0, |\\u003c|endoftext|\\u003e|\"],[\"Layer 5, Position 1, |When|\"],[\"Layer 5, Position 2, | John|\"],[\"Layer 5, Position 3, | and|\"],[\"Layer 5, Position 4, | Mary|\"],[\"Layer 5, Position 5, | went|\"],[\"Layer 5, Position 6, | to|\"],[\"Layer 5, Position 7, | the|\"],[\"Layer 5, Position 8, | shops|\"],[\"Layer 5, Position 9, |,|\"],[\"Layer 5, Position 10, | John|\"],[\"Layer 5, Position 11, | gave|\"],[\"Layer 5, Position 12, | the|\"],[\"Layer 5, Position 13, | bag|\"],[\"Layer 5, Position 14, | to|\"],[\"Layer 6, Position 0, |\\u003c|endoftext|\\u003e|\"],[\"Layer 6, Position 1, |When|\"],[\"Layer 6, Position 2, | John|\"],[\"Layer 6, Position 3, | and|\"],[\"Layer 6, Position 4, | Mary|\"],[\"Layer 6, Position 5, | went|\"],[\"Layer 6, Position 6, | to|\"],[\"Layer 6, Position 7, | the|\"],[\"Layer 6, Position 8, | shops|\"],[\"Layer 6, Position 9, |,|\"],[\"Layer 6, Position 10, | John|\"],[\"Layer 6, Position 11, | gave|\"],[\"Layer 6, Position 12, | the|\"],[\"Layer 6, Position 13, | bag|\"],[\"Layer 6, Position 14, | to|\"],[\"Layer 7, Position 0, |\\u003c|endoftext|\\u003e|\"],[\"Layer 7, Position 1, |When|\"],[\"Layer 7, Position 2, | John|\"],[\"Layer 7, Position 3, | and|\"],[\"Layer 7, Position 4, | Mary|\"],[\"Layer 7, Position 5, | went|\"],[\"Layer 7, Position 6, | to|\"],[\"Layer 7, Position 7, | the|\"],[\"Layer 7, Position 8, | shops|\"],[\"Layer 7, Position 9, |,|\"],[\"Layer 7, Position 10, | John|\"],[\"Layer 7, Position 11, | gave|\"],[\"Layer 7, Position 12, | the|\"],[\"Layer 7, Position 13, | bag|\"],[\"Layer 7, Position 14, | to|\"],[\"Layer 8, Position 0, |\\u003c|endoftext|\\u003e|\"],[\"Layer 8, Position 1, |When|\"],[\"Layer 8, Position 2, | John|\"],[\"Layer 8, Position 3, | and|\"],[\"Layer 8, Position 4, | Mary|\"],[\"Layer 8, Position 5, | went|\"],[\"Layer 8, Position 6, | to|\"],[\"Layer 8, Position 7, | the|\"],[\"Layer 8, Position 8, | shops|\"],[\"Layer 8, Position 9, |,|\"],[\"Layer 8, Position 10, | John|\"],[\"Layer 8, Position 11, | gave|\"],[\"Layer 8, Position 12, | the|\"],[\"Layer 8, Position 13, | bag|\"],[\"Layer 8, Position 14, | to|\"],[\"Layer 9, Position 0, |\\u003c|endoftext|\\u003e|\"],[\"Layer 9, Position 1, |When|\"],[\"Layer 9, Position 2, | John|\"],[\"Layer 9, Position 3, | and|\"],[\"Layer 9, Position 4, | Mary|\"],[\"Layer 9, Position 5, | went|\"],[\"Layer 9, Position 6, | to|\"],[\"Layer 9, Position 7, | the|\"],[\"Layer 9, Position 8, | shops|\"],[\"Layer 9, Position 9, |,|\"],[\"Layer 9, Position 10, | John|\"],[\"Layer 9, Position 11, | gave|\"],[\"Layer 9, Position 12, | the|\"],[\"Layer 9, Position 13, | bag|\"],[\"Layer 9, Position 14, | to|\"],[\"Layer 10, Position 0, |\\u003c|endoftext|\\u003e|\"],[\"Layer 10, Position 1, |When|\"],[\"Layer 10, Position 2, | John|\"],[\"Layer 10, Position 3, | and|\"],[\"Layer 10, Position 4, | Mary|\"],[\"Layer 10, Position 5, | went|\"],[\"Layer 10, Position 6, | to|\"],[\"Layer 10, Position 7, | the|\"],[\"Layer 10, Position 8, | shops|\"],[\"Layer 10, Position 9, |,|\"],[\"Layer 10, Position 10, | John|\"],[\"Layer 10, Position 11, | gave|\"],[\"Layer 10, Position 12, | the|\"],[\"Layer 10, Position 13, | bag|\"],[\"Layer 10, Position 14, | to|\"],[\"Layer 11, Position 0, |\\u003c|endoftext|\\u003e|\"],[\"Layer 11, Position 1, |When|\"],[\"Layer 11, Position 2, | John|\"],[\"Layer 11, Position 3, | and|\"],[\"Layer 11, Position 4, | Mary|\"],[\"Layer 11, Position 5, | went|\"],[\"Layer 11, Position 6, | to|\"],[\"Layer 11, Position 7, | the|\"],[\"Layer 11, Position 8, | shops|\"],[\"Layer 11, Position 9, |,|\"],[\"Layer 11, Position 10, | John|\"],[\"Layer 11, Position 11, | gave|\"],[\"Layer 11, Position 12, | the|\"],[\"Layer 11, Position 13, | bag|\"],[\"Layer 11, Position 14, | to|\"]],\"hovertemplate\":\"facet=0\\u003cbr\\u003eActivation Patch=%{x}\\u003cbr\\u003eLRP Patch=%{y}\\u003cbr\\u003edata=%{customdata[0]}\\u003cbr\\u003eColor=%{marker.color}\\u003cextra\\u003e\\u003c\\u002fextra\\u003e\",\"legendgroup\":\"\",\"marker\":{\"color\":{\"dtype\":\"i1\",\"bdata\":\"AAAAAAAAAAAAAAAAAAAAAQEBAQEBAQEBAQEBAQEBAgICAgICAgICAgICAgICAwMDAwMDAwMDAwMDAwMDBAQEBAQEBAQEBAQEBAQEBQUFBQUFBQUFBQUFBQUFBgYGBgYGBgYGBgYGBgYGBwcHBwcHBwcHBwcHBwcHCAgICAgICAgICAgICAgICQkJCQkJCQkJCQkJCQkJCgoKCgoKCgoKCgoKCgoKCwsLCwsLCwsLCwsLCwsL\"},\"coloraxis\":\"coloraxis\",\"symbol\":\"circle\"},\"mode\":\"markers\",\"name\":\"\",\"orientation\":\"v\",\"showlegend\":false,\"x\":{\"dtype\":\"f4\",\"bdata\":\"AAAAAAAAAAAAAAAAAAAAAAAAAAAAAAAAAAAAAAAAAAAAAAAAAAAAAP\\u002f\\u002ffz8AAAAAAAAAAAAAAAAAAAAAAAAAAAAAAAAAAAAAAAAAAAAAAAAAAAAAAAAAAAAAAAAAAAAAAAAAAEkVgD+7vIG5O9sjN1\\u002frvrm0jUu4AAAAAAAAAAAAAAAAAAAAAAAAAAAAAAAAAAAAAAAAAAAAAAAAAAAAAHMigD\\u002f6it+3YwWstwS88Lle1xu6AAAAAAAAAAAAAAAAAAAAAAAAAAAAAAAAAAAAAAAAAAAAAAAAAAAAALYIgD9TtGM6+20HOjYjgrrh9GK6AAAAAAAAAAAAAAAAAAAAAAAAAAAAAAAAAAAAAAAAAAAAAAAAAAAAAEyyfj978bE7qX3SOgUbIroM2tW6AAAAAAAAAAAAAAAAAAAAAAAAAAAAAAAAAAAAAAAAAAAAAAAAAAAAAHKydz+AYAA9Fko6Oyg0obpWM4G6AAAAAAAAAAAAAAAAAAAAAAAAAAAAAAAAAAAAAAAAAAAAAAAAAAAAAGmvdz8n9\\u002f08YpnpOr3Y\\u002frl0cSm6AAAAAAAAAAAAAAAAAAAAAAAAAAAAAAAAAAAAAAAAAAAAAAAAAAAAALI+bD9eUFI9i\\u002feaOyYHdTogpYs8AAAAAAAAAAAAAAAAAAAAAAAAAAAAAAAAAAAAAAAAAAAAAAAAAAAAAH0TKD+Wb8M8gHMaO6m9jrevK6M+AAAAAAAAAAAAAAAAAAAAAAAAAAAAAAAAAAAAAAAAAAAAAAAAAAAAAFin3zy1twA9G7fuOg+iUTo8OnA\\u002fAAAAAAAAAAAAAAAAAAAAAAAAAAAAAAAAAAAAAAAAAAAAAAAAAAAAALTj27xL4Ks86xakOke3qTk5noA\\u002fAAAAAAAAAAAAAAAAAAAAAAAAAAAAAAAAAAAAAAAAAAAAAAAAAAAAAFRgurvksGk8ZG3\\u002fORXUvbjNzX0\\u002f\"},\"xaxis\":\"x\",\"y\":{\"dtype\":\"f8\",\"bdata\":\"AAAAAAAAAAAAAAAAAAAAAAAAAAAAAAAAAAAAAAAAAAAAAAAAAAAAAAAAAAAAAAAAAAAAAAAAAAAAAAAAAAAAAAAAAAAAAAAAAAAAAAAAAAAAAACg8zjpPwAAAAAAAAAAAAAAAAAAAAAAAAAAAAAAAAAAAAAAAAAAAAAAAAAAAAAAAAAAAAAAAAAAAAAAAAAAAAAAAAAAAAAAAAAAAAAAAAAAAAAAAAAAAAAAAAAAAAAAAAAAAAAAAAAAAAAAAAAAAAAAAAAAAAAAAACAJ8nnPwAAAEBVGFm\\u002fAAAAYF7SIr8AAABgLAM+vwAAAODwNFe\\u002fAAAAAAAAAAAAAAAAAAAAAAAAAAAAAAAAAAAAAAAAAAAAAAAAAAAAAAAAAAAAAAAAAAAAAAAAAAAAAAAAAAAAAAAAAAAAAAAAAAAAAAAAAAAAAAAAsoXhPwAAAIAXqU+\\u002fAAAAQP2OED8AAAAABkoBPwAAAED\\u002fdVa\\u002fAAAAAAAAAAAAAAAAAAAAAAAAAAAAAAAAAAAAAAAAAAAAAAAAAAAAAAAAAAAAAAAAAAAAAAAAAAAAAAAAAAAAAAAAAAAAAAAAAAAAAAAAAAAAAAAgSPbhPwAAAEA7tye\\u002fAAAAACDzDL8AAADg10M0vwAAAKAtt1e\\u002fAAAAAAAAAAAAAAAAAAAAAAAAAAAAAAAAAAAAAAAAAAAAAAAAAAAAAAAAAAAAAAAAAAAAAAAAAAAAAAAAAAAAAAAAAAAAAAAAAAAAAAAAAAAAAACADBvePwAAAEAvYn0\\u002fAAAAQJpLVD8AAAAgi89AvwAAAACBuVW\\u002fAAAAAAAAAAAAAAAAAAAAAAAAAAAAAAAAAAAAAAAAAAAAAAAAAAAAAAAAAAAAAAAAAAAAAAAAAAAAAAAAAAAAAAAAAAAAAAAAAAAAAAAAAAAAAACAHALiPwAAAOBiDqA\\u002fAAAAQI5KZD8AAABgwl1WvwAAAOD7UlW\\u002fAAAAAAAAAAAAAAAAAAAAAAAAAAAAAAAAAAAAAAAAAAAAAAAAAAAAAAAAAAAAAAAAAAAAAAAAAAAAAAAAAAAAAAAAAAAAAAAAAAAAAAAAAAAAAABgApnpPwAAAABG6Zs\\u002fAAAAQDE0WD8AAAAg5+U4vwAAAADeFCc\\u002fAAAAAAAAAAAAAAAAAAAAAAAAAAAAAAAAAAAAAAAAAAAAAAAAAAAAAAAAAAAAAAAAAAAAAAAAAAAAAAAAAAAAAAAAAAAAAAAAAAAAAAAAAAAAAADADWrnPwAAAODhJKg\\u002fAAAAwGaIcD8AAACACJVBPwAAAMB8YZE\\u002fAAAAAAAAAAAAAAAAAAAAAAAAAAAAAAAAAAAAAAAAAAAAAAAAAAAAAAAAAAAAAAAAAAAAAAAAAAAAAAAAAAAAAAAAAAAAAAAAAAAAAAAAAAAAAADA1oHePwAAAGD\\u002fYJQ\\u002fAAAAwOauWz8AAAAg\\u002f0A8vwAAAIBRsdM\\u002fAAAAAAAAAAAAAAAAAAAAAAAAAAAAAAAAAAAAAAAAAAAAAAAAAAAAAAAAAAAAAAAAAAAAAAAAAAAAAAAAAAAAAAAAAAAAAAAAAAAAAAAAAAAAAABAu+a2vwAAAIBF4pk\\u002fAAAAALrLUD8AAABgfEowPwAAAODFYus\\u002fAAAAAAAAAAAAAAAAAAAAAAAAAAAAAAAAAAAAAAAAAAAAAAAAAAAAAAAAAAAAAAAAAAAAAAAAAAAAAAAAAAAAAAAAAAAAAAAAAAAAAAAAAAAAAADgD3jCvwAAAICA4ZA\\u002fAAAAgDx2Pj8AAAAAR5cXvwAAAGBs4PI\\u002fAAAAAAAAAAAAAAAAAAAAAAAAAAAAAAAAAAAAAAAAAAAAAAAAAAAAAAAAAAAAAAAAAAAAAAAAAAAAAAAAAAAAAAAAAAAAAAAAAAAAAAAAAAAAAABAsIW4vwAAAIB9fo0\\u002fAAAAwAQjOT8AAADAezIxvwAAAACup+8\\u002f\"},\"yaxis\":\"y\",\"type\":\"scatter\"},{\"customdata\":[[\"Layer 0, Position 0, |\\u003c|endoftext|\\u003e|\"],[\"Layer 0, Position 1, |When|\"],[\"Layer 0, Position 2, | John|\"],[\"Layer 0, Position 3, | and|\"],[\"Layer 0, Position 4, | Mary|\"],[\"Layer 0, Position 5, | went|\"],[\"Layer 0, Position 6, | to|\"],[\"Layer 0, Position 7, | the|\"],[\"Layer 0, Position 8, | shops|\"],[\"Layer 0, Position 9, |,|\"],[\"Layer 0, Position 10, | John|\"],[\"Layer 0, Position 11, | gave|\"],[\"Layer 0, Position 12, | the|\"],[\"Layer 0, Position 13, | bag|\"],[\"Layer 0, Position 14, | to|\"],[\"Layer 1, Position 0, |\\u003c|endoftext|\\u003e|\"],[\"Layer 1, Position 1, |When|\"],[\"Layer 1, Position 2, | John|\"],[\"Layer 1, Position 3, | and|\"],[\"Layer 1, Position 4, | Mary|\"],[\"Layer 1, Position 5, | went|\"],[\"Layer 1, Position 6, | to|\"],[\"Layer 1, Position 7, | the|\"],[\"Layer 1, Position 8, | shops|\"],[\"Layer 1, Position 9, |,|\"],[\"Layer 1, Position 10, | John|\"],[\"Layer 1, Position 11, | gave|\"],[\"Layer 1, Position 12, | the|\"],[\"Layer 1, Position 13, | bag|\"],[\"Layer 1, Position 14, | to|\"],[\"Layer 2, Position 0, |\\u003c|endoftext|\\u003e|\"],[\"Layer 2, Position 1, |When|\"],[\"Layer 2, Position 2, | John|\"],[\"Layer 2, Position 3, | and|\"],[\"Layer 2, Position 4, | Mary|\"],[\"Layer 2, Position 5, | went|\"],[\"Layer 2, Position 6, | to|\"],[\"Layer 2, Position 7, | the|\"],[\"Layer 2, Position 8, | shops|\"],[\"Layer 2, Position 9, |,|\"],[\"Layer 2, Position 10, | John|\"],[\"Layer 2, Position 11, | gave|\"],[\"Layer 2, Position 12, | the|\"],[\"Layer 2, Position 13, | bag|\"],[\"Layer 2, Position 14, | to|\"],[\"Layer 3, Position 0, |\\u003c|endoftext|\\u003e|\"],[\"Layer 3, Position 1, |When|\"],[\"Layer 3, Position 2, | John|\"],[\"Layer 3, Position 3, | and|\"],[\"Layer 3, Position 4, | Mary|\"],[\"Layer 3, Position 5, | went|\"],[\"Layer 3, Position 6, | to|\"],[\"Layer 3, Position 7, | the|\"],[\"Layer 3, Position 8, | shops|\"],[\"Layer 3, Position 9, |,|\"],[\"Layer 3, Position 10, | John|\"],[\"Layer 3, Position 11, | gave|\"],[\"Layer 3, Position 12, | the|\"],[\"Layer 3, Position 13, | bag|\"],[\"Layer 3, Position 14, | to|\"],[\"Layer 4, Position 0, |\\u003c|endoftext|\\u003e|\"],[\"Layer 4, Position 1, |When|\"],[\"Layer 4, Position 2, | John|\"],[\"Layer 4, Position 3, | and|\"],[\"Layer 4, Position 4, | Mary|\"],[\"Layer 4, Position 5, | went|\"],[\"Layer 4, Position 6, | to|\"],[\"Layer 4, Position 7, | the|\"],[\"Layer 4, Position 8, | shops|\"],[\"Layer 4, Position 9, |,|\"],[\"Layer 4, Position 10, | John|\"],[\"Layer 4, Position 11, | gave|\"],[\"Layer 4, Position 12, | the|\"],[\"Layer 4, Position 13, | bag|\"],[\"Layer 4, Position 14, | to|\"],[\"Layer 5, Position 0, |\\u003c|endoftext|\\u003e|\"],[\"Layer 5, Position 1, |When|\"],[\"Layer 5, Position 2, | John|\"],[\"Layer 5, Position 3, | and|\"],[\"Layer 5, Position 4, | Mary|\"],[\"Layer 5, Position 5, | went|\"],[\"Layer 5, Position 6, | to|\"],[\"Layer 5, Position 7, | the|\"],[\"Layer 5, Position 8, | shops|\"],[\"Layer 5, Position 9, |,|\"],[\"Layer 5, Position 10, | John|\"],[\"Layer 5, Position 11, | gave|\"],[\"Layer 5, Position 12, | the|\"],[\"Layer 5, Position 13, | bag|\"],[\"Layer 5, Position 14, | to|\"],[\"Layer 6, Position 0, |\\u003c|endoftext|\\u003e|\"],[\"Layer 6, Position 1, |When|\"],[\"Layer 6, Position 2, | John|\"],[\"Layer 6, Position 3, | and|\"],[\"Layer 6, Position 4, | Mary|\"],[\"Layer 6, Position 5, | went|\"],[\"Layer 6, Position 6, | to|\"],[\"Layer 6, Position 7, | the|\"],[\"Layer 6, Position 8, | shops|\"],[\"Layer 6, Position 9, |,|\"],[\"Layer 6, Position 10, | John|\"],[\"Layer 6, Position 11, | gave|\"],[\"Layer 6, Position 12, | the|\"],[\"Layer 6, Position 13, | bag|\"],[\"Layer 6, Position 14, | to|\"],[\"Layer 7, Position 0, |\\u003c|endoftext|\\u003e|\"],[\"Layer 7, Position 1, |When|\"],[\"Layer 7, Position 2, | John|\"],[\"Layer 7, Position 3, | and|\"],[\"Layer 7, Position 4, | Mary|\"],[\"Layer 7, Position 5, | went|\"],[\"Layer 7, Position 6, | to|\"],[\"Layer 7, Position 7, | the|\"],[\"Layer 7, Position 8, | shops|\"],[\"Layer 7, Position 9, |,|\"],[\"Layer 7, Position 10, | John|\"],[\"Layer 7, Position 11, | gave|\"],[\"Layer 7, Position 12, | the|\"],[\"Layer 7, Position 13, | bag|\"],[\"Layer 7, Position 14, | to|\"],[\"Layer 8, Position 0, |\\u003c|endoftext|\\u003e|\"],[\"Layer 8, Position 1, |When|\"],[\"Layer 8, Position 2, | John|\"],[\"Layer 8, Position 3, | and|\"],[\"Layer 8, Position 4, | Mary|\"],[\"Layer 8, Position 5, | went|\"],[\"Layer 8, Position 6, | to|\"],[\"Layer 8, Position 7, | the|\"],[\"Layer 8, Position 8, | shops|\"],[\"Layer 8, Position 9, |,|\"],[\"Layer 8, Position 10, | John|\"],[\"Layer 8, Position 11, | gave|\"],[\"Layer 8, Position 12, | the|\"],[\"Layer 8, Position 13, | bag|\"],[\"Layer 8, Position 14, | to|\"],[\"Layer 9, Position 0, |\\u003c|endoftext|\\u003e|\"],[\"Layer 9, Position 1, |When|\"],[\"Layer 9, Position 2, | John|\"],[\"Layer 9, Position 3, | and|\"],[\"Layer 9, Position 4, | Mary|\"],[\"Layer 9, Position 5, | went|\"],[\"Layer 9, Position 6, | to|\"],[\"Layer 9, Position 7, | the|\"],[\"Layer 9, Position 8, | shops|\"],[\"Layer 9, Position 9, |,|\"],[\"Layer 9, Position 10, | John|\"],[\"Layer 9, Position 11, | gave|\"],[\"Layer 9, Position 12, | the|\"],[\"Layer 9, Position 13, | bag|\"],[\"Layer 9, Position 14, | to|\"],[\"Layer 10, Position 0, |\\u003c|endoftext|\\u003e|\"],[\"Layer 10, Position 1, |When|\"],[\"Layer 10, Position 2, | John|\"],[\"Layer 10, Position 3, | and|\"],[\"Layer 10, Position 4, | Mary|\"],[\"Layer 10, Position 5, | went|\"],[\"Layer 10, Position 6, | to|\"],[\"Layer 10, Position 7, | the|\"],[\"Layer 10, Position 8, | shops|\"],[\"Layer 10, Position 9, |,|\"],[\"Layer 10, Position 10, | John|\"],[\"Layer 10, Position 11, | gave|\"],[\"Layer 10, Position 12, | the|\"],[\"Layer 10, Position 13, | bag|\"],[\"Layer 10, Position 14, | to|\"],[\"Layer 11, Position 0, |\\u003c|endoftext|\\u003e|\"],[\"Layer 11, Position 1, |When|\"],[\"Layer 11, Position 2, | John|\"],[\"Layer 11, Position 3, | and|\"],[\"Layer 11, Position 4, | Mary|\"],[\"Layer 11, Position 5, | went|\"],[\"Layer 11, Position 6, | to|\"],[\"Layer 11, Position 7, | the|\"],[\"Layer 11, Position 8, | shops|\"],[\"Layer 11, Position 9, |,|\"],[\"Layer 11, Position 10, | John|\"],[\"Layer 11, Position 11, | gave|\"],[\"Layer 11, Position 12, | the|\"],[\"Layer 11, Position 13, | bag|\"],[\"Layer 11, Position 14, | to|\"]],\"hovertemplate\":\"facet=1\\u003cbr\\u003eActivation Patch=%{x}\\u003cbr\\u003eLRP Patch=%{y}\\u003cbr\\u003edata=%{customdata[0]}\\u003cbr\\u003eColor=%{marker.color}\\u003cextra\\u003e\\u003c\\u002fextra\\u003e\",\"legendgroup\":\"\",\"marker\":{\"color\":{\"dtype\":\"i1\",\"bdata\":\"AAAAAAAAAAAAAAAAAAAAAQEBAQEBAQEBAQEBAQEBAgICAgICAgICAgICAgICAwMDAwMDAwMDAwMDAwMDBAQEBAQEBAQEBAQEBAQEBQUFBQUFBQUFBQUFBQUFBgYGBgYGBgYGBgYGBgYGBwcHBwcHBwcHBwcHBwcHCAgICAgICAgICAgICAgICQkJCQkJCQkJCQkJCQkJCgoKCgoKCgoKCgoKCgoKCwsLCwsLCwsLCwsLCwsL\"},\"coloraxis\":\"coloraxis\",\"symbol\":\"circle\"},\"mode\":\"markers\",\"name\":\"\",\"orientation\":\"v\",\"showlegend\":false,\"x\":{\"dtype\":\"f4\",\"bdata\":\"AAAAAAAAAAAAAAAAAAAAAAAAAAAAAAAAAAAAAAAAAAAAAAAAAAAAALw7ET27vIG5O9sjN1\\u002frvrm0jUu4AAAAAAAAAAAAAAAAAAAAAAAAAAAAAAAAAAAAAAAAAAAAAAAAAAAAAOiOQ7sD0KY4BTeyN3WAqDi9Thy6AAAAAAAAAAAAAAAAAAAAAAAAAAAAAAAAAAAAAAAAAAAAAAAAAAAAALuO+rrl5S46LTvPOXquOLox3Y65AAAAAAAAAAAAAAAAAAAAAAAAAAAAAAAAAAAAAAAAAAAAAAAAAAAAALJXHj5AN3k7zrMHOnHW+7iD6xK6AAAAAAAAAAAAAAAAAAAAAAAAAAAAAAAAAAAAAAAAAAAAAAAAAAAAAAYpsbsRa6A8XyqEOgL8fbmf+k86AAAAAAAAAAAAAAAAAAAAAAAAAAAAAAAAAAAAAAAAAAAAAAAAAAAAABlGtD4OFYo6G2drOejjCzkEaq44AAAAAAAAAAAAAAAAAAAAAAAAAAAAAAAAAAAAAAAAAAAAAAAAAAAAAB559T31CK48K8cyOwLPrzrvPZM8AAAAAAAAAAAAAAAAAAAAAAAAAAAAAAAAAAAAAAAAAAAAAAAAAAAAAI4VWjwkkjw8bdDEOSAJK7iFX5g+AAAAAAAAAAAAAAAAAAAAAAAAAAAAAAAAAAAAAAAAAAAAAAAAAAAAAMSvxLobJ448sEUZOmS5hDru2RE\\u002fAAAAAAAAAAAAAAAAAAAAAAAAAAAAAAAAAAAAAAAAAAAAAAAAAAAAAJLSBrmSfM47M5UUOcYDpDkmBYs+AAAAAAAAAAAAAAAAAAAAAAAAAAAAAAAAAAAAAAAAAAAAAAAAAAAAAIyZdbo6yrY4+DyuOc09ajXMm0W+AAAAAAAAAAAAAAAAAAAAAAAAAAAAAAAAAAAAAAAAAAAAAAAAAAAAAAAAAAAAAAAAAAAAAAAAAACr9s++\"},\"xaxis\":\"x2\",\"y\":{\"dtype\":\"f8\",\"bdata\":\"AAAAAAAAAAAAAAAAAAAAAAAAAAAAAAAAAAAAAAAAAAAAAAAAAAAAAAAAAAAAAAAAAAAAAAAAAAAAAAAAAAAAAAAAAAAAAAAAAAAAAAAAAAAAAADgS4LIPwAAAOCYGW2\\u002fAAAAgA7ILb8AAADAzGk+vwAAAGDWlFu\\u002fAAAAAAAAAAAAAAAAAAAAAAAAAAAAAAAAAAAAAAAAAAAAAAAAAAAAAAAAAAAAAAAAAAAAAAAAAAAAAAAAAAAAAAAAAAAAAAAAAAAAAAAAAAAAAABAi9GEPwAAAAC4YEA\\u002fAAAAgLadFj8AAAAAkgIYPwAAAADmsfA+AAAAAAAAAAAAAAAAAAAAAAAAAAAAAAAAAAAAAAAAAAAAAAAAAAAAAAAAAAAAAAAAAAAAAAAAAAAAAAAAAAAAAAAAAAAAAAAAAAAAAAAAAAAAAACgTwxuPwAAAADvnks\\u002fAAAAADJ5Gj8AAAAAls03PwAAAIAUbD0\\u002fAAAAAAAAAAAAAAAAAAAAAAAAAAAAAAAAAAAAAAAAAAAAAAAAAAAAAAAAAAAAAAAAAAAAAAAAAAAAAAAAAAAAAAAAAAAAAAAAAAAAAAAAAAAAAABA5TS6PwAAAOCEbXs\\u002fAAAAwDUVRz8AAACAzos+vwAAAEAopjo\\u002fAAAAAAAAAAAAAAAAAAAAAAAAAAAAAAAAAAAAAAAAAAAAAAAAAAAAAAAAAAAAAAAAAAAAAAAAAAAAAAAAAAAAAAAAAAAAAAAAAAAAAAAAAAAAAABAUbaGvwAAAABmPJI\\u002fAAAA4JnmTj8AAADAXOUTPwAAAADEy0E\\u002fAAAAAAAAAAAAAAAAAAAAAAAAAAAAAAAAAAAAAAAAAAAAAAAAAAAAAAAAAAAAAAAAAAAAAAAAAAAAAAAAAAAAAAAAAAAAAAAAAAAAAAAAAAAAAAAA2RzQPwAAACDUqFg\\u002fAAAAIAXQMT8AAABAU4s2vwAAAOCpyFA\\u002fAAAAAAAAAAAAAAAAAAAAAAAAAAAAAAAAAAAAAAAAAAAAAAAAAAAAAAAAAAAAAAAAAAAAAAAAAAAAAAAAAAAAAAAAAAAAAAAAAAAAAAAAAAAAAACApDe6PwAAAAC8hpI\\u002fAAAAwMSRYT8AAAAgJnBPPwAAAKCco5M\\u002fAAAAAAAAAAAAAAAAAAAAAAAAAAAAAAAAAAAAAAAAAAAAAAAAAAAAAAAAAAAAAAAAAAAAAAAAAAAAAAAAAAAAAAAAAAAAAAAAAAAAAAAAAAAAAADAKL+GPwAAAADrHoc\\u002fAAAAQOvLOD8AAACAvrcovwAAAMCF\\u002f9E\\u002fAAAAAAAAAAAAAAAAAAAAAAAAAAAAAAAAAAAAAAAAAAAAAAAAAAAAAAAAAAAAAAAAAAAAAAAAAAAAAAAAAAAAAAAAAAAAAAAAAAAAAAAAAAAAAADAUApivwAAAODFJJE\\u002fAAAAAGSMRz8AAACg7LtPPwAAAEC1F+Q\\u002fAAAAAAAAAAAAAAAAAAAAAAAAAAAAAAAAAAAAAAAAAAAAAAAAAAAAAAAAAAAAAAAAAAAAAAAAAAAAAAAAAAAAAAAAAAAAAAAAAAAAAAAAAAAAAADAVnwZvwAAAOD7D3I\\u002fAAAAAOfuJD8AAACANf4oPwAAAIAuat0\\u002fAAAAAAAAAAAAAAAAAAAAAAAAAAAAAAAAAAAAAAAAAAAAAAAAAAAAAAAAAAAAAAAAAAAAAAAAAAAAAAAAAAAAAAAAAAAAAAAAAAAAAAAAAAAAAADgdx9OvwAAAKAQ\\u002fD+\\u002fAAAAAM4YMz8AAAAARhgZvwAAAMBUGsa\\u002fAAAAAAAAAAAAAAAAAAAAAAAAAAAAAAAAAAAAAAAAAAAAAAAAAAAAAAAAAAAAAAAAAAAAAAAAAAAAAAAAAAAAAAAAAAAAAAAAAAAAAAAAAAAAAAAAAAAAAAAAAAAAAAAAAAAAAAAAAAAAAAAAAAAAAAAAAEBTHtq\\u002f\"},\"yaxis\":\"y2\",\"type\":\"scatter\"},{\"customdata\":[[\"Layer 0, Position 0, |\\u003c|endoftext|\\u003e|\"],[\"Layer 0, Position 1, |When|\"],[\"Layer 0, Position 2, | John|\"],[\"Layer 0, Position 3, | and|\"],[\"Layer 0, Position 4, | Mary|\"],[\"Layer 0, Position 5, | went|\"],[\"Layer 0, Position 6, | to|\"],[\"Layer 0, Position 7, | the|\"],[\"Layer 0, Position 8, | shops|\"],[\"Layer 0, Position 9, |,|\"],[\"Layer 0, Position 10, | John|\"],[\"Layer 0, Position 11, | gave|\"],[\"Layer 0, Position 12, | the|\"],[\"Layer 0, Position 13, | bag|\"],[\"Layer 0, Position 14, | to|\"],[\"Layer 1, Position 0, |\\u003c|endoftext|\\u003e|\"],[\"Layer 1, Position 1, |When|\"],[\"Layer 1, Position 2, | John|\"],[\"Layer 1, Position 3, | and|\"],[\"Layer 1, Position 4, | Mary|\"],[\"Layer 1, Position 5, | went|\"],[\"Layer 1, Position 6, | to|\"],[\"Layer 1, Position 7, | the|\"],[\"Layer 1, Position 8, | shops|\"],[\"Layer 1, Position 9, |,|\"],[\"Layer 1, Position 10, | John|\"],[\"Layer 1, Position 11, | gave|\"],[\"Layer 1, Position 12, | the|\"],[\"Layer 1, Position 13, | bag|\"],[\"Layer 1, Position 14, | to|\"],[\"Layer 2, Position 0, |\\u003c|endoftext|\\u003e|\"],[\"Layer 2, Position 1, |When|\"],[\"Layer 2, Position 2, | John|\"],[\"Layer 2, Position 3, | and|\"],[\"Layer 2, Position 4, | Mary|\"],[\"Layer 2, Position 5, | went|\"],[\"Layer 2, Position 6, | to|\"],[\"Layer 2, Position 7, | the|\"],[\"Layer 2, Position 8, | shops|\"],[\"Layer 2, Position 9, |,|\"],[\"Layer 2, Position 10, | John|\"],[\"Layer 2, Position 11, | gave|\"],[\"Layer 2, Position 12, | the|\"],[\"Layer 2, Position 13, | bag|\"],[\"Layer 2, Position 14, | to|\"],[\"Layer 3, Position 0, |\\u003c|endoftext|\\u003e|\"],[\"Layer 3, Position 1, |When|\"],[\"Layer 3, Position 2, | John|\"],[\"Layer 3, Position 3, | and|\"],[\"Layer 3, Position 4, | Mary|\"],[\"Layer 3, Position 5, | went|\"],[\"Layer 3, Position 6, | to|\"],[\"Layer 3, Position 7, | the|\"],[\"Layer 3, Position 8, | shops|\"],[\"Layer 3, Position 9, |,|\"],[\"Layer 3, Position 10, | John|\"],[\"Layer 3, Position 11, | gave|\"],[\"Layer 3, Position 12, | the|\"],[\"Layer 3, Position 13, | bag|\"],[\"Layer 3, Position 14, | to|\"],[\"Layer 4, Position 0, |\\u003c|endoftext|\\u003e|\"],[\"Layer 4, Position 1, |When|\"],[\"Layer 4, Position 2, | John|\"],[\"Layer 4, Position 3, | and|\"],[\"Layer 4, Position 4, | Mary|\"],[\"Layer 4, Position 5, | went|\"],[\"Layer 4, Position 6, | to|\"],[\"Layer 4, Position 7, | the|\"],[\"Layer 4, Position 8, | shops|\"],[\"Layer 4, Position 9, |,|\"],[\"Layer 4, Position 10, | John|\"],[\"Layer 4, Position 11, | gave|\"],[\"Layer 4, Position 12, | the|\"],[\"Layer 4, Position 13, | bag|\"],[\"Layer 4, Position 14, | to|\"],[\"Layer 5, Position 0, |\\u003c|endoftext|\\u003e|\"],[\"Layer 5, Position 1, |When|\"],[\"Layer 5, Position 2, | John|\"],[\"Layer 5, Position 3, | and|\"],[\"Layer 5, Position 4, | Mary|\"],[\"Layer 5, Position 5, | went|\"],[\"Layer 5, Position 6, | to|\"],[\"Layer 5, Position 7, | the|\"],[\"Layer 5, Position 8, | shops|\"],[\"Layer 5, Position 9, |,|\"],[\"Layer 5, Position 10, | John|\"],[\"Layer 5, Position 11, | gave|\"],[\"Layer 5, Position 12, | the|\"],[\"Layer 5, Position 13, | bag|\"],[\"Layer 5, Position 14, | to|\"],[\"Layer 6, Position 0, |\\u003c|endoftext|\\u003e|\"],[\"Layer 6, Position 1, |When|\"],[\"Layer 6, Position 2, | John|\"],[\"Layer 6, Position 3, | and|\"],[\"Layer 6, Position 4, | Mary|\"],[\"Layer 6, Position 5, | went|\"],[\"Layer 6, Position 6, | to|\"],[\"Layer 6, Position 7, | the|\"],[\"Layer 6, Position 8, | shops|\"],[\"Layer 6, Position 9, |,|\"],[\"Layer 6, Position 10, | John|\"],[\"Layer 6, Position 11, | gave|\"],[\"Layer 6, Position 12, | the|\"],[\"Layer 6, Position 13, | bag|\"],[\"Layer 6, Position 14, | to|\"],[\"Layer 7, Position 0, |\\u003c|endoftext|\\u003e|\"],[\"Layer 7, Position 1, |When|\"],[\"Layer 7, Position 2, | John|\"],[\"Layer 7, Position 3, | and|\"],[\"Layer 7, Position 4, | Mary|\"],[\"Layer 7, Position 5, | went|\"],[\"Layer 7, Position 6, | to|\"],[\"Layer 7, Position 7, | the|\"],[\"Layer 7, Position 8, | shops|\"],[\"Layer 7, Position 9, |,|\"],[\"Layer 7, Position 10, | John|\"],[\"Layer 7, Position 11, | gave|\"],[\"Layer 7, Position 12, | the|\"],[\"Layer 7, Position 13, | bag|\"],[\"Layer 7, Position 14, | to|\"],[\"Layer 8, Position 0, |\\u003c|endoftext|\\u003e|\"],[\"Layer 8, Position 1, |When|\"],[\"Layer 8, Position 2, | John|\"],[\"Layer 8, Position 3, | and|\"],[\"Layer 8, Position 4, | Mary|\"],[\"Layer 8, Position 5, | went|\"],[\"Layer 8, Position 6, | to|\"],[\"Layer 8, Position 7, | the|\"],[\"Layer 8, Position 8, | shops|\"],[\"Layer 8, Position 9, |,|\"],[\"Layer 8, Position 10, | John|\"],[\"Layer 8, Position 11, | gave|\"],[\"Layer 8, Position 12, | the|\"],[\"Layer 8, Position 13, | bag|\"],[\"Layer 8, Position 14, | to|\"],[\"Layer 9, Position 0, |\\u003c|endoftext|\\u003e|\"],[\"Layer 9, Position 1, |When|\"],[\"Layer 9, Position 2, | John|\"],[\"Layer 9, Position 3, | and|\"],[\"Layer 9, Position 4, | Mary|\"],[\"Layer 9, Position 5, | went|\"],[\"Layer 9, Position 6, | to|\"],[\"Layer 9, Position 7, | the|\"],[\"Layer 9, Position 8, | shops|\"],[\"Layer 9, Position 9, |,|\"],[\"Layer 9, Position 10, | John|\"],[\"Layer 9, Position 11, | gave|\"],[\"Layer 9, Position 12, | the|\"],[\"Layer 9, Position 13, | bag|\"],[\"Layer 9, Position 14, | to|\"],[\"Layer 10, Position 0, |\\u003c|endoftext|\\u003e|\"],[\"Layer 10, Position 1, |When|\"],[\"Layer 10, Position 2, | John|\"],[\"Layer 10, Position 3, | and|\"],[\"Layer 10, Position 4, | Mary|\"],[\"Layer 10, Position 5, | went|\"],[\"Layer 10, Position 6, | to|\"],[\"Layer 10, Position 7, | the|\"],[\"Layer 10, Position 8, | shops|\"],[\"Layer 10, Position 9, |,|\"],[\"Layer 10, Position 10, | John|\"],[\"Layer 10, Position 11, | gave|\"],[\"Layer 10, Position 12, | the|\"],[\"Layer 10, Position 13, | bag|\"],[\"Layer 10, Position 14, | to|\"],[\"Layer 11, Position 0, |\\u003c|endoftext|\\u003e|\"],[\"Layer 11, Position 1, |When|\"],[\"Layer 11, Position 2, | John|\"],[\"Layer 11, Position 3, | and|\"],[\"Layer 11, Position 4, | Mary|\"],[\"Layer 11, Position 5, | went|\"],[\"Layer 11, Position 6, | to|\"],[\"Layer 11, Position 7, | the|\"],[\"Layer 11, Position 8, | shops|\"],[\"Layer 11, Position 9, |,|\"],[\"Layer 11, Position 10, | John|\"],[\"Layer 11, Position 11, | gave|\"],[\"Layer 11, Position 12, | the|\"],[\"Layer 11, Position 13, | bag|\"],[\"Layer 11, Position 14, | to|\"]],\"hovertemplate\":\"facet=2\\u003cbr\\u003eActivation Patch=%{x}\\u003cbr\\u003eLRP Patch=%{y}\\u003cbr\\u003edata=%{customdata[0]}\\u003cbr\\u003eColor=%{marker.color}\\u003cextra\\u003e\\u003c\\u002fextra\\u003e\",\"legendgroup\":\"\",\"marker\":{\"color\":{\"dtype\":\"i1\",\"bdata\":\"AAAAAAAAAAAAAAAAAAAAAQEBAQEBAQEBAQEBAQEBAgICAgICAgICAgICAgICAwMDAwMDAwMDAwMDAwMDBAQEBAQEBAQEBAQEBAQEBQUFBQUFBQUFBQUFBQUFBgYGBgYGBgYGBgYGBgYGBwcHBwcHBwcHBwcHBwcHCAgICAgICAgICAgICAgICQkJCQkJCQkJCQkJCQkJCgoKCgoKCgoKCgoKCgoKCwsLCwsLCwsLCwsLCwsL\"},\"coloraxis\":\"coloraxis\",\"symbol\":\"circle\"},\"mode\":\"markers\",\"name\":\"\",\"orientation\":\"v\",\"showlegend\":false,\"x\":{\"dtype\":\"f4\",\"bdata\":\"AAAAAAAAAAAAAAAAAAAAAAAAAAAAAAAAAAAAAAAAAAAAAAAAAAAAAF3NWT\\u002ftpJG5R6qYuABE+Lk8qCc4AAAAAAAAAAAAAAAAAAAAAAAAAAAAAAAAAAAAAAAAAAAAAAAAAAAAACY\\u002fETxZhGg5j4UdOUwBSriRcJ85AAAAAAAAAAAAAAAAAAAAAAAAAAAAAAAAAAAAAAAAAAAAAAAAAAAAAI7\\u002fXTwl6XY4GNCsuWJHJ7r6sEo6AAAAAAAAAAAAAAAAAAAAAAAAAAAAAAAAAAAAAAAAAAAAAAAAAAAAAHhB\\u002fzqN8wI6ETE2ObQEMTn3BdY5AAAAAAAAAAAAAAAAAAAAAAAAAAAAAAAAAAAAAAAAAAAAAAAAAAAAACYXorxBSIc7HRpNuOGvMbl8c086AAAAAAAAAAAAAAAAAAAAAAAAAAAAAAAAAAAAAAAAAAAAAAAAAAAAAK+uxT0bxfa6XnD9uVobOjq+U0C5AAAAAAAAAAAAAAAAAAAAAAAAAAAAAAAAAAAAAAAAAAAAAAAAAAAAALs+grwEvl66QdMBORr48jc7Le27AAAAAAAAAAAAAAAAAAAAAAAAAAAAAAAAAAAAAAAAAAAAAAAAAAAAAI7BKTyNh047+TELOj9MdzlPOAs8AAAAAAAAAAAAAAAAAAAAAAAAAAAAAAAAAAAAAAAAAAAAAAAAAAAAAIFWTbzziLk3YUW5ub71tDgPNbG8AAAAAAAAAAAAAAAAAAAAAAAAAAAAAAAAAAAAAAAAAAAAAAAAAAAAALMZr7lCSlQ6eTyKN8aYBzlviAE9AAAAAAAAAAAAAAAAAAAAAAAAAAAAAAAAAAAAAAAAAAAAAAAAAAAAAOU1sjqoYEu5gZTOuB5EFLkpous8AAAAAAAAAAAAAAAAAAAAAAAAAAAAAAAAAAAAAAAAAAAAAAAAAAAAAAAAAAAAAAAAAAAAAAAAAAB+g6c8\"},\"xaxis\":\"x3\",\"y\":{\"dtype\":\"f8\",\"bdata\":\"AAAAAAAAAAAAAAAAAAAAAAAAAAAAAAAAAAAAAAAAAAAAAAAAAAAAAAAAAAAAAAAAAAAAAAAAAAAAAAAAAAAAAAAAAAAAAAAAAAAAAAAAAAAAAADAfCbhPwAAAIAcASc\\u002fAAAAIHmVMb8AAADgX7BEvwAAAAAYZl2\\u002fAAAAAAAAAAAAAAAAAAAAAAAAAAAAAAAAAAAAAAAAAAAAAAAAAAAAAAAAAAAAAAAAAAAAAAAAAAAAAAAAAAAAAAAAAAAAAAAAAAAAAAAAAAAAAABA1KygPwAAAICD61U\\u002fAAAAIFG6Qz8AAACAlET3vgAAAAAa5D8\\u002fAAAAAAAAAAAAAAAAAAAAAAAAAAAAAAAAAAAAAAAAAAAAAAAAAAAAAAAAAAAAAAAAAAAAAAAAAAAAAAAAAAAAAAAAAAAAAAAAAAAAAAAAAAAAAABAjnOhPwAAAIB4m1W\\u002fAAAAQAr5Qb8AAAAAUKcHvwAAAKDCJ0Q\\u002fAAAAAAAAAAAAAAAAAAAAAAAAAAAAAAAAAAAAAAAAAAAAAAAAAAAAAAAAAAAAAAAAAAAAAAAAAAAAAAAAAAAAAAAAAAAAAAAAAAAAAAAAAAAAAABAekurPwAAAAAPvDo\\u002fAAAAAAYrNj8AAABA4n4nvwAAAMAJl0E\\u002fAAAAAAAAAAAAAAAAAAAAAAAAAAAAAAAAAAAAAAAAAAAAAAAAAAAAAAAAAAAAAAAAAAAAAAAAAAAAAAAAAAAAAAAAAAAAAAAAAAAAAAAAAAAAAAAgCNhwPwAAAAAKJm0\\u002fAAAAAOGkIT8AAACAFRUqvwAAAEBGYl0\\u002fAAAAAAAAAAAAAAAAAAAAAAAAAAAAAAAAAAAAAAAAAAAAAAAAAAAAAAAAAAAAAAAAAAAAAAAAAAAAAAAAAAAAAAAAAAAAAAAAAAAAAAAAAAAAAAAAxOy5PwAAAEAcx26\\u002fAAAAgPxrOb8AAABAdo9PPwAAAECOZia\\u002fAAAAAAAAAAAAAAAAAAAAAAAAAAAAAAAAAAAAAAAAAAAAAAAAAAAAAAAAAAAAAAAAAAAAAAAAAAAAAAAAAAAAAAAAAAAAAAAAAAAAAAAAAAAAAADgb8+UvwAAACAynmi\\u002fAAAAQGQnID8AAADAVjkAPwAAACDManK\\u002fAAAAAAAAAAAAAAAAAAAAAAAAAAAAAAAAAAAAAAAAAAAAAAAAAAAAAAAAAAAAAAAAAAAAAAAAAAAAAAAAAAAAAAAAAAAAAAAAAAAAAAAAAAAAAABAQ01CvwAAAOBE42A\\u002fAAAAwCd3MT8AAABglKsvPwAAAIC1KWg\\u002fAAAAAAAAAAAAAAAAAAAAAAAAAAAAAAAAAAAAAAAAAAAAAAAAAAAAAAAAAAAAAAAAAAAAAAAAAAAAAAAAAAAAAAAAAAAAAAAAAAAAAAAAAAAAAABgCB2HvwAAAOAlPDa\\u002fAAAAII7TOL8AAAAAxTf9PgAAAEDeWnW\\u002fAAAAAAAAAAAAAAAAAAAAAAAAAAAAAAAAAAAAAAAAAAAAAAAAAAAAAAAAAAAAAAAAAAAAAAAAAAAAAAAAAAAAAAAAAAAAAAAAAAAAAAAAAAAAAAAAomZPPwAAAIABCkM\\u002fAAAAYCC2974AAACgDysePwAAAADrEqA\\u002fAAAAAAAAAAAAAAAAAAAAAAAAAAAAAAAAAAAAAAAAAAAAAAAAAAAAAAAAAAAAAAAAAAAAAAAAAAAAAAAAAAAAAAAAAAAAAAAAAAAAAAAAAAAAAAAAFogaPwAAAEDDfTc\\u002fAAAA4I1vFL8AAACArZYqvwAAAMAL\\u002fqA\\u002fAAAAAAAAAAAAAAAAAAAAAAAAAAAAAAAAAAAAAAAAAAAAAAAAAAAAAAAAAAAAAAAAAAAAAAAAAAAAAAAAAAAAAAAAAAAAAAAAAAAAAAAAAAAAAAAAAAAAAAAAAAAAAAAAAAAAAAAAAAAAAAAAAAAAAAAAAOChTp8\\u002f\"},\"yaxis\":\"y3\",\"type\":\"scatter\"}],                        {\"template\":{\"data\":{\"histogram2dcontour\":[{\"type\":\"histogram2dcontour\",\"colorbar\":{\"outlinewidth\":0,\"ticks\":\"\"},\"colorscale\":[[0.0,\"#0d0887\"],[0.1111111111111111,\"#46039f\"],[0.2222222222222222,\"#7201a8\"],[0.3333333333333333,\"#9c179e\"],[0.4444444444444444,\"#bd3786\"],[0.5555555555555556,\"#d8576b\"],[0.6666666666666666,\"#ed7953\"],[0.7777777777777778,\"#fb9f3a\"],[0.8888888888888888,\"#fdca26\"],[1.0,\"#f0f921\"]]}],\"choropleth\":[{\"type\":\"choropleth\",\"colorbar\":{\"outlinewidth\":0,\"ticks\":\"\"}}],\"histogram2d\":[{\"type\":\"histogram2d\",\"colorbar\":{\"outlinewidth\":0,\"ticks\":\"\"},\"colorscale\":[[0.0,\"#0d0887\"],[0.1111111111111111,\"#46039f\"],[0.2222222222222222,\"#7201a8\"],[0.3333333333333333,\"#9c179e\"],[0.4444444444444444,\"#bd3786\"],[0.5555555555555556,\"#d8576b\"],[0.6666666666666666,\"#ed7953\"],[0.7777777777777778,\"#fb9f3a\"],[0.8888888888888888,\"#fdca26\"],[1.0,\"#f0f921\"]]}],\"heatmap\":[{\"type\":\"heatmap\",\"colorbar\":{\"outlinewidth\":0,\"ticks\":\"\"},\"colorscale\":[[0.0,\"#0d0887\"],[0.1111111111111111,\"#46039f\"],[0.2222222222222222,\"#7201a8\"],[0.3333333333333333,\"#9c179e\"],[0.4444444444444444,\"#bd3786\"],[0.5555555555555556,\"#d8576b\"],[0.6666666666666666,\"#ed7953\"],[0.7777777777777778,\"#fb9f3a\"],[0.8888888888888888,\"#fdca26\"],[1.0,\"#f0f921\"]]}],\"contourcarpet\":[{\"type\":\"contourcarpet\",\"colorbar\":{\"outlinewidth\":0,\"ticks\":\"\"}}],\"contour\":[{\"type\":\"contour\",\"colorbar\":{\"outlinewidth\":0,\"ticks\":\"\"},\"colorscale\":[[0.0,\"#0d0887\"],[0.1111111111111111,\"#46039f\"],[0.2222222222222222,\"#7201a8\"],[0.3333333333333333,\"#9c179e\"],[0.4444444444444444,\"#bd3786\"],[0.5555555555555556,\"#d8576b\"],[0.6666666666666666,\"#ed7953\"],[0.7777777777777778,\"#fb9f3a\"],[0.8888888888888888,\"#fdca26\"],[1.0,\"#f0f921\"]]}],\"surface\":[{\"type\":\"surface\",\"colorbar\":{\"outlinewidth\":0,\"ticks\":\"\"},\"colorscale\":[[0.0,\"#0d0887\"],[0.1111111111111111,\"#46039f\"],[0.2222222222222222,\"#7201a8\"],[0.3333333333333333,\"#9c179e\"],[0.4444444444444444,\"#bd3786\"],[0.5555555555555556,\"#d8576b\"],[0.6666666666666666,\"#ed7953\"],[0.7777777777777778,\"#fb9f3a\"],[0.8888888888888888,\"#fdca26\"],[1.0,\"#f0f921\"]]}],\"mesh3d\":[{\"type\":\"mesh3d\",\"colorbar\":{\"outlinewidth\":0,\"ticks\":\"\"}}],\"scatter\":[{\"fillpattern\":{\"fillmode\":\"overlay\",\"size\":10,\"solidity\":0.2},\"type\":\"scatter\"}],\"parcoords\":[{\"type\":\"parcoords\",\"line\":{\"colorbar\":{\"outlinewidth\":0,\"ticks\":\"\"}}}],\"scatterpolargl\":[{\"type\":\"scatterpolargl\",\"marker\":{\"colorbar\":{\"outlinewidth\":0,\"ticks\":\"\"}}}],\"bar\":[{\"error_x\":{\"color\":\"#2a3f5f\"},\"error_y\":{\"color\":\"#2a3f5f\"},\"marker\":{\"line\":{\"color\":\"#E5ECF6\",\"width\":0.5},\"pattern\":{\"fillmode\":\"overlay\",\"size\":10,\"solidity\":0.2}},\"type\":\"bar\"}],\"scattergeo\":[{\"type\":\"scattergeo\",\"marker\":{\"colorbar\":{\"outlinewidth\":0,\"ticks\":\"\"}}}],\"scatterpolar\":[{\"type\":\"scatterpolar\",\"marker\":{\"colorbar\":{\"outlinewidth\":0,\"ticks\":\"\"}}}],\"histogram\":[{\"marker\":{\"pattern\":{\"fillmode\":\"overlay\",\"size\":10,\"solidity\":0.2}},\"type\":\"histogram\"}],\"scattergl\":[{\"type\":\"scattergl\",\"marker\":{\"colorbar\":{\"outlinewidth\":0,\"ticks\":\"\"}}}],\"scatter3d\":[{\"type\":\"scatter3d\",\"line\":{\"colorbar\":{\"outlinewidth\":0,\"ticks\":\"\"}},\"marker\":{\"colorbar\":{\"outlinewidth\":0,\"ticks\":\"\"}}}],\"scattermap\":[{\"type\":\"scattermap\",\"marker\":{\"colorbar\":{\"outlinewidth\":0,\"ticks\":\"\"}}}],\"scattermapbox\":[{\"type\":\"scattermapbox\",\"marker\":{\"colorbar\":{\"outlinewidth\":0,\"ticks\":\"\"}}}],\"scatterternary\":[{\"type\":\"scatterternary\",\"marker\":{\"colorbar\":{\"outlinewidth\":0,\"ticks\":\"\"}}}],\"scattercarpet\":[{\"type\":\"scattercarpet\",\"marker\":{\"colorbar\":{\"outlinewidth\":0,\"ticks\":\"\"}}}],\"carpet\":[{\"aaxis\":{\"endlinecolor\":\"#2a3f5f\",\"gridcolor\":\"white\",\"linecolor\":\"white\",\"minorgridcolor\":\"white\",\"startlinecolor\":\"#2a3f5f\"},\"baxis\":{\"endlinecolor\":\"#2a3f5f\",\"gridcolor\":\"white\",\"linecolor\":\"white\",\"minorgridcolor\":\"white\",\"startlinecolor\":\"#2a3f5f\"},\"type\":\"carpet\"}],\"table\":[{\"cells\":{\"fill\":{\"color\":\"#EBF0F8\"},\"line\":{\"color\":\"white\"}},\"header\":{\"fill\":{\"color\":\"#C8D4E3\"},\"line\":{\"color\":\"white\"}},\"type\":\"table\"}],\"barpolar\":[{\"marker\":{\"line\":{\"color\":\"#E5ECF6\",\"width\":0.5},\"pattern\":{\"fillmode\":\"overlay\",\"size\":10,\"solidity\":0.2}},\"type\":\"barpolar\"}],\"pie\":[{\"automargin\":true,\"type\":\"pie\"}]},\"layout\":{\"autotypenumbers\":\"strict\",\"colorway\":[\"#636efa\",\"#EF553B\",\"#00cc96\",\"#ab63fa\",\"#FFA15A\",\"#19d3f3\",\"#FF6692\",\"#B6E880\",\"#FF97FF\",\"#FECB52\"],\"font\":{\"color\":\"#2a3f5f\"},\"hovermode\":\"closest\",\"hoverlabel\":{\"align\":\"left\"},\"paper_bgcolor\":\"white\",\"plot_bgcolor\":\"#E5ECF6\",\"polar\":{\"bgcolor\":\"#E5ECF6\",\"angularaxis\":{\"gridcolor\":\"white\",\"linecolor\":\"white\",\"ticks\":\"\"},\"radialaxis\":{\"gridcolor\":\"white\",\"linecolor\":\"white\",\"ticks\":\"\"}},\"ternary\":{\"bgcolor\":\"#E5ECF6\",\"aaxis\":{\"gridcolor\":\"white\",\"linecolor\":\"white\",\"ticks\":\"\"},\"baxis\":{\"gridcolor\":\"white\",\"linecolor\":\"white\",\"ticks\":\"\"},\"caxis\":{\"gridcolor\":\"white\",\"linecolor\":\"white\",\"ticks\":\"\"}},\"coloraxis\":{\"colorbar\":{\"outlinewidth\":0,\"ticks\":\"\"}},\"colorscale\":{\"sequential\":[[0.0,\"#0d0887\"],[0.1111111111111111,\"#46039f\"],[0.2222222222222222,\"#7201a8\"],[0.3333333333333333,\"#9c179e\"],[0.4444444444444444,\"#bd3786\"],[0.5555555555555556,\"#d8576b\"],[0.6666666666666666,\"#ed7953\"],[0.7777777777777778,\"#fb9f3a\"],[0.8888888888888888,\"#fdca26\"],[1.0,\"#f0f921\"]],\"sequentialminus\":[[0.0,\"#0d0887\"],[0.1111111111111111,\"#46039f\"],[0.2222222222222222,\"#7201a8\"],[0.3333333333333333,\"#9c179e\"],[0.4444444444444444,\"#bd3786\"],[0.5555555555555556,\"#d8576b\"],[0.6666666666666666,\"#ed7953\"],[0.7777777777777778,\"#fb9f3a\"],[0.8888888888888888,\"#fdca26\"],[1.0,\"#f0f921\"]],\"diverging\":[[0,\"#8e0152\"],[0.1,\"#c51b7d\"],[0.2,\"#de77ae\"],[0.3,\"#f1b6da\"],[0.4,\"#fde0ef\"],[0.5,\"#f7f7f7\"],[0.6,\"#e6f5d0\"],[0.7,\"#b8e186\"],[0.8,\"#7fbc41\"],[0.9,\"#4d9221\"],[1,\"#276419\"]]},\"xaxis\":{\"gridcolor\":\"white\",\"linecolor\":\"white\",\"ticks\":\"\",\"title\":{\"standoff\":15},\"zerolinecolor\":\"white\",\"automargin\":true,\"zerolinewidth\":2},\"yaxis\":{\"gridcolor\":\"white\",\"linecolor\":\"white\",\"ticks\":\"\",\"title\":{\"standoff\":15},\"zerolinecolor\":\"white\",\"automargin\":true,\"zerolinewidth\":2},\"scene\":{\"xaxis\":{\"backgroundcolor\":\"#E5ECF6\",\"gridcolor\":\"white\",\"linecolor\":\"white\",\"showbackground\":true,\"ticks\":\"\",\"zerolinecolor\":\"white\",\"gridwidth\":2},\"yaxis\":{\"backgroundcolor\":\"#E5ECF6\",\"gridcolor\":\"white\",\"linecolor\":\"white\",\"showbackground\":true,\"ticks\":\"\",\"zerolinecolor\":\"white\",\"gridwidth\":2},\"zaxis\":{\"backgroundcolor\":\"#E5ECF6\",\"gridcolor\":\"white\",\"linecolor\":\"white\",\"showbackground\":true,\"ticks\":\"\",\"zerolinecolor\":\"white\",\"gridwidth\":2}},\"shapedefaults\":{\"line\":{\"color\":\"#2a3f5f\"}},\"annotationdefaults\":{\"arrowcolor\":\"#2a3f5f\",\"arrowhead\":0,\"arrowwidth\":1},\"geo\":{\"bgcolor\":\"white\",\"landcolor\":\"#E5ECF6\",\"subunitcolor\":\"white\",\"showland\":true,\"showlakes\":true,\"lakecolor\":\"white\"},\"title\":{\"x\":0.05},\"mapbox\":{\"style\":\"light\"}}},\"xaxis\":{\"anchor\":\"y\",\"domain\":[0.0,0.31999999999999995],\"title\":{\"text\":\"Activation Patch\"}},\"yaxis\":{\"anchor\":\"x\",\"domain\":[0.0,1.0],\"title\":{\"text\":\"LRP Patch\"}},\"xaxis2\":{\"anchor\":\"y2\",\"domain\":[0.33999999999999997,0.6599999999999999],\"matches\":\"x\",\"title\":{\"text\":\"Activation Patch\"}},\"yaxis2\":{\"anchor\":\"x2\",\"domain\":[0.0,1.0],\"matches\":\"y\",\"showticklabels\":false},\"xaxis3\":{\"anchor\":\"y3\",\"domain\":[0.6799999999999999,0.9999999999999999],\"matches\":\"x\",\"title\":{\"text\":\"Activation Patch\"}},\"yaxis3\":{\"anchor\":\"x3\",\"domain\":[0.0,1.0],\"matches\":\"y\",\"showticklabels\":false},\"annotations\":[{\"font\":{},\"showarrow\":false,\"text\":\"Residual Stream\",\"x\":0.15999999999999998,\"xanchor\":\"center\",\"xref\":\"paper\",\"y\":1.0,\"yanchor\":\"bottom\",\"yref\":\"paper\"},{\"font\":{},\"showarrow\":false,\"text\":\"Attn Output\",\"x\":0.49999999999999994,\"xanchor\":\"center\",\"xref\":\"paper\",\"y\":1.0,\"yanchor\":\"bottom\",\"yref\":\"paper\"},{\"font\":{},\"showarrow\":false,\"text\":\"MLP Output\",\"x\":0.8399999999999999,\"xanchor\":\"center\",\"xref\":\"paper\",\"y\":1.0,\"yanchor\":\"bottom\",\"yref\":\"paper\"}],\"coloraxis\":{\"colorbar\":{\"title\":{\"text\":\"Color\"}},\"colorscale\":[[0.0,\"rgb(12,51,131)\"],[0.25,\"rgb(10,136,186)\"],[0.5,\"rgb(242,211,56)\"],[0.75,\"rgb(242,143,56)\"],[1.0,\"rgb(217,30,30)\"]]},\"legend\":{\"tracegroupgap\":0},\"title\":{\"text\":\"LRP vs Activation Patching Per Block\"}},                        {\"responsive\": true}                    ).then(function(){\n",
       "                            \n",
       "var gd = document.getElementById('e140d8af-2a1d-431f-88dc-4dba7bc16e8f');\n",
       "var x = new MutationObserver(function (mutations, observer) {{\n",
       "        var display = window.getComputedStyle(gd).display;\n",
       "        if (!display || display === 'none') {{\n",
       "            console.log([gd, 'removed!']);\n",
       "            Plotly.purge(gd);\n",
       "            observer.disconnect();\n",
       "        }}\n",
       "}});\n",
       "\n",
       "// Listen for the removal of the full notebook cells\n",
       "var notebookContainer = gd.closest('#notebook-container');\n",
       "if (notebookContainer) {{\n",
       "    x.observe(notebookContainer, {childList: true});\n",
       "}}\n",
       "\n",
       "// Listen for the clearing of the current output cell\n",
       "var outputEl = gd.closest('.output');\n",
       "if (outputEl) {{\n",
       "    x.observe(outputEl, {childList: true});\n",
       "}}\n",
       "\n",
       "                        })                };            </script>        </div>\n",
       "</body>\n",
       "</html>"
      ]
     },
     "metadata": {},
     "output_type": "display_data"
    }
   ],
   "source": [
    "scatter(\n",
    "    y=every_block_attr_patch_result.reshape(3, -1),\n",
    "    x=every_block_act_patch_result.reshape(3, -1),\n",
    "    facet_col=0,\n",
    "    facet_labels=[\"Residual Stream\", \"Attn Output\", \"MLP Output\"],\n",
    "    title=\"LRP vs Activation Patching Per Block\",\n",
    "    xaxis=\"Activation Patch\",\n",
    "    yaxis=\"LRP Patch\",\n",
    "    hover=[\n",
    "        f\"Layer {l}, Position {p}, |{str_tokens[p]}|\"\n",
    "        for l in range(model.cfg.n_layers)\n",
    "        for p in range(context_length)\n",
    "    ],\n",
    "    color=einops.repeat(\n",
    "        torch.arange(model.cfg.n_layers), \"layer -> (layer pos)\", pos=context_length\n",
    "    ),\n",
    "    color_continuous_scale=\"Portland\",\n",
    ")"
   ]
  }
 ],
 "metadata": {
  "kernelspec": {
   "display_name": "Python 3 (ipykernel)",
   "language": "python",
   "name": "python3"
  },
  "language_info": {
   "codemirror_mode": {
    "name": "ipython",
    "version": 3
   },
   "file_extension": ".py",
   "mimetype": "text/x-python",
   "name": "python",
   "nbconvert_exporter": "python",
   "pygments_lexer": "ipython3",
   "version": "3.10.6"
  }
 },
 "nbformat": 4,
 "nbformat_minor": 5
}
